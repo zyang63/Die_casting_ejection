{
  "cells": [
    {
      "cell_type": "markdown",
      "metadata": {
        "id": "view-in-github",
        "colab_type": "text"
      },
      "source": [
        "<a href=\"https://colab.research.google.com/github/zyang63/Die_casting_ejection/blob/main/Ejection_parting_line_marking.ipynb\" target=\"_parent\"><img src=\"https://colab.research.google.com/assets/colab-badge.svg\" alt=\"Open In Colab\"/></a>"
      ]
    },
    {
      "cell_type": "code",
      "execution_count": 1,
      "metadata": {
        "id": "fSWuUINvrHbN"
      },
      "outputs": [],
      "source": [
        "%%capture\n",
        "!pip install open3d\n",
        "!pip install SimpleITK\n",
        "!pip install scipy\n",
        "!pip install bpy\n",
        "!pip install numpy pillow"
      ]
    },
    {
      "cell_type": "code",
      "execution_count": 2,
      "metadata": {
        "id": "FBEcWCVjq-YP"
      },
      "outputs": [],
      "source": [
        "import os\n",
        "import bpy\n",
        "import math\n",
        "import numpy as np\n",
        "from PIL import Image, ImageDraw\n",
        "import open3d as o3d\n",
        "import SimpleITK as sitk\n",
        "from scipy import ndimage\n",
        "import cv2"
      ]
    },
    {
      "cell_type": "code",
      "execution_count": 3,
      "metadata": {
        "id": "RwzIYcTduok5",
        "colab": {
          "base_uri": "https://localhost:8080/",
          "height": 49,
          "referenced_widgets": [
            "8eb3712296e74c449da08dc914b1a084",
            "48c5a219d1964e47b0c240e008bc6832",
            "5baf4544d1b04d46bc5cac5cd8540e0b",
            "4669cb3074a64b228fbd8f070aa5646b",
            "e455e19413bf4777b7e70f320135b238"
          ]
        },
        "outputId": "2dc2ead4-1318-4bb1-8070-a8443a6192fc"
      },
      "outputs": [
        {
          "output_type": "display_data",
          "data": {
            "text/plain": [
              "Button(description='Google upload dialog', style=ButtonStyle())"
            ],
            "application/vnd.jupyter.widget-view+json": {
              "version_major": 2,
              "version_minor": 0,
              "model_id": "8eb3712296e74c449da08dc914b1a084"
            }
          },
          "metadata": {}
        },
        {
          "output_type": "display_data",
          "data": {
            "text/plain": [
              "Output()"
            ],
            "application/vnd.jupyter.widget-view+json": {
              "version_major": 2,
              "version_minor": 0,
              "model_id": "4669cb3074a64b228fbd8f070aa5646b"
            }
          },
          "metadata": {}
        }
      ],
      "source": [
        "import ipywidgets as widgets\n",
        "from IPython.display import display\n",
        "from google.colab import files\n",
        "#@title #File Entry { display-mode: \"form\"}\n",
        "#@markdown User can choose to upload the file to colab directly or select the google file upload button at the bottom of this form. Also choose the number of elements.\n",
        "\n",
        "button_pressed = False  # Initialize the variable as False\n",
        "filename = \"\"\n",
        "button = widgets.Button(description=\"Google upload dialog\")\n",
        "output = widgets.Output()\n",
        "\n",
        "def on_button_clicked(b):\n",
        "    global button_pressed  # Access the global variable\n",
        "    global filename\n",
        "    with output:\n",
        "        uploaded = files.upload()\n",
        "        filename = list(uploaded.keys())[0]\n",
        "        button_pressed = True  # Set the variable to True when the button is clicked\n",
        "\n",
        "button.on_click(on_button_clicked)\n",
        "display(button, output)"
      ]
    },
    {
      "cell_type": "code",
      "execution_count": 4,
      "metadata": {
        "id": "TKnpn0djrUR_",
        "colab": {
          "base_uri": "https://localhost:8080/"
        },
        "outputId": "6850b1c7-2673-414e-8471-b5ea20930095"
      },
      "outputs": [
        {
          "output_type": "stream",
          "name": "stdout",
          "text": [
            "Element size is in units from stl file  0.8853973579406739  per cell\n"
          ]
        }
      ],
      "source": [
        "#@title #Element Count { display-mode: \"form\", run: \"auto\" }\n",
        "if not button_pressed:\n",
        "    filename = \"/content/Balance_Shaft_Housing_Full_Shot parts - 8M0111257.stl\" #@param {type:\"string\"}\n",
        "element_count = 200 #@param {type:\"slider\", min:10, max:500, step:1}\n",
        "geometry = o3d.io.read_triangle_mesh(os.path.join(os.getcwd(),filename))\n",
        "max_boundary_size = (geometry.get_max_bound()-geometry.get_min_bound()).max()\n",
        "mid_boundary_size = np.median(geometry.get_max_bound() - geometry.get_min_bound())\n",
        "voxel_size = max_boundary_size/element_count\n",
        "print(\"Element size is in units from stl file \",voxel_size, \" per cell\")\n",
        "origin = geometry.get_min_bound()"
      ]
    },
    {
      "cell_type": "code",
      "execution_count": 5,
      "metadata": {
        "id": "Jnit-S1hnneA"
      },
      "outputs": [],
      "source": [
        "rotation_angle = 30\n",
        "Mu = 0.6\n",
        "unit = 0.001"
      ]
    },
    {
      "cell_type": "code",
      "source": [
        "obj_file_path = '/content/remeshed_uv.obj'\n",
        "blender_file_path = '/content/meshed_geometry.blend'\n",
        "ejection_coefficient_map_path = '/content/ejection_coefficient_map.png'\n",
        "parting_line_map_path = '/content/parting_line_map.png'\n",
        "ejection_coefficient_result_path = '/content/colored_ejection_coefficient.glb'\n",
        "parting_line_result_path = '/content/colored_parting_line.glb'"
      ],
      "metadata": {
        "id": "2d1ZtQeY6Anq"
      },
      "execution_count": 6,
      "outputs": []
    },
    {
      "cell_type": "markdown",
      "metadata": {
        "id": "QBSS5dji0kSs"
      },
      "source": [
        "# Remesh and output OBJ file"
      ]
    },
    {
      "cell_type": "code",
      "source": [
        "bpy.ops.wm.read_factory_settings(use_empty=True)\n",
        "bpy.ops.import_mesh.stl(filepath= filename, global_scale = unit)\n",
        "bpy.ops.object.modifier_add(type='REMESH')\n",
        "bpy.context.object.modifiers[\"Remesh\"].mode = 'VOXEL'\n",
        "bpy.context.object.modifiers[\"Remesh\"].voxel_size = voxel_size * unit\n",
        "bpy.ops.object.modifier_apply(modifier=\"Remesh\")\n",
        "bpy.ops.object.mode_set(mode='EDIT')\n",
        "bpy.ops.mesh.select_all(action='SELECT')\n",
        "bpy.ops.uv.smart_project()\n",
        "bpy.ops.object.mode_set(mode='OBJECT')\n",
        "selected_object = bpy.context.object\n",
        "for obj in bpy.context.selected_objects:\n",
        "    if obj.type == \"MESH\":\n",
        "        bpy.ops.wm.obj_export(filepath= obj_file_path, export_triangulated_mesh=False, export_materials=False)\n",
        "bpy.ops.wm.save_as_mainfile(filepath = blender_file_path)"
      ],
      "metadata": {
        "colab": {
          "base_uri": "https://localhost:8080/"
        },
        "id": "t4oJeZWiXfNy",
        "outputId": "73b334de-f54b-4a8a-fc97-1cb9b8e74dbe"
      },
      "execution_count": 7,
      "outputs": [
        {
          "output_type": "stream",
          "name": "stdout",
          "text": [
            "Import finished in 12.1001 sec.\n",
            "Info: Saved \"meshed_geometry.blend\"\n"
          ]
        },
        {
          "output_type": "execute_result",
          "data": {
            "text/plain": [
              "{'FINISHED'}"
            ]
          },
          "metadata": {},
          "execution_count": 7
        }
      ]
    },
    {
      "cell_type": "markdown",
      "source": [
        "# Process OBJ file"
      ],
      "metadata": {
        "id": "mmh3652fpovO"
      }
    },
    {
      "cell_type": "code",
      "source": [
        "def process_obj(obj_file_path):\n",
        "    vertices, faces, vt_coordinates, vt_faces = [], [], [], []\n",
        "    with open(obj_file_path, 'r') as obj_file:\n",
        "        for line in obj_file:\n",
        "            parts = line.split()\n",
        "            if parts[0] == 'v':\n",
        "                vertices.append(list(map(float, parts[1:4])))\n",
        "            elif parts[0] == 'f':\n",
        "                f, vt_f = zip(*((int(x.split('/')[0]) - 1, int(x.split('/')[1]) - 1) for x in parts[1:]))\n",
        "                faces.append(f), vt_faces.append(vt_f)\n",
        "            elif parts[0] == 'vt':\n",
        "                vt_coordinates.append(list(map(float, parts[1:])))\n",
        "    return vertices, faces, vt_coordinates, vt_faces"
      ],
      "metadata": {
        "id": "um3yDv9WGukF"
      },
      "execution_count": 8,
      "outputs": []
    },
    {
      "cell_type": "code",
      "source": [
        "vertices, faces, vt_coordinates, vt_faces = process_obj(obj_file_path)"
      ],
      "metadata": {
        "id": "0I-QJM9MpyYO"
      },
      "execution_count": 9,
      "outputs": []
    },
    {
      "cell_type": "markdown",
      "metadata": {
        "id": "OJgdbwez0v4H"
      },
      "source": [
        "# Ejection coefficient calculation"
      ]
    },
    {
      "cell_type": "code",
      "source": [
        "def ejection_coefficient_calculation(selected_axis_data, vertices, faces, Mu, unit):\n",
        "    direction, num_eject_faces = np.array(selected_axis_data), 0\n",
        "    a_list, Phi_list = [], []\n",
        "    for face in faces:\n",
        "        normal = np.cross(*(np.array(vertices[face[i]]) - np.array(vertices[face[0]]) for i in (1, 2)))\n",
        "        cosine = np.dot(normal / np.linalg.norm(normal), direction / np.linalg.norm(direction))\n",
        "        a = Mu * np.sqrt(1 - cosine**2) - cosine\n",
        "        num_eject_faces += (0 <= a <= Mu)\n",
        "        a_list.append(a)\n",
        "    Phi_list = [num_eject_faces * (unit**2) * a for a in a_list]\n",
        "    return Phi_list, max((Phi for Phi in Phi_list if Phi <= Mu * num_eject_faces * (unit**2)), default=None)"
      ],
      "metadata": {
        "id": "kKo2is-oGvfP"
      },
      "execution_count": 10,
      "outputs": []
    },
    {
      "cell_type": "markdown",
      "metadata": {
        "id": "otqgo0DrzCxM"
      },
      "source": [
        "#Optimize ejection direction\n"
      ]
    },
    {
      "cell_type": "code",
      "execution_count": 11,
      "metadata": {
        "id": "QSuknZJbrpA0"
      },
      "outputs": [],
      "source": [
        "def ejection_force_rotation(rotation_angle):\n",
        "    def rotation_matrix(axis, theta):\n",
        "        theta = np.radians(theta)\n",
        "        if axis == 'x':\n",
        "            return np.array([[1, 0, 0], [0, np.cos(theta), -np.sin(theta)], [0, np.sin(theta), np.cos(theta)]])\n",
        "        elif axis == 'y':\n",
        "            return np.array([[np.cos(theta), 0, np.sin(theta)], [0, 1, 0], [-np.sin(theta), 0, np.cos(theta)]])\n",
        "        elif axis == 'z':\n",
        "            return np.array([[np.cos(theta), -np.sin(theta), 0], [np.sin(theta), np.cos(theta), 0], [0, 0, 1]])\n",
        "    unique_rotations = {}\n",
        "    for theta_x in range(0, 360 + rotation_angle, rotation_angle):\n",
        "        for theta_y in range(0, 360 + rotation_angle, rotation_angle):\n",
        "            for theta_z in range(0, 360 + rotation_angle, rotation_angle):\n",
        "                rotated_vector = np.dot(rotation_matrix('x', theta_x),\n",
        "                                        np.dot(rotation_matrix('y', theta_y),\n",
        "                                               np.dot(rotation_matrix('z', theta_z), np.array([0, 1, 0]))))\n",
        "                rotated_vector = tuple(np.where(np.abs(rotated_vector) < 0.001, 0, rotated_vector))\n",
        "                unique_rotations.setdefault(rotated_vector, (theta_x, theta_y, theta_z))\n",
        "    unique_angles_list = list(unique_rotations.values())\n",
        "    unique_vectors_list = [list(vec) for vec in unique_rotations.keys()]\n",
        "    return unique_angles_list, unique_vectors_list"
      ]
    },
    {
      "cell_type": "code",
      "source": [
        "directions = ejection_force_rotation(rotation_angle)[1]\n",
        "rotation_max_Phi = [ejection_coefficient_calculation(direction, vertices, faces, Mu, unit)[-1] for direction in directions]\n",
        "#print(directions)\n",
        "#print(rotation_max_Phi)"
      ],
      "metadata": {
        "colab": {
          "base_uri": "https://localhost:8080/",
          "height": 356
        },
        "id": "_4RQYxpoxE-r",
        "outputId": "7077accb-abaa-4538-d30c-a898d4e9ec75"
      },
      "execution_count": 14,
      "outputs": [
        {
          "output_type": "error",
          "ename": "KeyboardInterrupt",
          "evalue": "",
          "traceback": [
            "\u001b[0;31m---------------------------------------------------------------------------\u001b[0m",
            "\u001b[0;31mKeyboardInterrupt\u001b[0m                         Traceback (most recent call last)",
            "\u001b[0;32m<ipython-input-14-053a1db8045f>\u001b[0m in \u001b[0;36m<cell line: 2>\u001b[0;34m()\u001b[0m\n\u001b[1;32m      1\u001b[0m \u001b[0mdirections\u001b[0m \u001b[0;34m=\u001b[0m \u001b[0mejection_force_rotation\u001b[0m\u001b[0;34m(\u001b[0m\u001b[0mrotation_angle\u001b[0m\u001b[0;34m)\u001b[0m\u001b[0;34m[\u001b[0m\u001b[0;36m1\u001b[0m\u001b[0;34m]\u001b[0m\u001b[0;34m\u001b[0m\u001b[0;34m\u001b[0m\u001b[0m\n\u001b[0;32m----> 2\u001b[0;31m \u001b[0mrotation_max_Phi\u001b[0m \u001b[0;34m=\u001b[0m \u001b[0;34m[\u001b[0m\u001b[0mejection_coefficient_calculation\u001b[0m\u001b[0;34m(\u001b[0m\u001b[0mdirection\u001b[0m\u001b[0;34m,\u001b[0m \u001b[0mvertices\u001b[0m\u001b[0;34m,\u001b[0m \u001b[0mfaces\u001b[0m\u001b[0;34m,\u001b[0m \u001b[0mMu\u001b[0m\u001b[0;34m,\u001b[0m \u001b[0munit\u001b[0m\u001b[0;34m)\u001b[0m\u001b[0;34m[\u001b[0m\u001b[0;34m-\u001b[0m\u001b[0;36m1\u001b[0m\u001b[0;34m]\u001b[0m \u001b[0;32mfor\u001b[0m \u001b[0mdirection\u001b[0m \u001b[0;32min\u001b[0m \u001b[0mdirections\u001b[0m\u001b[0;34m]\u001b[0m\u001b[0;34m\u001b[0m\u001b[0;34m\u001b[0m\u001b[0m\n\u001b[0m\u001b[1;32m      3\u001b[0m \u001b[0;31m#print(directions)\u001b[0m\u001b[0;34m\u001b[0m\u001b[0;34m\u001b[0m\u001b[0m\n\u001b[1;32m      4\u001b[0m \u001b[0;31m#print(rotation_max_Phi)\u001b[0m\u001b[0;34m\u001b[0m\u001b[0;34m\u001b[0m\u001b[0m\n",
            "\u001b[0;32m<ipython-input-14-053a1db8045f>\u001b[0m in \u001b[0;36m<listcomp>\u001b[0;34m(.0)\u001b[0m\n\u001b[1;32m      1\u001b[0m \u001b[0mdirections\u001b[0m \u001b[0;34m=\u001b[0m \u001b[0mejection_force_rotation\u001b[0m\u001b[0;34m(\u001b[0m\u001b[0mrotation_angle\u001b[0m\u001b[0;34m)\u001b[0m\u001b[0;34m[\u001b[0m\u001b[0;36m1\u001b[0m\u001b[0;34m]\u001b[0m\u001b[0;34m\u001b[0m\u001b[0;34m\u001b[0m\u001b[0m\n\u001b[0;32m----> 2\u001b[0;31m \u001b[0mrotation_max_Phi\u001b[0m \u001b[0;34m=\u001b[0m \u001b[0;34m[\u001b[0m\u001b[0mejection_coefficient_calculation\u001b[0m\u001b[0;34m(\u001b[0m\u001b[0mdirection\u001b[0m\u001b[0;34m,\u001b[0m \u001b[0mvertices\u001b[0m\u001b[0;34m,\u001b[0m \u001b[0mfaces\u001b[0m\u001b[0;34m,\u001b[0m \u001b[0mMu\u001b[0m\u001b[0;34m,\u001b[0m \u001b[0munit\u001b[0m\u001b[0;34m)\u001b[0m\u001b[0;34m[\u001b[0m\u001b[0;34m-\u001b[0m\u001b[0;36m1\u001b[0m\u001b[0;34m]\u001b[0m \u001b[0;32mfor\u001b[0m \u001b[0mdirection\u001b[0m \u001b[0;32min\u001b[0m \u001b[0mdirections\u001b[0m\u001b[0;34m]\u001b[0m\u001b[0;34m\u001b[0m\u001b[0;34m\u001b[0m\u001b[0m\n\u001b[0m\u001b[1;32m      3\u001b[0m \u001b[0;31m#print(directions)\u001b[0m\u001b[0;34m\u001b[0m\u001b[0;34m\u001b[0m\u001b[0m\n\u001b[1;32m      4\u001b[0m \u001b[0;31m#print(rotation_max_Phi)\u001b[0m\u001b[0;34m\u001b[0m\u001b[0;34m\u001b[0m\u001b[0m\n",
            "\u001b[0;32m<ipython-input-10-85aad059f77b>\u001b[0m in \u001b[0;36mejection_coefficient_calculation\u001b[0;34m(selected_axis_data, vertices, faces, Mu, unit)\u001b[0m\n\u001b[1;32m      3\u001b[0m     \u001b[0ma_list\u001b[0m\u001b[0;34m,\u001b[0m \u001b[0mPhi_list\u001b[0m \u001b[0;34m=\u001b[0m \u001b[0;34m[\u001b[0m\u001b[0;34m]\u001b[0m\u001b[0;34m,\u001b[0m \u001b[0;34m[\u001b[0m\u001b[0;34m]\u001b[0m\u001b[0;34m\u001b[0m\u001b[0;34m\u001b[0m\u001b[0m\n\u001b[1;32m      4\u001b[0m     \u001b[0;32mfor\u001b[0m \u001b[0mface\u001b[0m \u001b[0;32min\u001b[0m \u001b[0mfaces\u001b[0m\u001b[0;34m:\u001b[0m\u001b[0;34m\u001b[0m\u001b[0;34m\u001b[0m\u001b[0m\n\u001b[0;32m----> 5\u001b[0;31m         \u001b[0mnormal\u001b[0m \u001b[0;34m=\u001b[0m \u001b[0mnp\u001b[0m\u001b[0;34m.\u001b[0m\u001b[0mcross\u001b[0m\u001b[0;34m(\u001b[0m\u001b[0;34m*\u001b[0m\u001b[0;34m(\u001b[0m\u001b[0mnp\u001b[0m\u001b[0;34m.\u001b[0m\u001b[0marray\u001b[0m\u001b[0;34m(\u001b[0m\u001b[0mvertices\u001b[0m\u001b[0;34m[\u001b[0m\u001b[0mface\u001b[0m\u001b[0;34m[\u001b[0m\u001b[0mi\u001b[0m\u001b[0;34m]\u001b[0m\u001b[0;34m]\u001b[0m\u001b[0;34m)\u001b[0m \u001b[0;34m-\u001b[0m \u001b[0mnp\u001b[0m\u001b[0;34m.\u001b[0m\u001b[0marray\u001b[0m\u001b[0;34m(\u001b[0m\u001b[0mvertices\u001b[0m\u001b[0;34m[\u001b[0m\u001b[0mface\u001b[0m\u001b[0;34m[\u001b[0m\u001b[0;36m0\u001b[0m\u001b[0;34m]\u001b[0m\u001b[0;34m]\u001b[0m\u001b[0;34m)\u001b[0m \u001b[0;32mfor\u001b[0m \u001b[0mi\u001b[0m \u001b[0;32min\u001b[0m \u001b[0;34m(\u001b[0m\u001b[0;36m1\u001b[0m\u001b[0;34m,\u001b[0m \u001b[0;36m2\u001b[0m\u001b[0;34m)\u001b[0m\u001b[0;34m)\u001b[0m\u001b[0;34m)\u001b[0m\u001b[0;34m\u001b[0m\u001b[0;34m\u001b[0m\u001b[0m\n\u001b[0m\u001b[1;32m      6\u001b[0m         \u001b[0mcosine\u001b[0m \u001b[0;34m=\u001b[0m \u001b[0mnp\u001b[0m\u001b[0;34m.\u001b[0m\u001b[0mdot\u001b[0m\u001b[0;34m(\u001b[0m\u001b[0mnormal\u001b[0m \u001b[0;34m/\u001b[0m \u001b[0mnp\u001b[0m\u001b[0;34m.\u001b[0m\u001b[0mlinalg\u001b[0m\u001b[0;34m.\u001b[0m\u001b[0mnorm\u001b[0m\u001b[0;34m(\u001b[0m\u001b[0mnormal\u001b[0m\u001b[0;34m)\u001b[0m\u001b[0;34m,\u001b[0m \u001b[0mdirection\u001b[0m \u001b[0;34m/\u001b[0m \u001b[0mnp\u001b[0m\u001b[0;34m.\u001b[0m\u001b[0mlinalg\u001b[0m\u001b[0;34m.\u001b[0m\u001b[0mnorm\u001b[0m\u001b[0;34m(\u001b[0m\u001b[0mdirection\u001b[0m\u001b[0;34m)\u001b[0m\u001b[0;34m)\u001b[0m\u001b[0;34m\u001b[0m\u001b[0;34m\u001b[0m\u001b[0m\n\u001b[1;32m      7\u001b[0m         \u001b[0ma\u001b[0m \u001b[0;34m=\u001b[0m \u001b[0mMu\u001b[0m \u001b[0;34m*\u001b[0m \u001b[0mnp\u001b[0m\u001b[0;34m.\u001b[0m\u001b[0msqrt\u001b[0m\u001b[0;34m(\u001b[0m\u001b[0;36m1\u001b[0m \u001b[0;34m-\u001b[0m \u001b[0mcosine\u001b[0m\u001b[0;34m**\u001b[0m\u001b[0;36m2\u001b[0m\u001b[0;34m)\u001b[0m \u001b[0;34m-\u001b[0m \u001b[0mcosine\u001b[0m\u001b[0;34m\u001b[0m\u001b[0;34m\u001b[0m\u001b[0m\n",
            "\u001b[0;32m/usr/local/lib/python3.10/dist-packages/numpy/core/numeric.py\u001b[0m in \u001b[0;36mcross\u001b[0;34m(a, b, axisa, axisb, axisc, axis)\u001b[0m\n\u001b[1;32m   1665\u001b[0m             \u001b[0mcp2\u001b[0m \u001b[0;34m-=\u001b[0m \u001b[0ma1\u001b[0m \u001b[0;34m*\u001b[0m \u001b[0mb0\u001b[0m\u001b[0;34m\u001b[0m\u001b[0;34m\u001b[0m\u001b[0m\n\u001b[1;32m   1666\u001b[0m \u001b[0;34m\u001b[0m\u001b[0m\n\u001b[0;32m-> 1667\u001b[0;31m     \u001b[0;32mreturn\u001b[0m \u001b[0mmoveaxis\u001b[0m\u001b[0;34m(\u001b[0m\u001b[0mcp\u001b[0m\u001b[0;34m,\u001b[0m \u001b[0;34m-\u001b[0m\u001b[0;36m1\u001b[0m\u001b[0;34m,\u001b[0m \u001b[0maxisc\u001b[0m\u001b[0;34m)\u001b[0m\u001b[0;34m\u001b[0m\u001b[0;34m\u001b[0m\u001b[0m\n\u001b[0m\u001b[1;32m   1668\u001b[0m \u001b[0;34m\u001b[0m\u001b[0m\n\u001b[1;32m   1669\u001b[0m \u001b[0;34m\u001b[0m\u001b[0m\n",
            "\u001b[0;32m/usr/local/lib/python3.10/dist-packages/numpy/core/numeric.py\u001b[0m in \u001b[0;36mmoveaxis\u001b[0;34m(a, source, destination)\u001b[0m\n\u001b[1;32m   1456\u001b[0m \u001b[0;34m\u001b[0m\u001b[0m\n\u001b[1;32m   1457\u001b[0m     \u001b[0;32mfor\u001b[0m \u001b[0mdest\u001b[0m\u001b[0;34m,\u001b[0m \u001b[0msrc\u001b[0m \u001b[0;32min\u001b[0m \u001b[0msorted\u001b[0m\u001b[0;34m(\u001b[0m\u001b[0mzip\u001b[0m\u001b[0;34m(\u001b[0m\u001b[0mdestination\u001b[0m\u001b[0;34m,\u001b[0m \u001b[0msource\u001b[0m\u001b[0;34m)\u001b[0m\u001b[0;34m)\u001b[0m\u001b[0;34m:\u001b[0m\u001b[0;34m\u001b[0m\u001b[0;34m\u001b[0m\u001b[0m\n\u001b[0;32m-> 1458\u001b[0;31m         \u001b[0morder\u001b[0m\u001b[0;34m.\u001b[0m\u001b[0minsert\u001b[0m\u001b[0;34m(\u001b[0m\u001b[0mdest\u001b[0m\u001b[0;34m,\u001b[0m \u001b[0msrc\u001b[0m\u001b[0;34m)\u001b[0m\u001b[0;34m\u001b[0m\u001b[0;34m\u001b[0m\u001b[0m\n\u001b[0m\u001b[1;32m   1459\u001b[0m \u001b[0;34m\u001b[0m\u001b[0m\n\u001b[1;32m   1460\u001b[0m     \u001b[0mresult\u001b[0m \u001b[0;34m=\u001b[0m \u001b[0mtranspose\u001b[0m\u001b[0;34m(\u001b[0m\u001b[0morder\u001b[0m\u001b[0;34m)\u001b[0m\u001b[0;34m\u001b[0m\u001b[0;34m\u001b[0m\u001b[0m\n",
            "\u001b[0;31mKeyboardInterrupt\u001b[0m: "
          ]
        }
      ]
    },
    {
      "cell_type": "markdown",
      "source": [
        "# Identified undercut"
      ],
      "metadata": {
        "id": "95ZR2M47xzDh"
      }
    },
    {
      "cell_type": "code",
      "source": [
        "pcd = geometry.sample_points_uniformly(number_of_points=100000000)\n",
        "voxel_grid = o3d.geometry.VoxelGrid.create_from_point_cloud(pcd,voxel_size = voxel_size)\n",
        "voxels = voxel_grid.get_voxels()\n",
        "indices = np.stack(list(vx.grid_index for vx in voxels))\n",
        "del voxels, voxel_grid, pcd\n",
        "max_indices = np.max(indices, axis=0)+1\n",
        "dense_array = np.zeros(max_indices, dtype=np.bool_)\n",
        "for idx in indices:\n",
        "    dense_array[tuple(idx)] = 1\n",
        "del indices\n",
        "array_pad = np.pad(dense_array.astype(bool),((2,2)),'constant')\n",
        "del dense_array\n",
        "array_closing = ndimage.binary_closing(array_pad, structure=ndimage.generate_binary_structure(3, 1),\n",
        "iterations=1, mask=None,  border_value=0, origin=0, brute_force=False)\n",
        "img = sitk.GetImageFromArray(array_closing.astype(int))\n",
        "seg = sitk.ConnectedComponent(img != img[0,0,0])\n",
        "img_filled = sitk.BinaryFillhole(seg!=0)\n",
        "array_filled = sitk.GetArrayFromImage(img_filled)"
      ],
      "metadata": {
        "id": "B6ZXB7DWwGd5"
      },
      "execution_count": 15,
      "outputs": []
    },
    {
      "cell_type": "code",
      "source": [
        "def find_undercut(array, direction):\n",
        "    direction = np.round(direction / np.max(np.abs(direction))).astype(int)\n",
        "    one_indices = np.argwhere(array == 1)\n",
        "    visited = set()\n",
        "    for start in one_indices:\n",
        "        pos = tuple(start)\n",
        "        if pos in visited:\n",
        "            continue\n",
        "        found_zero = False\n",
        "        while all(0 <= pos[i] < array.shape[i] for i in range(3)):\n",
        "            if pos in visited:\n",
        "                break\n",
        "            visited.add(pos)\n",
        "            if array[pos] == 1:\n",
        "                if found_zero:\n",
        "                    return 1\n",
        "            elif array[pos] == 0:\n",
        "                found_zero = True\n",
        "            pos = tuple(np.array(pos) + direction)\n",
        "    return 0"
      ],
      "metadata": {
        "id": "JDybYrGgwKJo"
      },
      "execution_count": 16,
      "outputs": []
    },
    {
      "cell_type": "code",
      "source": [
        "geometry_array = array_filled\n",
        "adjusted_directions = [[round(d[0], 3), round(d[2], 3), round(d[1], 3)] for d in directions]\n",
        "undercut_results = [find_undercut(geometry_array, np.array(d)) for d in adjusted_directions]\n",
        "direction_mapping = {tuple(d): i for i, d in enumerate(adjusted_directions)}\n",
        "for i, direction in enumerate(adjusted_directions):\n",
        "    opposite_direction = tuple(-np.array(direction))\n",
        "    if tuple(direction) in direction_mapping and opposite_direction in direction_mapping:\n",
        "        opp_index = direction_mapping[opposite_direction]\n",
        "        if undercut_results[i] == 1 or undercut_results[opp_index] == 1:\n",
        "            undercut_results[i] = 1\n",
        "            undercut_results[opp_index] = 1\n",
        "#print(undercut_results)"
      ],
      "metadata": {
        "id": "wlcAWefM0zeW"
      },
      "execution_count": 17,
      "outputs": []
    },
    {
      "cell_type": "markdown",
      "source": [
        "# Ejection direction"
      ],
      "metadata": {
        "id": "PtVnLlV78L6C"
      }
    },
    {
      "cell_type": "code",
      "source": [
        "min_Phi, ejection_direction = min(\n",
        "    (rotation_max_Phi[i], directions[i])\n",
        "    for i, val in enumerate(undercut_results) if val == 0)\n",
        "Phi_list_optimize, max_Phi_optimize = ejection_coefficient_calculation(ejection_direction, vertices, faces, Mu, unit)\n",
        "print(ejection_direction)\n",
        "print(max_Phi_optimize)"
      ],
      "metadata": {
        "id": "TiW_eBjb9-iT"
      },
      "execution_count": null,
      "outputs": []
    },
    {
      "cell_type": "markdown",
      "metadata": {
        "id": "MB94HFjy1ywr"
      },
      "source": [
        "# Ejection coefficient map"
      ]
    },
    {
      "cell_type": "code",
      "source": [
        "image_size = 4000\n",
        "color_bins = [(i, 0, 256 - i) for i in range(0, 256, 26)]\n",
        "image = Image.new(\"RGB\", (image_size, image_size), \"black\")\n",
        "draw = ImageDraw.Draw(image)\n",
        "scaled_vt_coordinates = [\n",
        "    (vt[0] * image_size, (1 - vt[1]) * image_size) for vt in vt_coordinates]\n",
        "for vt_face, Phi in zip(vt_faces, Phi_list_optimize):\n",
        "    if all(0 <= j < len(scaled_vt_coordinates) for j in vt_face):\n",
        "        vt_indices = [scaled_vt_coordinates[j] for j in vt_face]\n",
        "        if 0 <= Phi <= max_Phi_optimize:\n",
        "            color = color_bins[min(int((Phi / max_Phi_optimize) * 10), 9)]\n",
        "        elif Phi < 0:\n",
        "            color = (0, 0, 0)\n",
        "        else:\n",
        "            color = (120, 120, 120)\n",
        "        draw.polygon(vt_indices, outline=color, fill=color)\n",
        "image.save(ejection_coefficient_map_path)"
      ],
      "metadata": {
        "id": "P-YEjDp6laP-"
      },
      "execution_count": 21,
      "outputs": []
    },
    {
      "cell_type": "markdown",
      "source": [
        "# parting line identified"
      ],
      "metadata": {
        "id": "fJ8QC-FeyrTE"
      }
    },
    {
      "cell_type": "code",
      "source": [
        "image_size = 4000\n",
        "color_bins = [(i, 0, 256 - i) for i in range(0, 256, 26)]\n",
        "image = Image.new(\"RGB\", (image_size, image_size), \"black\")\n",
        "draw = ImageDraw.Draw(image)\n",
        "scaled_vt_coordinates = [\n",
        "    (vt[0] * image_size, (1 - vt[1]) * image_size) for vt in vt_coordinates]\n",
        "for vt_face, Phi in zip(vt_faces, Phi_list_optimize):\n",
        "    if all(0 <= j < len(scaled_vt_coordinates) for j in vt_face):\n",
        "        vt_indices = [scaled_vt_coordinates[j] for j in vt_face]\n",
        "        color = (256, 256, 256) if Phi > max_Phi_optimize else (256, 0, 0)\n",
        "        draw.polygon(vt_indices, outline=color, fill=color)\n",
        "image = cv2.cvtColor(np.array(image), cv2.COLOR_RGB2BGR)\n",
        "red_mask = cv2.inRange(image, np.array([0, 0, 255]), np.array([0, 0, 255]))\n",
        "white_mask = cv2.inRange(image, np.array([255, 255, 255]), np.array([255, 255, 255]))\n",
        "kernel = np.ones((3, 3), np.uint8)\n",
        "red_mask_cleaned_close = cv2.morphologyEx(red_mask, cv2.MORPH_CLOSE, kernel,iterations=1)\n",
        "red_mask_cleaned_open = cv2.morphologyEx(red_mask, cv2.MORPH_OPEN, kernel,iterations=1)\n",
        "white_mask_cleaned_close = cv2.morphologyEx(white_mask, cv2.MORPH_CLOSE, kernel,iterations=1)\n",
        "white_mask_cleaned_open = cv2.morphologyEx(white_mask, cv2.MORPH_OPEN, kernel,iterations=1)\n",
        "white_dilated = cv2.dilate(white_mask_cleaned_close + white_mask_cleaned_open - white_mask, kernel, iterations=1)\n",
        "boundary_mask = cv2.bitwise_and(red_mask_cleaned_close + red_mask_cleaned_open - red_mask, white_dilated)\n",
        "boundary_mask_cleaned_open = cv2.morphologyEx(boundary_mask, cv2.MORPH_OPEN, kernel,iterations=1)\n",
        "boundary_mask_cleaned_close = cv2.morphologyEx(boundary_mask, cv2.MORPH_CLOSE, kernel,iterations=1)\n",
        "output_image = np.zeros_like(image)\n",
        "contours, _ = cv2.findContours(boundary_mask_cleaned_close - boundary_mask_cleaned_open, cv2.RETR_EXTERNAL, cv2.CHAIN_APPROX_SIMPLE)\n",
        "cv2.drawContours(output_image, contours, -1, [0, 255, 0], thickness=2)\n",
        "cv2.imwrite(parting_line_map_path, cv2.cvtColor(output_image, cv2.COLOR_BGR2RGB))"
      ],
      "metadata": {
        "colab": {
          "base_uri": "https://localhost:8080/"
        },
        "id": "Fle001o_0YeZ",
        "outputId": "1722c5a4-ea88-4f63-d937-fbc9304a3ffa"
      },
      "execution_count": null,
      "outputs": [
        {
          "output_type": "execute_result",
          "data": {
            "text/plain": [
              "True"
            ]
          },
          "metadata": {},
          "execution_count": 89
        }
      ]
    },
    {
      "cell_type": "markdown",
      "metadata": {
        "id": "SWcL1Meb2FUW"
      },
      "source": [
        "# Visualization"
      ]
    },
    {
      "cell_type": "markdown",
      "source": [
        "## Ejection coefficient result"
      ],
      "metadata": {
        "id": "BuqMmzxw3yDq"
      }
    },
    {
      "cell_type": "code",
      "source": [
        "bpy.ops.wm.open_mainfile(filepath = blender_file_path)\n",
        "material = bpy.data.materials.new(name=\"MyMaterial\")\n",
        "material.use_nodes = True\n",
        "nodes = material.node_tree.nodes\n",
        "links = material.node_tree.links\n",
        "nodes.clear()\n",
        "bsdf = nodes.new('ShaderNodeBsdfPrincipled')\n",
        "texture = nodes.new('ShaderNodeTexImage')\n",
        "output = nodes.new('ShaderNodeOutputMaterial')\n",
        "texture.location = (-200, 0)\n",
        "output.location = (200, 0)\n",
        "texture.image = bpy.data.images.load(ejection_coefficient_map_path)\n",
        "links.new(texture.outputs['Color'], bsdf.inputs['Base Color'])\n",
        "links.new(bsdf.outputs['BSDF'], output.inputs['Surface'])\n",
        "bpy.context.object.data.materials.append(material)\n",
        "bpy.ops.export_scene.gltf(filepath = ejection_coefficient_result_path)"
      ],
      "metadata": {
        "colab": {
          "base_uri": "https://localhost:8080/"
        },
        "id": "AEXQaG7l5gsb",
        "outputId": "b9dc0c54-8ae3-4875-9b31-884098c55490"
      },
      "execution_count": 22,
      "outputs": [
        {
          "output_type": "stream",
          "name": "stdout",
          "text": [
            "04:35:13 | ERROR: Draco mesh compression is not available because library could not be found at /content/4.0/python/lib/python3.10/site-packages/libextern_draco.so\n",
            "04:35:13 | INFO: Starting glTF 2.0 export\n",
            "04:35:13 | INFO: Extracting primitive: Balance_Shaft_Housing_Full_Shot parts - 8M0111257\n",
            "04:35:15 | INFO: Primitives created: 1\n",
            "04:35:15 | INFO: Finished glTF 2.0 export in 2.0873050689697266 s\n",
            "\n"
          ]
        },
        {
          "output_type": "execute_result",
          "data": {
            "text/plain": [
              "{'FINISHED'}"
            ]
          },
          "metadata": {},
          "execution_count": 22
        }
      ]
    },
    {
      "cell_type": "markdown",
      "source": [
        "## parting line result"
      ],
      "metadata": {
        "id": "2BHHckcO3s_i"
      }
    },
    {
      "cell_type": "code",
      "source": [
        "bpy.ops.wm.open_mainfile(filepath = blender_file_path)\n",
        "material = bpy.data.materials.new(name=\"MyMaterial\")\n",
        "material.use_nodes = True\n",
        "nodes = material.node_tree.nodes\n",
        "links = material.node_tree.links\n",
        "nodes.clear()\n",
        "bsdf = nodes.new('ShaderNodeBsdfPrincipled')\n",
        "texture = nodes.new('ShaderNodeTexImage')\n",
        "output = nodes.new('ShaderNodeOutputMaterial')\n",
        "texture.location = (-200, 0)\n",
        "output.location = (200, 0)\n",
        "texture.image = bpy.data.images.load(parting_line_map_path)\n",
        "links.new(texture.outputs['Color'], bsdf.inputs['Base Color'])\n",
        "links.new(bsdf.outputs['BSDF'], output.inputs['Surface'])\n",
        "bpy.context.object.data.materials.append(material)\n",
        "bpy.ops.export_scene.gltf(filepath = parting_line_result_path)"
      ],
      "metadata": {
        "colab": {
          "base_uri": "https://localhost:8080/"
        },
        "id": "k_0sj5RV4lf9",
        "outputId": "84500c6a-8eaa-4858-beb1-2e03d08c66ee"
      },
      "execution_count": null,
      "outputs": [
        {
          "output_type": "stream",
          "name": "stdout",
          "text": [
            "06:31:39 | ERROR: Draco mesh compression is not available because library could not be found at /content/4.0/python/lib/python3.10/site-packages/libextern_draco.so\n",
            "06:31:39 | INFO: Starting glTF 2.0 export\n",
            "06:31:40 | INFO: Extracting primitive: Balance_Shaft_Housing_Full_Shot parts - 8M0111257\n",
            "06:31:52 | INFO: Primitives created: 1\n",
            "06:31:53 | INFO: Finished glTF 2.0 export in 13.332548141479492 s\n",
            "\n"
          ]
        },
        {
          "output_type": "execute_result",
          "data": {
            "text/plain": [
              "{'FINISHED'}"
            ]
          },
          "metadata": {},
          "execution_count": 91
        }
      ]
    },
    {
      "cell_type": "markdown",
      "source": [
        "# Clean"
      ],
      "metadata": {
        "id": "D6fht-Ng3qOo"
      }
    },
    {
      "cell_type": "code",
      "execution_count": null,
      "metadata": {
        "id": "rDz2Q8Ce2Wv1"
      },
      "outputs": [],
      "source": [
        "files_to_delete = [\n",
        "    \"/content/meshed_geometry.blend\",\n",
        "    \"/content/remeshed_uv.obj\",]\n",
        "for file_path in files_to_delete:\n",
        "    if os.path.exists(file_path):\n",
        "        os.remove(file_path)"
      ]
    }
  ],
  "metadata": {
    "colab": {
      "provenance": [],
      "collapsed_sections": [
        "QBSS5dji0kSs",
        "mmh3652fpovO",
        "OJgdbwez0v4H",
        "otqgo0DrzCxM",
        "95ZR2M47xzDh"
      ],
      "authorship_tag": "ABX9TyOpVsEwhJAJFQ9qKT4057oe",
      "include_colab_link": true
    },
    "kernelspec": {
      "display_name": "Python 3",
      "name": "python3"
    },
    "language_info": {
      "name": "python"
    },
    "widgets": {
      "application/vnd.jupyter.widget-state+json": {
        "8eb3712296e74c449da08dc914b1a084": {
          "model_module": "@jupyter-widgets/controls",
          "model_name": "ButtonModel",
          "model_module_version": "2.0.0",
          "state": {
            "_dom_classes": [],
            "_model_module": "@jupyter-widgets/controls",
            "_model_module_version": "2.0.0",
            "_model_name": "ButtonModel",
            "_view_count": null,
            "_view_module": "@jupyter-widgets/controls",
            "_view_module_version": "2.0.0",
            "_view_name": "ButtonView",
            "button_style": "",
            "description": "Google upload dialog",
            "disabled": false,
            "icon": "",
            "layout": "IPY_MODEL_48c5a219d1964e47b0c240e008bc6832",
            "style": "IPY_MODEL_5baf4544d1b04d46bc5cac5cd8540e0b",
            "tabbable": null,
            "tooltip": null
          }
        },
        "48c5a219d1964e47b0c240e008bc6832": {
          "model_module": "@jupyter-widgets/base",
          "model_name": "LayoutModel",
          "model_module_version": "2.0.0",
          "state": {
            "_model_module": "@jupyter-widgets/base",
            "_model_module_version": "2.0.0",
            "_model_name": "LayoutModel",
            "_view_count": null,
            "_view_module": "@jupyter-widgets/base",
            "_view_module_version": "2.0.0",
            "_view_name": "LayoutView",
            "align_content": null,
            "align_items": null,
            "align_self": null,
            "border_bottom": null,
            "border_left": null,
            "border_right": null,
            "border_top": null,
            "bottom": null,
            "display": null,
            "flex": null,
            "flex_flow": null,
            "grid_area": null,
            "grid_auto_columns": null,
            "grid_auto_flow": null,
            "grid_auto_rows": null,
            "grid_column": null,
            "grid_gap": null,
            "grid_row": null,
            "grid_template_areas": null,
            "grid_template_columns": null,
            "grid_template_rows": null,
            "height": null,
            "justify_content": null,
            "justify_items": null,
            "left": null,
            "margin": null,
            "max_height": null,
            "max_width": null,
            "min_height": null,
            "min_width": null,
            "object_fit": null,
            "object_position": null,
            "order": null,
            "overflow": null,
            "padding": null,
            "right": null,
            "top": null,
            "visibility": null,
            "width": null
          }
        },
        "5baf4544d1b04d46bc5cac5cd8540e0b": {
          "model_module": "@jupyter-widgets/controls",
          "model_name": "ButtonStyleModel",
          "model_module_version": "2.0.0",
          "state": {
            "_model_module": "@jupyter-widgets/controls",
            "_model_module_version": "2.0.0",
            "_model_name": "ButtonStyleModel",
            "_view_count": null,
            "_view_module": "@jupyter-widgets/base",
            "_view_module_version": "2.0.0",
            "_view_name": "StyleView",
            "button_color": null,
            "font_family": null,
            "font_size": null,
            "font_style": null,
            "font_variant": null,
            "font_weight": null,
            "text_color": null,
            "text_decoration": null
          }
        },
        "4669cb3074a64b228fbd8f070aa5646b": {
          "model_module": "@jupyter-widgets/output",
          "model_name": "OutputModel",
          "model_module_version": "1.0.0",
          "state": {
            "_dom_classes": [],
            "_model_module": "@jupyter-widgets/output",
            "_model_module_version": "1.0.0",
            "_model_name": "OutputModel",
            "_view_count": null,
            "_view_module": "@jupyter-widgets/output",
            "_view_module_version": "1.0.0",
            "_view_name": "OutputView",
            "layout": "IPY_MODEL_e455e19413bf4777b7e70f320135b238",
            "msg_id": "",
            "outputs": [],
            "tabbable": null,
            "tooltip": null
          }
        },
        "e455e19413bf4777b7e70f320135b238": {
          "model_module": "@jupyter-widgets/base",
          "model_name": "LayoutModel",
          "model_module_version": "2.0.0",
          "state": {
            "_model_module": "@jupyter-widgets/base",
            "_model_module_version": "2.0.0",
            "_model_name": "LayoutModel",
            "_view_count": null,
            "_view_module": "@jupyter-widgets/base",
            "_view_module_version": "2.0.0",
            "_view_name": "LayoutView",
            "align_content": null,
            "align_items": null,
            "align_self": null,
            "border_bottom": null,
            "border_left": null,
            "border_right": null,
            "border_top": null,
            "bottom": null,
            "display": null,
            "flex": null,
            "flex_flow": null,
            "grid_area": null,
            "grid_auto_columns": null,
            "grid_auto_flow": null,
            "grid_auto_rows": null,
            "grid_column": null,
            "grid_gap": null,
            "grid_row": null,
            "grid_template_areas": null,
            "grid_template_columns": null,
            "grid_template_rows": null,
            "height": null,
            "justify_content": null,
            "justify_items": null,
            "left": null,
            "margin": null,
            "max_height": null,
            "max_width": null,
            "min_height": null,
            "min_width": null,
            "object_fit": null,
            "object_position": null,
            "order": null,
            "overflow": null,
            "padding": null,
            "right": null,
            "top": null,
            "visibility": null,
            "width": null
          }
        }
      }
    }
  },
  "nbformat": 4,
  "nbformat_minor": 0
}