{
  "nbformat": 4,
  "nbformat_minor": 0,
  "metadata": {
    "colab": {
      "provenance": [],
      "authorship_tag": "ABX9TyMhiedZ95q2UsYFn2mZ7ASv",
      "include_colab_link": true
    },
    "kernelspec": {
      "name": "python3",
      "display_name": "Python 3"
    },
    "language_info": {
      "name": "python"
    },
    "widgets": {
      "application/vnd.jupyter.widget-state+json": {
        "73a3a3425f364ba39f85af07bc1cd689": {
          "model_module": "@jupyter-widgets/controls",
          "model_name": "ButtonModel",
          "model_module_version": "2.0.0",
          "state": {
            "_dom_classes": [],
            "_model_module": "@jupyter-widgets/controls",
            "_model_module_version": "2.0.0",
            "_model_name": "ButtonModel",
            "_view_count": null,
            "_view_module": "@jupyter-widgets/controls",
            "_view_module_version": "2.0.0",
            "_view_name": "ButtonView",
            "button_style": "",
            "description": "Google upload dialog",
            "disabled": false,
            "icon": "",
            "layout": "IPY_MODEL_93909fca76c143d5a8137bd43d811a3d",
            "style": "IPY_MODEL_b948d24327354348a00a40550b8157ef",
            "tabbable": null,
            "tooltip": null
          }
        },
        "93909fca76c143d5a8137bd43d811a3d": {
          "model_module": "@jupyter-widgets/base",
          "model_name": "LayoutModel",
          "model_module_version": "2.0.0",
          "state": {
            "_model_module": "@jupyter-widgets/base",
            "_model_module_version": "2.0.0",
            "_model_name": "LayoutModel",
            "_view_count": null,
            "_view_module": "@jupyter-widgets/base",
            "_view_module_version": "2.0.0",
            "_view_name": "LayoutView",
            "align_content": null,
            "align_items": null,
            "align_self": null,
            "border_bottom": null,
            "border_left": null,
            "border_right": null,
            "border_top": null,
            "bottom": null,
            "display": null,
            "flex": null,
            "flex_flow": null,
            "grid_area": null,
            "grid_auto_columns": null,
            "grid_auto_flow": null,
            "grid_auto_rows": null,
            "grid_column": null,
            "grid_gap": null,
            "grid_row": null,
            "grid_template_areas": null,
            "grid_template_columns": null,
            "grid_template_rows": null,
            "height": null,
            "justify_content": null,
            "justify_items": null,
            "left": null,
            "margin": null,
            "max_height": null,
            "max_width": null,
            "min_height": null,
            "min_width": null,
            "object_fit": null,
            "object_position": null,
            "order": null,
            "overflow": null,
            "padding": null,
            "right": null,
            "top": null,
            "visibility": null,
            "width": null
          }
        },
        "b948d24327354348a00a40550b8157ef": {
          "model_module": "@jupyter-widgets/controls",
          "model_name": "ButtonStyleModel",
          "model_module_version": "2.0.0",
          "state": {
            "_model_module": "@jupyter-widgets/controls",
            "_model_module_version": "2.0.0",
            "_model_name": "ButtonStyleModel",
            "_view_count": null,
            "_view_module": "@jupyter-widgets/base",
            "_view_module_version": "2.0.0",
            "_view_name": "StyleView",
            "button_color": null,
            "font_family": null,
            "font_size": null,
            "font_style": null,
            "font_variant": null,
            "font_weight": null,
            "text_color": null,
            "text_decoration": null
          }
        },
        "ea6fb763be6145cab329cf87dee51223": {
          "model_module": "@jupyter-widgets/output",
          "model_name": "OutputModel",
          "model_module_version": "1.0.0",
          "state": {
            "_dom_classes": [],
            "_model_module": "@jupyter-widgets/output",
            "_model_module_version": "1.0.0",
            "_model_name": "OutputModel",
            "_view_count": null,
            "_view_module": "@jupyter-widgets/output",
            "_view_module_version": "1.0.0",
            "_view_name": "OutputView",
            "layout": "IPY_MODEL_115ba98b102b49ebbefd5cdf20365e2d",
            "msg_id": "",
            "outputs": [],
            "tabbable": null,
            "tooltip": null
          }
        },
        "115ba98b102b49ebbefd5cdf20365e2d": {
          "model_module": "@jupyter-widgets/base",
          "model_name": "LayoutModel",
          "model_module_version": "2.0.0",
          "state": {
            "_model_module": "@jupyter-widgets/base",
            "_model_module_version": "2.0.0",
            "_model_name": "LayoutModel",
            "_view_count": null,
            "_view_module": "@jupyter-widgets/base",
            "_view_module_version": "2.0.0",
            "_view_name": "LayoutView",
            "align_content": null,
            "align_items": null,
            "align_self": null,
            "border_bottom": null,
            "border_left": null,
            "border_right": null,
            "border_top": null,
            "bottom": null,
            "display": null,
            "flex": null,
            "flex_flow": null,
            "grid_area": null,
            "grid_auto_columns": null,
            "grid_auto_flow": null,
            "grid_auto_rows": null,
            "grid_column": null,
            "grid_gap": null,
            "grid_row": null,
            "grid_template_areas": null,
            "grid_template_columns": null,
            "grid_template_rows": null,
            "height": null,
            "justify_content": null,
            "justify_items": null,
            "left": null,
            "margin": null,
            "max_height": null,
            "max_width": null,
            "min_height": null,
            "min_width": null,
            "object_fit": null,
            "object_position": null,
            "order": null,
            "overflow": null,
            "padding": null,
            "right": null,
            "top": null,
            "visibility": null,
            "width": null
          }
        }
      }
    }
  },
  "cells": [
    {
      "cell_type": "markdown",
      "metadata": {
        "id": "view-in-github",
        "colab_type": "text"
      },
      "source": [
        "<a href=\"https://colab.research.google.com/github/zyang63/Die_casting_ejection/blob/main/solidification.ipynb\" target=\"_parent\"><img src=\"https://colab.research.google.com/assets/colab-badge.svg\" alt=\"Open In Colab\"/></a>"
      ]
    },
    {
      "cell_type": "markdown",
      "metadata": {
        "id": "adShk6XI0xfz"
      },
      "source": [
        "# Geometric Analysis in Google Colab\n"
      ]
    },
    {
      "cell_type": "markdown",
      "source": [
        "The code installs and imports several libraries for different purposes. The trimesh library is installed to work with triangular meshes, SimpleITK is installed for medical image analysis, scipy is installed for scientific computing, and bpy is installed for 3D modeling and rendering. The directory \"geometry\" is created to store the various stl files generated by the analysis. The result of the code is stored in the base directory and produces three \"gltf\" animations which can be downloaded and reviewed."
      ],
      "metadata": {
        "id": "nPJAMg4xHzBu"
      }
    },
    {
      "cell_type": "code",
      "execution_count": 1,
      "metadata": {
        "id": "8q4DTwrsMGNB"
      },
      "outputs": [],
      "source": [
        "%%capture\n",
        "try:\n",
        "  import open3d as o3d\n",
        "except ImportError:\n",
        "  !pip install open3d\n",
        "  import open3d as o3d\n",
        "try:\n",
        "  import SimpleITK as sitk\n",
        "except ImportError:\n",
        "  !pip install SimpleITK\n",
        "  import SimpleITK as sitk\n",
        "try:\n",
        "  import bpy\n",
        "except ImportError:\n",
        "  !pip install bpy\n",
        "  import bpy\n",
        "import numpy as np\n",
        "from scipy import ndimage\n",
        "from scipy.special import erf\n",
        "from skimage import measure\n",
        "import os"
      ]
    },
    {
      "cell_type": "markdown",
      "source": [
        "#Setup"
      ],
      "metadata": {
        "id": "EF7fn9CRHmoQ"
      }
    },
    {
      "cell_type": "code",
      "source": [
        "import ipywidgets as widgets\n",
        "from IPython.display import display\n",
        "from google.colab import files\n",
        "#@title #File Entry { display-mode: \"form\"}\n",
        "#@markdown User can choose to upload the file to colab directly or select the google file upload button at the bottom of this form. Also choose the number of elements.\n",
        "\n",
        "button_pressed = False  # Initialize the variable as False\n",
        "filename = \"\"\n",
        "button = widgets.Button(description=\"Google upload dialog\")\n",
        "output = widgets.Output()\n",
        "\n",
        "def on_button_clicked(b):\n",
        "    global button_pressed  # Access the global variable\n",
        "    global filename\n",
        "    with output:\n",
        "        uploaded = files.upload()\n",
        "        filename = list(uploaded.keys())[0]\n",
        "        button_pressed = True  # Set the variable to True when the button is clicked\n",
        "\n",
        "button.on_click(on_button_clicked)\n",
        "display(button, output)"
      ],
      "metadata": {
        "colab": {
          "base_uri": "https://localhost:8080/",
          "height": 49,
          "referenced_widgets": [
            "73a3a3425f364ba39f85af07bc1cd689",
            "93909fca76c143d5a8137bd43d811a3d",
            "b948d24327354348a00a40550b8157ef",
            "ea6fb763be6145cab329cf87dee51223",
            "115ba98b102b49ebbefd5cdf20365e2d"
          ]
        },
        "id": "EJvJHDA0P_AZ",
        "outputId": "4a01bd21-0326-495c-abbe-a12039725ac4"
      },
      "execution_count": 2,
      "outputs": [
        {
          "output_type": "display_data",
          "data": {
            "text/plain": [
              "Button(description='Google upload dialog', style=ButtonStyle())"
            ],
            "application/vnd.jupyter.widget-view+json": {
              "version_major": 2,
              "version_minor": 0,
              "model_id": "73a3a3425f364ba39f85af07bc1cd689"
            }
          },
          "metadata": {}
        },
        {
          "output_type": "display_data",
          "data": {
            "text/plain": [
              "Output()"
            ],
            "application/vnd.jupyter.widget-view+json": {
              "version_major": 2,
              "version_minor": 0,
              "model_id": "ea6fb763be6145cab329cf87dee51223"
            }
          },
          "metadata": {}
        }
      ]
    },
    {
      "cell_type": "code",
      "execution_count": 83,
      "metadata": {
        "id": "3YVaKHTqXBfQ",
        "colab": {
          "base_uri": "https://localhost:8080/"
        },
        "outputId": "15a3b6f0-2b9e-4557-d186-ba219e51924f"
      },
      "outputs": [
        {
          "output_type": "stream",
          "name": "stdout",
          "text": [
            "File used  /content/1.stl\n",
            "Element size is in units from stl file  0.01  per cell\n"
          ]
        }
      ],
      "source": [
        "#@title #Element Count { display-mode: \"form\", run: \"auto\" }\n",
        "element_count = 200 #@param {type:\"slider\", min:10, max:500, step:1}\n",
        "if not button_pressed:\n",
        "  filename = \"/content/1.stl\" #@param {type:\"string\"}\n",
        "geometry = o3d.io.read_triangle_mesh(filename)\n",
        "voxel_resolution = (geometry.get_max_bound()-geometry.get_min_bound()).max()/ element_count\n",
        "print(\"File used \", filename)\n",
        "print(\"Element size is in units from stl file \",voxel_resolution, \" per cell\")"
      ]
    },
    {
      "cell_type": "markdown",
      "metadata": {
        "id": "UUbtJO572LnW"
      },
      "source": [
        "# Voxelizing the geometry\n"
      ]
    },
    {
      "cell_type": "markdown",
      "source": [
        "The following code performs voxelization and mesh conversion operations. It starts by voxelizing a mesh with a specified voxel size. Then, it creates a solid voxel representation by filling the voxel surface. The solid voxel data is padded with two layers of zeros. The padded voxel data is further processed using marching cubes algorithm to obtain a mesh representation. Finally, the resulting mesh is exported as an STL file named \"marching_geometry.stl\" in the geometry directory."
      ],
      "metadata": {
        "id": "nIgMiNiqR8qT"
      }
    },
    {
      "cell_type": "code",
      "execution_count": 84,
      "metadata": {
        "id": "IHtN4C3ggN4u",
        "colab": {
          "base_uri": "https://localhost:8080/"
        },
        "outputId": "5c0bc160-0ead-4a44-d4a0-ab5a80c12e13"
      },
      "outputs": [
        {
          "output_type": "stream",
          "name": "stderr",
          "text": [
            "<ipython-input-84-e7cb7dcff956>:7: DeprecationWarning: `np.bool8` is a deprecated alias for `np.bool_`.  (Deprecated NumPy 1.24)\n",
            "  dense_array = np.zeros(max_indices, dtype=np.bool8)\n"
          ]
        }
      ],
      "source": [
        "pcd = geometry.sample_points_uniformly(number_of_points=100000000)\n",
        "voxel_grid = o3d.geometry.VoxelGrid.create_from_point_cloud(pcd,voxel_size=voxel_resolution)\n",
        "voxels = voxel_grid.get_voxels()\n",
        "indices = np.stack(list(vx.grid_index for vx in voxels))\n",
        "del voxels, voxel_grid, pcd\n",
        "max_indices = np.max(indices, axis=0)+1\n",
        "dense_array = np.zeros(max_indices, dtype=np.bool8)\n",
        "for idx in indices:\n",
        "    dense_array[tuple(idx)] = 1\n",
        "del indices\n",
        "array_pad = np.pad(dense_array.astype(bool),((2,2)),'constant')\n",
        "del dense_array\n",
        "array_closing = ndimage.binary_closing(array_pad, structure=ndimage.generate_binary_structure(3, 1), iterations=1, mask=None,  border_value=0, origin=0, brute_force=False)\n",
        "img = sitk.GetImageFromArray(array_closing.astype(int))\n",
        "seg = sitk.ConnectedComponent(img != img[0,0,0])\n",
        "img_filled = sitk.BinaryFillhole(seg!=0)\n",
        "array_filled = sitk.GetArrayFromImage(img_filled)\n",
        "verts, faces, _, _ = measure.marching_cubes(array_filled)\n",
        "vertices_original = np.asarray(verts.tolist())\n",
        "faces_original = np.asarray(faces.tolist())\n",
        "del array_closing, img, seg, img_filled"
      ]
    },
    {
      "cell_type": "markdown",
      "metadata": {
        "id": "ZrrWLNVN5pIN"
      },
      "source": [
        "# Morphological operations and Distance transform on mesh\n"
      ]
    },
    {
      "cell_type": "markdown",
      "source": [
        "The following code applies binary closing to a padded voxel data array and assigns the result to array_initial for further use. It then defines a function named core that performs operations to extract the core of a structure from an input array. The function is applied to array_initial, and the resulting array is assigned to array_core. The code further manipulates array_core by setting non-core elements to 0 and core elements to 1. Overall, these operations help identify and isolate the core of a structure within the voxel data."
      ],
      "metadata": {
        "id": "0SGC0LudSBSM"
      }
    },
    {
      "cell_type": "code",
      "execution_count": 85,
      "metadata": {
        "id": "RsgYjTCL-VnP"
      },
      "outputs": [],
      "source": [
        "array_initial = ndimage.binary_closing(array_filled, structure=ndimage.generate_binary_structure(3, 1), iterations=1, mask=None,  border_value=0, origin=0, brute_force=False)\n",
        "img_initial = sitk.GetImageFromArray(array_initial.astype(int))\n",
        "def core(array):\n",
        "    directions = [(0, 0, 0, 0), (2, 1, 2, 1), (0, 3, 2, 0)]\n",
        "    new_array = np.copy(array)\n",
        "    for direction in directions:\n",
        "      array = np.rollaxis(array, direction[0], direction[1])\n",
        "      array_temp = np.copy(array)\n",
        "      ones_indices = np.argwhere(array == 1)\n",
        "      for (i, j, start_index), (next_i, next_j, end_index) in zip(ones_indices[:-1], ones_indices[1:]):\n",
        "          if i == next_i and j == next_j:\n",
        "              array_temp[i, j, start_index+1:end_index] = 2\n",
        "      array_temp = np.rollaxis(array_temp, direction[2], direction[3])\n",
        "      array = np.rollaxis(array, direction[2], direction[3])\n",
        "      new_array = np.where((array_temp == 2) | (new_array == 2), 2, array)\n",
        "    return new_array\n",
        "array_core = core(array_initial.astype(int))\n",
        "array_core[array_core != 2] = 0\n",
        "array_core[array_core == 2] = 1"
      ]
    },
    {
      "cell_type": "markdown",
      "metadata": {
        "id": "9L2hysgHwZpJ"
      },
      "source": [
        "## Distance Field Calculation\n",
        "The following code calculates the signed Maurer distance map from a binary voxel data representation. The distance map is computed using the SignedMaurerDistanceMap function from the SimpleITK library. The resulting distance map is then converted into a NumPy array. The code further determines the depth of the object by taking the negative minimum value from the distance map and converting it to an integer. This depth value represents the distance inside the object. Overall, these operations provide information about the spatial distribution and depth of the object in the voxel data."
      ]
    },
    {
      "cell_type": "code",
      "source": [
        "img_dist = sitk.SignedMaurerDistanceMap(img_initial != 0, insideIsPositive=False, squaredDistance=False, useImageSpacing=False)\n",
        "array_dist = sitk.GetArrayFromImage(img_dist)\n",
        "depth = int(-array_dist.min())\n",
        "print(depth)\n",
        "del img_dist, img_initial"
      ],
      "metadata": {
        "id": "HcHu2OvXat_o",
        "colab": {
          "base_uri": "https://localhost:8080/"
        },
        "outputId": "df96bee3-2141-43f6-ec96-7981c044c29d"
      },
      "execution_count": 86,
      "outputs": [
        {
          "output_type": "stream",
          "name": "stdout",
          "text": [
            "5\n"
          ]
        }
      ]
    },
    {
      "cell_type": "markdown",
      "source": [
        "## Solidification"
      ],
      "metadata": {
        "id": "ss90ihh1v_cp"
      }
    },
    {
      "cell_type": "markdown",
      "source": [
        "# geometry"
      ],
      "metadata": {
        "id": "Fyl84FhsUR8w"
      }
    },
    {
      "cell_type": "code",
      "source": [
        "A = 0.2866\n",
        "T_0 = 298.15\n",
        "T_m = 933"
      ],
      "metadata": {
        "id": "C2eTERTDC_Xt"
      },
      "execution_count": 87,
      "outputs": []
    },
    {
      "cell_type": "code",
      "source": [
        "C = erf(A)"
      ],
      "metadata": {
        "id": "HObtPekhD1Cc"
      },
      "execution_count": 88,
      "outputs": []
    },
    {
      "cell_type": "code",
      "source": [
        "T_s = (T_0*10000*C + T_m*25330)/(10000*C + 25330)\n",
        "print(\"The surface temperature is:\", T_s)"
      ],
      "metadata": {
        "colab": {
          "base_uri": "https://localhost:8080/"
        },
        "id": "KOpqAAYKDUoS",
        "outputId": "bd00c68e-4cea-4b24-acd3-0541ded4e102"
      },
      "execution_count": 89,
      "outputs": [
        {
          "output_type": "stream",
          "name": "stdout",
          "text": [
            "The surface temperature is: 862.8320680299192\n"
          ]
        }
      ]
    },
    {
      "cell_type": "code",
      "source": [
        "heat_transfer = np.zeros_like(array_dist)\n",
        "for i in range(1, depth+1):\n",
        "    thick = np.where(array_dist > -i, 0, 1)\n",
        "    array_thick_dilate = ndimage.binary_dilation(thick, structure=ndimage.generate_binary_structure(3, 1), iterations=i, mask=None, border_value=0, origin=0, brute_force=False)\n",
        "    heat_transfer += array_thick_dilate.astype(int)\n",
        "heat_transfer[array_filled == 0] = 0\n",
        "heat_transfer_array = np.array(heat_transfer)"
      ],
      "metadata": {
        "id": "uzJsPcmWwKgL"
      },
      "execution_count": 90,
      "outputs": []
    },
    {
      "cell_type": "code",
      "source": [
        "solidification_time = np.sqrt((heat_transfer_array * voxel_resolution)/0.57)\n",
        "solidification_time_array = np.array(solidification_time)\n",
        "arr_no_zeros = np.where(solidification_time_array == 0, np.inf, solidification_time_array)\n",
        "min_value = np.min(arr_no_zeros)\n",
        "time_depth = (solidification_time.max() - min_value) / depth\n",
        "print(time_depth)\n",
        "time_depth_change = solidification_time.max() - min_value\n",
        "print(\"The solidification time is:\", solidification_time_array.max())"
      ],
      "metadata": {
        "colab": {
          "base_uri": "https://localhost:8080/"
        },
        "id": "Y3FwS-xs_99g",
        "outputId": "5459d049-6ce7-4f7a-f597-f80d9d51e0da"
      },
      "execution_count": 91,
      "outputs": [
        {
          "output_type": "stream",
          "name": "stdout",
          "text": [
            "0.03274424076080322\n",
            "The solidification time is: 0.29617444\n"
          ]
        }
      ]
    },
    {
      "cell_type": "code",
      "source": [
        "bpy.ops.wm.read_factory_settings(use_empty=True)\n",
        "for i in np.arange(0,depth+1):\n",
        "  start_range = min_value + i * time_depth\n",
        "  end_range = min_value + (i + 1) * time_depth\n",
        "\n",
        "    # Create a mask for elements within the range\n",
        "  mask = (solidification_time >= start_range) & (solidification_time < end_range)\n",
        "  print(f\"For the range {start_range} to {end_range}:\")\n",
        "\n",
        "  if mask.any():\n",
        "        shape = np.where(mask, solidification_time, 0)\n",
        "        print(shape.max())\n",
        "  verts, faces, _, _ = measure.marching_cubes(shape)\n",
        "  vertices = np.asarray(verts.tolist())\n",
        "  faces = np.asarray(faces.tolist())\n",
        "  blender_mesh = bpy.data.meshes.new(\"Mesh\")\n",
        "  blender_mesh.from_pydata(vertices, [], faces)\n",
        "\n",
        "# Create mesh object\n",
        "  blender_object = bpy.data.objects.new(\"Object\", blender_mesh)\n",
        "  scene = bpy.context.scene\n",
        "  scene.collection.objects.link(blender_object)\n",
        "\n",
        "# Select all vertices and dissolve small faces\n",
        "  bpy.context.view_layer.objects.active = blender_object\n",
        "  bpy.ops.object.mode_set(mode='EDIT')\n",
        "  bpy.ops.mesh.select_all(action='SELECT')\n",
        "  bpy.ops.mesh.dissolve_limited(angle_limit=0.1)  # Adjust the angle limit as needed\n",
        "  bpy.ops.object.mode_set(mode='OBJECT')\n",
        "  obj = bpy.data.objects.new(f\"Object{i}\", blender_mesh)\n",
        "  bpy.context.collection.objects.link(obj)\n",
        "  obj.select_set(True)\n",
        "  bpy.context.view_layer.objects.active = obj\n",
        "  #bpy.ops.object.modifier_add(type=\"DECIMATE\")\n",
        "  #bpy.context.object.modifiers[\"Decimate\"].decimate_type = \"COLLAPSE\"\n",
        "  #bpy.context.object.modifiers[\"Decimate\"].ratio = 0.1\n",
        "  #bpy.ops.object.modifier_apply(modifier=\"Decimate\")\n",
        "  obj.color = (0,0,1,1)\n",
        "  mat = bpy.data.materials.new(f\"{i}\")\n",
        "  mat.use_nodes = True\n",
        "  principled = mat.node_tree.nodes[\"Principled BSDF\"]\n",
        "  principled.inputs[\"Base Color\"].default_value = (i * time_depth/(solidification_time.max() - min_value),0,1-(i * time_depth/(solidification_time.max() - min_value)),1)\n",
        "  obj.data.materials.append(mat)\n",
        "  bpy.ops.export_scene.gltf(filepath=\"/content/geometry_solidification_time_color.glb\")"
      ],
      "metadata": {
        "colab": {
          "base_uri": "https://localhost:8080/"
        },
        "id": "91EOfpH0Chk6",
        "outputId": "ade8d68a-1279-48c3-8e90-c79ee53b5b0c"
      },
      "execution_count": 92,
      "outputs": [
        {
          "output_type": "stream",
          "name": "stdout",
          "text": [
            "For the range 0.13245323300361633 to 0.16519747376441957:\n",
            "0.13245323\n",
            "01:27:11 | ERROR: Draco mesh compression is not available because library could not be found at /content/4.0/python/lib/python3.10/site-packages/libextern_draco.so\n",
            "01:27:11 | INFO: Starting glTF 2.0 export\n",
            "01:27:11 | INFO: Extracting primitive: Mesh\n",
            "01:27:11 | INFO: Primitives created: 1\n",
            "01:27:11 | INFO: Finished glTF 2.0 export in 0.010061264038085938 s\n",
            "\n",
            "For the range 0.16519747376441957 to 0.19794171452522277:\n",
            "0.18731716\n",
            "01:27:11 | ERROR: Draco mesh compression is not available because library could not be found at /content/4.0/python/lib/python3.10/site-packages/libextern_draco.so\n",
            "01:27:11 | INFO: Starting glTF 2.0 export\n",
            "01:27:11 | INFO: Extracting primitive: Mesh\n",
            "01:27:11 | INFO: Primitives created: 1\n",
            "01:27:11 | INFO: Extracting primitive: Mesh.001\n",
            "01:27:11 | INFO: Primitives created: 1\n",
            "01:27:11 | INFO: Finished glTF 2.0 export in 0.01913595199584961 s\n",
            "\n",
            "For the range 0.19794171452522277 to 0.23068595528602598:\n",
            "0.22941573\n",
            "01:27:12 | ERROR: Draco mesh compression is not available because library could not be found at /content/4.0/python/lib/python3.10/site-packages/libextern_draco.so\n",
            "01:27:12 | INFO: Starting glTF 2.0 export\n",
            "01:27:12 | INFO: Extracting primitive: Mesh\n",
            "01:27:12 | INFO: Primitives created: 1\n",
            "01:27:12 | INFO: Extracting primitive: Mesh.001\n",
            "01:27:12 | INFO: Primitives created: 1\n",
            "01:27:12 | INFO: Extracting primitive: Mesh.002\n",
            "01:27:12 | INFO: Primitives created: 1\n",
            "01:27:12 | INFO: Finished glTF 2.0 export in 0.02953958511352539 s\n",
            "\n",
            "For the range 0.23068595528602598 to 0.2634301960468292:\n",
            "01:27:13 | ERROR: Draco mesh compression is not available because library could not be found at /content/4.0/python/lib/python3.10/site-packages/libextern_draco.so\n",
            "01:27:13 | INFO: Starting glTF 2.0 export\n",
            "01:27:13 | INFO: Extracting primitive: Mesh\n",
            "01:27:13 | INFO: Primitives created: 1\n",
            "01:27:13 | INFO: Extracting primitive: Mesh.001\n",
            "01:27:13 | INFO: Primitives created: 1\n",
            "01:27:13 | INFO: Extracting primitive: Mesh.002\n",
            "01:27:13 | INFO: Primitives created: 1\n",
            "01:27:13 | INFO: Extracting primitive: Mesh.003\n",
            "01:27:13 | INFO: Primitives created: 1\n",
            "01:27:13 | INFO: Finished glTF 2.0 export in 0.04157710075378418 s\n",
            "\n",
            "For the range 0.2634301960468292 to 0.29617443680763245:\n",
            "0.26490647\n",
            "01:27:15 | ERROR: Draco mesh compression is not available because library could not be found at /content/4.0/python/lib/python3.10/site-packages/libextern_draco.so\n",
            "01:27:15 | INFO: Starting glTF 2.0 export\n",
            "01:27:15 | INFO: Extracting primitive: Mesh\n",
            "01:27:15 | INFO: Primitives created: 1\n",
            "01:27:15 | INFO: Extracting primitive: Mesh.001\n",
            "01:27:15 | INFO: Primitives created: 1\n",
            "01:27:15 | INFO: Extracting primitive: Mesh.002\n",
            "01:27:15 | INFO: Primitives created: 1\n",
            "01:27:15 | INFO: Extracting primitive: Mesh.003\n",
            "01:27:15 | INFO: Primitives created: 1\n",
            "01:27:15 | INFO: Extracting primitive: Mesh.004\n",
            "01:27:15 | INFO: Primitives created: 1\n",
            "01:27:15 | INFO: Finished glTF 2.0 export in 0.05483436584472656 s\n",
            "\n",
            "For the range 0.29617443680763245 to 0.3289186775684356:\n",
            "0.29617444\n",
            "01:27:29 | ERROR: Draco mesh compression is not available because library could not be found at /content/4.0/python/lib/python3.10/site-packages/libextern_draco.so\n",
            "01:27:29 | INFO: Starting glTF 2.0 export\n",
            "01:27:29 | INFO: Extracting primitive: Mesh\n",
            "01:27:29 | INFO: Primitives created: 1\n",
            "01:27:29 | INFO: Extracting primitive: Mesh.001\n",
            "01:27:29 | INFO: Primitives created: 1\n",
            "01:27:29 | INFO: Extracting primitive: Mesh.002\n",
            "01:27:29 | INFO: Primitives created: 1\n",
            "01:27:29 | INFO: Extracting primitive: Mesh.003\n",
            "01:27:29 | INFO: Primitives created: 1\n",
            "01:27:29 | INFO: Extracting primitive: Mesh.004\n",
            "01:27:29 | INFO: Primitives created: 1\n",
            "01:27:29 | INFO: Extracting primitive: Mesh.005\n",
            "01:27:29 | INFO: Primitives created: 1\n",
            "01:27:29 | INFO: Finished glTF 2.0 export in 0.06058168411254883 s\n",
            "\n"
          ]
        }
      ]
    }
  ]
}