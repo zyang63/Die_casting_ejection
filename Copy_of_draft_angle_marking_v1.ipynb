{
 "cells": [
  {
   "cell_type": "code",
   "execution_count": 1,
   "metadata": {
    "id": "fSWuUINvrHbN"
   },
   "outputs": [],
   "source": [
    "%%capture\n",
    "!pip install open3d\n",
    "!pip install SimpleITK\n",
    "!pip install scipy\n",
    "!pip install bpy\n",
    "!pip install numpy pillow\n",
    "!pip install opencv-python"
   ]
  },
  {
   "cell_type": "code",
   "execution_count": 2,
   "metadata": {},
   "outputs": [],
   "source": [
    "%%capture\n",
    "try:\n",
    "  import open3d as o3d\n",
    "except ImportError:\n",
    "  !pip install open3d\n",
    "  import open3d as o3d\n",
    "try:\n",
    "  import SimpleITK as sitk\n",
    "except ImportError:\n",
    "  !pip install SimpleITK\n",
    "  import SimpleITK as sitk\n",
    "try:\n",
    "  import bpy\n",
    "except ImportError:\n",
    "  !pip install bpy == 4.1.0\n",
    "  import bpy\n",
    "try:\n",
    "  from stl import mesh\n",
    "except ImportError:\n",
    "  !pip install numpy-stl\n",
    "  from stl import mesh\n",
    "try:\n",
    "  import pyvista as pv\n",
    "except ImportError:\n",
    "  !pip install pyvista\n",
    "  import pyvista as pv\n",
    "try:\n",
    "  from scipy import ndimage\n",
    "except ImportError:\n",
    "  !pip install scipy\n",
    "  from scipy import ndimage\n",
    "try:\n",
    "  from skimage import measure\n",
    "except ImportError:\n",
    "  !pip install scikit-image\n",
    "  from skimage import measure\n",
    "try:\n",
    "  from google.colab import files\n",
    "  IN_COLAB = True\n",
    "except ImportError:\n",
    "  IN_COLAB = False\n",
    "try:\n",
    "  import trimesh as t\n",
    "  from trimesh.voxel import creation\n",
    "except ImportError:\n",
    "  !pip install trimesh\n",
    "  import trimesh as t\n",
    "  from trimesh.voxel import creation\n",
    "try:\n",
    "  from pygltflib import GLTF2, Animation, AnimationSampler\n",
    "except ImportError:\n",
    "  !pip install pygltflib\n",
    "  from pygltflib import GLTF2, Animation, AnimationSampler\n",
    "import numpy as np\n",
    "import os\n",
    "import math\n",
    "import bmesh\n",
    "from mathutils import Vector\n",
    "import ipywidgets as widgets\n",
    "from IPython.display import display\n",
    "import subprocess"
   ]
  },
  {
   "cell_type": "code",
   "execution_count": 3,
   "metadata": {
    "id": "FBEcWCVjq-YP"
   },
   "outputs": [],
   "source": [
    "import os\n",
    "import bpy\n",
    "import math\n",
    "import numpy as np\n",
    "from PIL import Image, ImageDraw\n",
    "import open3d as o3d\n",
    "import SimpleITK as sitk\n",
    "from scipy import ndimage\n",
    "import cv2"
   ]
  },
  {
   "cell_type": "code",
   "execution_count": 3,
   "metadata": {
    "colab": {
     "base_uri": "https://localhost:8080/",
     "height": 49,
     "referenced_widgets": [
      "0ec6cf46e71b40c3bd0011786d99ad4c",
      "63e90d27a47846a2bff4fea4cec79cc2",
      "0c26dbe765f243d686c7629733190597",
      "08015f3dd39d4c3e8c38abc5012cb417",
      "91805bcd4e4943b691c0bfed391b6f53"
     ]
    },
    "id": "RwzIYcTduok5",
    "outputId": "4a31cf9f-966e-4992-d3f7-9012cf971864"
   },
   "outputs": [
    {
     "ename": "ModuleNotFoundError",
     "evalue": "No module named 'google.colab'",
     "output_type": "error",
     "traceback": [
      "\u001b[1;31m---------------------------------------------------------------------------\u001b[0m",
      "\u001b[1;31mModuleNotFoundError\u001b[0m                       Traceback (most recent call last)",
      "Cell \u001b[1;32mIn[3], line 3\u001b[0m\n\u001b[0;32m      1\u001b[0m \u001b[38;5;28;01mimport\u001b[39;00m \u001b[38;5;21;01mipywidgets\u001b[39;00m \u001b[38;5;28;01mas\u001b[39;00m \u001b[38;5;21;01mwidgets\u001b[39;00m\n\u001b[0;32m      2\u001b[0m \u001b[38;5;28;01mfrom\u001b[39;00m \u001b[38;5;21;01mIPython\u001b[39;00m\u001b[38;5;21;01m.\u001b[39;00m\u001b[38;5;21;01mdisplay\u001b[39;00m \u001b[38;5;28;01mimport\u001b[39;00m display\n\u001b[1;32m----> 3\u001b[0m \u001b[38;5;28;01mfrom\u001b[39;00m \u001b[38;5;21;01mgoogle\u001b[39;00m\u001b[38;5;21;01m.\u001b[39;00m\u001b[38;5;21;01mcolab\u001b[39;00m \u001b[38;5;28;01mimport\u001b[39;00m files\n\u001b[0;32m      4\u001b[0m \u001b[38;5;66;03m#@title #File Entry { display-mode: \"form\"}\u001b[39;00m\n\u001b[0;32m      5\u001b[0m \u001b[38;5;66;03m#@markdown User can choose to upload the file to colab directly or select the google file upload button at the bottom of this form. Also choose the number of elements.\u001b[39;00m\n\u001b[0;32m      7\u001b[0m button_pressed \u001b[38;5;241m=\u001b[39m \u001b[38;5;28;01mFalse\u001b[39;00m  \u001b[38;5;66;03m# Initialize the variable as False\u001b[39;00m\n",
      "\u001b[1;31mModuleNotFoundError\u001b[0m: No module named 'google.colab'"
     ]
    }
   ],
   "source": [
    "import ipywidgets as widgets\n",
    "from IPython.display import display\n",
    "from google.colab import files\n",
    "#@title #File Entry { display-mode: \"form\"}\n",
    "#@markdown User can choose to upload the file to colab directly or select the google file upload button at the bottom of this form. Also choose the number of elements.\n",
    "\n",
    "button_pressed = False  # Initialize the variable as False\n",
    "filename = \"\"\n",
    "button = widgets.Button(description=\"Google upload dialog\")\n",
    "output = widgets.Output()\n",
    "\n",
    "def on_button_clicked(b):\n",
    "    global button_pressed  # Access the global variable\n",
    "    global filename\n",
    "    with output:\n",
    "        uploaded = files.upload()\n",
    "        filename = list(uploaded.keys())[0]\n",
    "        button_pressed = True  # Set the variable to True when the button is clicked\n",
    "\n",
    "button.on_click(on_button_clicked)\n",
    "display(button, output)"
   ]
  },
  {
   "cell_type": "code",
   "execution_count": 4,
   "metadata": {},
   "outputs": [],
   "source": [
    "#@title #File Entry { display-mode: \"form\"}\n",
    "\n",
    "button_pressed = False  # Initialize the variable as False\n",
    "filename = \"\"\n",
    "button = widgets.Button(description=\"Google upload dialog\")\n",
    "output = widgets.Output()\n",
    "\n",
    "def on_button_clicked(b):\n",
    "    global button_pressed  # Access the global variable\n",
    "    global filename\n",
    "    with output:\n",
    "        uploaded = files.upload()\n",
    "        filename = list(uploaded.keys())[0]\n",
    "        button_pressed = True  # Set the variable to True when the button is clicked\n",
    "\n",
    "if IN_COLAB:\n",
    "  button.on_click(on_button_clicked)\n",
    "  display(button, output)"
   ]
  },
  {
   "cell_type": "code",
   "execution_count": 5,
   "metadata": {
    "colab": {
     "base_uri": "https://localhost:8080/"
    },
    "id": "TKnpn0djrUR_",
    "outputId": "0b0f3741-ba70-4afa-c2e0-a977808528ce"
   },
   "outputs": [
    {
     "name": "stdout",
     "output_type": "stream",
     "text": [
      "Element size is in units from stl file  1.5  per cell\n"
     ]
    }
   ],
   "source": [
    "#@title #Element Count { display-mode: \"form\", run: \"auto\" }\n",
    "if not button_pressed:\n",
    "    filename = \"C:/Users/ZHEN/Downloads/angle_test/Balance_Shaft_Housing_Full_Shot parts - 8M0111257.stl\" #@param {type:\"string\"}\n",
    "element_count = 500 #@param {type:\"slider\", min:10, max:500, step:1}\n",
    "geometry = o3d.io.read_triangle_mesh(os.path.join(os.getcwd(),filename))\n",
    "max_boundary_size = (geometry.get_max_bound()-geometry.get_min_bound()).max()\n",
    "mid_boundary_size = np.median(geometry.get_max_bound() - geometry.get_min_bound())\n",
    "voxel_size = 1.5#max_boundary_size/element_count\n",
    "print(\"Element size is in units from stl file \",voxel_size, \" per cell\")\n",
    "origin = geometry.get_min_bound()"
   ]
  },
  {
   "cell_type": "code",
   "execution_count": 6,
   "metadata": {
    "id": "Jnit-S1hnneA"
   },
   "outputs": [],
   "source": [
    "rotation_angle = 90\n",
    "Mu = 0.6\n",
    "unit = 0.001"
   ]
  },
  {
   "cell_type": "code",
   "execution_count": 7,
   "metadata": {
    "id": "2d1ZtQeY6Anq"
   },
   "outputs": [],
   "source": [
    "obj_file_path = 'C:/Users/ZHEN/Downloads/angle_test/remeshed_uv.obj'\n",
    "blender_file_path = 'C:/Users/ZHEN/Downloads/angle_test/meshed_geometry.blend'\n",
    "cosine_map_path = 'C:/Users/ZHEN/Downloads/angle_test/cosine_map.png'\n",
    "angle_map_path = 'C:/Users/ZHEN/Downloads/angle_test/angle_map.png'\n",
    "ejection_coefficient_map_path = 'C:/Users/ZHEN/Downloads/angle_test/ejection_coefficient_map.png'\n",
    "parting_line_map_path = 'C:/Users/ZHEN/Downloads/angle_test/parting_line_map.png'\n",
    "cosine_result_path = 'C:/Users/ZHEN/Downloads/angle_test/colored_cosine.glb'\n",
    "angle_result_path = 'C:/Users/ZHEN/Downloads/angle_test/colored_angle.glb'\n",
    "ejection_coefficient_result_path = 'C:/Users/ZHEN/Downloads/angle_test/colored_ejection_coefficient.glb'\n",
    "parting_line_result_path = 'C:/Users/ZHEN/Downloads/angle_test/colored_parting_line.glb'"
   ]
  },
  {
   "cell_type": "markdown",
   "metadata": {
    "id": "QBSS5dji0kSs"
   },
   "source": [
    "# Remesh and output OBJ file"
   ]
  },
  {
   "cell_type": "code",
   "execution_count": 8,
   "metadata": {
    "colab": {
     "base_uri": "https://localhost:8080/"
    },
    "id": "t4oJeZWiXfNy",
    "outputId": "b7fa5045-9202-44f9-a90f-e9b45f23ae75"
   },
   "outputs": [
    {
     "name": "stdout",
     "output_type": "stream",
     "text": [
      "Import finished in 5.1562 sec.\n",
      "Info: Saved \"meshed_geometry.blend\"\n"
     ]
    },
    {
     "data": {
      "text/plain": [
       "{'FINISHED'}"
      ]
     },
     "execution_count": 8,
     "metadata": {},
     "output_type": "execute_result"
    }
   ],
   "source": [
    "bpy.ops.wm.read_factory_settings(use_empty=True)\n",
    "bpy.ops.import_mesh.stl(filepath= filename, global_scale = unit)\n",
    "bpy.ops.object.modifier_add(type='REMESH')\n",
    "bpy.context.object.modifiers[\"Remesh\"].mode = 'VOXEL'\n",
    "bpy.context.object.modifiers[\"Remesh\"].voxel_size = voxel_size * unit\n",
    "bpy.ops.object.modifier_apply(modifier=\"Remesh\")\n",
    "bpy.ops.object.mode_set(mode='EDIT')\n",
    "bpy.ops.mesh.select_all(action='SELECT')\n",
    "bpy.ops.uv.smart_project()\n",
    "bpy.ops.object.mode_set(mode='OBJECT')\n",
    "selected_object = bpy.context.object\n",
    "for obj in bpy.context.selected_objects:\n",
    "    if obj.type == \"MESH\":\n",
    "        bpy.ops.wm.obj_export(filepath= obj_file_path, export_triangulated_mesh=False, export_materials=False)\n",
    "bpy.ops.wm.save_as_mainfile(filepath = blender_file_path)"
   ]
  },
  {
   "cell_type": "markdown",
   "metadata": {
    "id": "mmh3652fpovO"
   },
   "source": [
    "# Process OBJ file"
   ]
  },
  {
   "cell_type": "code",
   "execution_count": 9,
   "metadata": {
    "id": "um3yDv9WGukF"
   },
   "outputs": [],
   "source": [
    "def process_obj(obj_file_path):\n",
    "    vertices, faces, vt_coordinates, vt_faces = [], [], [], []\n",
    "    with open(obj_file_path, 'r') as obj_file:\n",
    "        for line in obj_file:\n",
    "            parts = line.split()\n",
    "            if parts[0] == 'v':\n",
    "                vertices.append(list(map(float, parts[1:4])))\n",
    "            elif parts[0] == 'f':\n",
    "                f, vt_f = zip(*((int(x.split('/')[0]) - 1, int(x.split('/')[1]) - 1) for x in parts[1:]))\n",
    "                faces.append(f), vt_faces.append(vt_f)\n",
    "            elif parts[0] == 'vt':\n",
    "                vt_coordinates.append(list(map(float, parts[1:])))\n",
    "    return vertices, faces, vt_coordinates, vt_faces"
   ]
  },
  {
   "cell_type": "code",
   "execution_count": 10,
   "metadata": {
    "id": "0I-QJM9MpyYO"
   },
   "outputs": [],
   "source": [
    "vertices, faces, vt_coordinates, vt_faces = process_obj(obj_file_path)"
   ]
  },
  {
   "cell_type": "markdown",
   "metadata": {
    "id": "OJgdbwez0v4H"
   },
   "source": [
    "# Ejection coefficient calculation"
   ]
  },
  {
   "cell_type": "code",
   "execution_count": 11,
   "metadata": {
    "id": "kKo2is-oGvfP"
   },
   "outputs": [],
   "source": [
    "def ejection_coefficient_calculation(selected_axis_data, vertices, faces, Mu, unit):\n",
    "    direction, num_eject_faces = np.array(selected_axis_data), 0\n",
    "    angle_list, cosine_list, a_list, Phi_list = [], [], [], []\n",
    "    for face in faces:\n",
    "        normal = np.cross(*(np.array(vertices[face[i]]) - np.array(vertices[face[0]]) for i in (1, 2)))\n",
    "        cosine = np.dot(normal / np.linalg.norm(normal), direction / np.linalg.norm(direction))\n",
    "        cosine_list.append(cosine)\n",
    "        theta = np.arccos(cosine)\n",
    "        angle_list.append(theta)\n",
    "        a = Mu * np.sqrt(1 - cosine**2) - abs(cosine)\n",
    "        # num_eject_faces += (0 <= a <= Mu)\n",
    "        num_eject_faces += (- np.sqrt(Mu**2 + 1) <= a <= np.sqrt(Mu**2 + 1))\n",
    "        a_list.append(a)\n",
    "    Phi_list = [num_eject_faces * (unit**2) * a for a in a_list]\n",
    "    return angle_list, cosine_list, Phi_list, max((Phi for Phi in Phi_list), default=None)"
   ]
  },
  {
   "cell_type": "markdown",
   "metadata": {
    "id": "otqgo0DrzCxM"
   },
   "source": [
    "#Optimize ejection direction\n"
   ]
  },
  {
   "cell_type": "code",
   "execution_count": 12,
   "metadata": {
    "id": "QSuknZJbrpA0"
   },
   "outputs": [],
   "source": [
    "def ejection_force_rotation(rotation_angle):\n",
    "    def rotation_matrix(axis, theta):\n",
    "        theta = np.radians(theta)\n",
    "        if axis == 'x':\n",
    "            return np.array([[1, 0, 0], [0, np.cos(theta), -np.sin(theta)], [0, np.sin(theta), np.cos(theta)]])\n",
    "        elif axis == 'y':\n",
    "            return np.array([[np.cos(theta), 0, np.sin(theta)], [0, 1, 0], [-np.sin(theta), 0, np.cos(theta)]])\n",
    "        elif axis == 'z':\n",
    "            return np.array([[np.cos(theta), -np.sin(theta), 0], [np.sin(theta), np.cos(theta), 0], [0, 0, 1]])\n",
    "    unique_rotations = {}\n",
    "    for theta_x in range(0, 360 + rotation_angle, rotation_angle):\n",
    "        for theta_y in range(0, 360 + rotation_angle, rotation_angle):\n",
    "            for theta_z in range(0, 360 + rotation_angle, rotation_angle):\n",
    "                rotated_vector = np.dot(rotation_matrix('x', theta_x),\n",
    "                                        np.dot(rotation_matrix('y', theta_y),\n",
    "                                               np.dot(rotation_matrix('z', theta_z), np.array([0, 1, 0]))))\n",
    "                rotated_vector = tuple(np.where(np.abs(rotated_vector) < 0.001, 0, rotated_vector))\n",
    "                unique_rotations.setdefault(rotated_vector, (theta_x, theta_y, theta_z))\n",
    "    unique_angles_list = list(unique_rotations.values())\n",
    "    unique_vectors_list = [list(vec) for vec in unique_rotations.keys()]\n",
    "    return unique_angles_list, unique_vectors_list"
   ]
  },
  {
   "cell_type": "code",
   "execution_count": 17,
   "metadata": {
    "colab": {
     "base_uri": "https://localhost:8080/",
     "height": 356
    },
    "id": "_4RQYxpoxE-r",
    "outputId": "7077accb-abaa-4538-d30c-a898d4e9ec75"
   },
   "outputs": [
    {
     "name": "stderr",
     "output_type": "stream",
     "text": [
      "C:\\Users\\ZHEN\\AppData\\Local\\Temp\\ipykernel_40644\\3993966985.py:6: RuntimeWarning: invalid value encountered in divide\n",
      "  cosine = np.dot(normal / np.linalg.norm(normal), direction / np.linalg.norm(direction))\n"
     ]
    }
   ],
   "source": [
    "directions = ejection_force_rotation(rotation_angle)[1]\n",
    "rotation_max_Phi = [ejection_coefficient_calculation(direction, vertices, faces, Mu, unit)[-1] for direction in directions]\n",
    "#print(directions)\n",
    "#print(rotation_max_Phi)"
   ]
  },
  {
   "cell_type": "markdown",
   "metadata": {
    "id": "95ZR2M47xzDh"
   },
   "source": [
    "# Identified undercut"
   ]
  },
  {
   "cell_type": "code",
   "execution_count": 27,
   "metadata": {
    "id": "B6ZXB7DWwGd5"
   },
   "outputs": [],
   "source": [
    "pcd = geometry.sample_points_uniformly(number_of_points=100000000)\n",
    "voxel_grid = o3d.geometry.VoxelGrid.create_from_point_cloud(pcd,voxel_size = voxel_size)\n",
    "voxels = voxel_grid.get_voxels()\n",
    "indices = np.stack(list(vx.grid_index for vx in voxels))\n",
    "del voxels, voxel_grid, pcd\n",
    "max_indices = np.max(indices, axis=0)+1\n",
    "dense_array = np.zeros(max_indices, dtype=np.bool_)\n",
    "for idx in indices:\n",
    "    dense_array[tuple(idx)] = 1\n",
    "del indices\n",
    "array_pad = np.pad(dense_array.astype(bool),((2,2)),'constant')\n",
    "del dense_array\n",
    "array_closing = ndimage.binary_closing(array_pad, structure=ndimage.generate_binary_structure(3, 1),\n",
    "iterations=1, mask=None,  border_value=0, origin=0, brute_force=False)\n",
    "img = sitk.GetImageFromArray(array_closing.astype(int))\n",
    "seg = sitk.ConnectedComponent(img != img[0,0,0])\n",
    "img_filled = sitk.BinaryFillhole(seg!=0)\n",
    "array_filled = sitk.GetArrayFromImage(img_filled)"
   ]
  },
  {
   "cell_type": "code",
   "execution_count": 8,
   "metadata": {
    "id": "JDybYrGgwKJo"
   },
   "outputs": [],
   "source": [
    "def find_undercut(array, direction):\n",
    "    direction = np.round(direction / np.max(np.abs(direction))).astype(int)\n",
    "    one_indices = np.argwhere(array == 1)\n",
    "    visited = set()\n",
    "    for start in one_indices:\n",
    "        pos = tuple(start)\n",
    "        if pos in visited:\n",
    "            continue\n",
    "        found_zero = False\n",
    "        while all(0 <= pos[i] < array.shape[i] for i in range(3)):\n",
    "            if pos in visited:\n",
    "                break\n",
    "            visited.add(pos)\n",
    "            if array[pos] == 1:\n",
    "                if found_zero:\n",
    "                    return 1\n",
    "            elif array[pos] == 0:\n",
    "                found_zero = True\n",
    "            pos = tuple(np.array(pos) + direction)\n",
    "    return 0"
   ]
  },
  {
   "cell_type": "code",
   "execution_count": 28,
   "metadata": {
    "id": "wlcAWefM0zeW"
   },
   "outputs": [
    {
     "name": "stdout",
     "output_type": "stream",
     "text": [
      "[0, 1, 0, 1, 1, 1]\n"
     ]
    }
   ],
   "source": [
    "geometry_array = array_filled\n",
    "adjusted_directions = [[round(d[0], 3), round(d[2], 3), round(d[1], 3)] for d in directions]\n",
    "undercut_results = [find_undercut(geometry_array, np.array(d)) for d in adjusted_directions]\n",
    "direction_mapping = {tuple(d): i for i, d in enumerate(adjusted_directions)}\n",
    "for i, direction in enumerate(adjusted_directions):\n",
    "    opposite_direction = tuple(-np.array(direction))\n",
    "    if tuple(direction) in direction_mapping and opposite_direction in direction_mapping:\n",
    "        opp_index = direction_mapping[opposite_direction]\n",
    "        if undercut_results[i] == 1 or undercut_results[opp_index] == 1:\n",
    "            undercut_results[i] = 1\n",
    "            undercut_results[opp_index] = 1\n",
    "print(undercut_results)"
   ]
  },
  {
   "cell_type": "markdown",
   "metadata": {
    "id": "PtVnLlV78L6C"
   },
   "source": [
    "# Ejection direction"
   ]
  },
  {
   "cell_type": "code",
   "execution_count": 19,
   "metadata": {
    "id": "TiW_eBjb9-iT"
   },
   "outputs": [
    {
     "ename": "NameError",
     "evalue": "name 'undercut_results' is not defined",
     "output_type": "error",
     "traceback": [
      "\u001b[1;31m---------------------------------------------------------------------------\u001b[0m",
      "\u001b[1;31mNameError\u001b[0m                                 Traceback (most recent call last)",
      "Cell \u001b[1;32mIn[19], line 3\u001b[0m\n\u001b[0;32m      1\u001b[0m min_Phi, ejection_direction \u001b[38;5;241m=\u001b[39m \u001b[38;5;28mmin\u001b[39m(\n\u001b[0;32m      2\u001b[0m     (rotation_max_Phi[i], directions[i])\n\u001b[1;32m----> 3\u001b[0m     \u001b[38;5;28;01mfor\u001b[39;00m i, val \u001b[38;5;129;01min\u001b[39;00m \u001b[38;5;28menumerate\u001b[39m(\u001b[43mundercut_results\u001b[49m) \u001b[38;5;28;01mif\u001b[39;00m val \u001b[38;5;241m==\u001b[39m \u001b[38;5;241m0\u001b[39m)\n\u001b[0;32m      4\u001b[0m Phi_list_optimize, max_Phi_optimize \u001b[38;5;241m=\u001b[39m ejection_coefficient_calculation(ejection_direction, vertices, faces, Mu, unit)\n\u001b[0;32m      5\u001b[0m \u001b[38;5;28mprint\u001b[39m(ejection_direction)\n",
      "\u001b[1;31mNameError\u001b[0m: name 'undercut_results' is not defined"
     ]
    }
   ],
   "source": [
    "min_Phi, ejection_direction = min(\n",
    "    (rotation_max_Phi[i], directions[i])\n",
    "    for i, val in enumerate(undercut_results) if val == 0)\n",
    "Phi_list_optimize, max_Phi_optimize = ejection_coefficient_calculation(ejection_direction, vertices, faces, Mu, unit)\n",
    "print(ejection_direction)\n",
    "print(max_Phi_optimize)"
   ]
  },
  {
   "cell_type": "code",
   "execution_count": 12,
   "metadata": {},
   "outputs": [
    {
     "name": "stdout",
     "output_type": "stream",
     "text": [
      "[0.0, 1.0, 0.0]\n",
      "0.030062399999999996\n"
     ]
    }
   ],
   "source": [
    "ejection_direction = [0.0, 1.0, 0.0]\n",
    "angle_list, cosine_list, Phi_list_optimize, max_Phi_optimize = ejection_coefficient_calculation(ejection_direction, vertices, faces, Mu, unit)\n",
    "print(ejection_direction)\n",
    "print(max_Phi_optimize)"
   ]
  },
  {
   "cell_type": "markdown",
   "metadata": {},
   "source": [
    "# Angle"
   ]
  },
  {
   "cell_type": "code",
   "execution_count": null,
   "metadata": {},
   "outputs": [],
   "source": [
    "image_size = 4000\n",
    "color_bins = [(i, 0, 256 - i) for i in range(0, 256, 26)]\n",
    "image = Image.new(\"RGB\", (image_size, image_size), \"black\")\n",
    "draw = ImageDraw.Draw(image)\n",
    "scaled_vt_coordinates = [\n",
    "    (vt[0] * image_size, (1 - vt[1]) * image_size) for vt in vt_coordinates]\n",
    "for vt_face, theta in zip(vt_faces, angle_list):\n",
    "    if all(0 <= j < len(scaled_vt_coordinates) for j in vt_face):\n",
    "        vt_indices = [scaled_vt_coordinates[j] for j in vt_face]\n",
    "        if 0 <= theta / np.pi <= 1:\n",
    "            color = color_bins[min(int((theta / np.pi) * 10), 9)]\n",
    "        else:\n",
    "            color = (120, 120, 120)\n",
    "        draw.polygon(vt_indices, outline=color, fill=color)\n",
    "image.save(angle_map_path)"
   ]
  },
  {
   "cell_type": "code",
   "execution_count": null,
   "metadata": {},
   "outputs": [],
   "source": [
    "bpy.ops.wm.open_mainfile(filepath = blender_file_path)\n",
    "material = bpy.data.materials.new(name=\"MyMaterial\")\n",
    "material.use_nodes = True\n",
    "nodes = material.node_tree.nodes\n",
    "links = material.node_tree.links\n",
    "nodes.clear()\n",
    "bsdf = nodes.new('ShaderNodeBsdfPrincipled')\n",
    "texture = nodes.new('ShaderNodeTexImage')\n",
    "output = nodes.new('ShaderNodeOutputMaterial')\n",
    "texture.location = (-200, 0)\n",
    "output.location = (200, 0)\n",
    "texture.image = bpy.data.images.load(angle_map_path)\n",
    "links.new(texture.outputs['Color'], bsdf.inputs['Base Color'])\n",
    "links.new(bsdf.outputs['BSDF'], output.inputs['Surface'])\n",
    "bpy.context.object.data.materials.append(material)\n",
    "bpy.ops.export_scene.gltf(filepath = angle_result_path)"
   ]
  },
  {
   "cell_type": "markdown",
   "metadata": {},
   "source": [
    "# Cosine"
   ]
  },
  {
   "cell_type": "code",
   "execution_count": null,
   "metadata": {},
   "outputs": [],
   "source": [
    "image_size = 4000\n",
    "color_bins = [(i, 0, 256 - i) for i in range(0, 256, 26)]\n",
    "image = Image.new(\"RGB\", (image_size, image_size), \"black\")\n",
    "draw = ImageDraw.Draw(image)\n",
    "scaled_vt_coordinates = [\n",
    "    (vt[0] * image_size, (1 - vt[1]) * image_size) for vt in vt_coordinates]\n",
    "for vt_face, cos in zip(vt_faces, cosine_list):\n",
    "    if all(0 <= j < len(scaled_vt_coordinates) for j in vt_face):\n",
    "        vt_indices = [scaled_vt_coordinates[j] for j in vt_face]\n",
    "        if -1 <= cos <= 1:\n",
    "            color = color_bins[min(int((abs(cos)) * 10), 9)]\n",
    "        else:\n",
    "            color = (120, 120, 120)\n",
    "        draw.polygon(vt_indices, outline=color, fill=color)\n",
    "image.save(cosine_map_path)"
   ]
  },
  {
   "cell_type": "code",
   "execution_count": null,
   "metadata": {},
   "outputs": [],
   "source": [
    "bpy.ops.wm.open_mainfile(filepath = blender_file_path)\n",
    "material = bpy.data.materials.new(name=\"MyMaterial\")\n",
    "material.use_nodes = True\n",
    "nodes = material.node_tree.nodes\n",
    "links = material.node_tree.links\n",
    "nodes.clear()\n",
    "bsdf = nodes.new('ShaderNodeBsdfPrincipled')\n",
    "texture = nodes.new('ShaderNodeTexImage')\n",
    "output = nodes.new('ShaderNodeOutputMaterial')\n",
    "texture.location = (-200, 0)\n",
    "output.location = (200, 0)\n",
    "texture.image = bpy.data.images.load(cosine_map_path)\n",
    "links.new(texture.outputs['Color'], bsdf.inputs['Base Color'])\n",
    "links.new(bsdf.outputs['BSDF'], output.inputs['Surface'])\n",
    "bpy.context.object.data.materials.append(material)\n",
    "bpy.ops.export_scene.gltf(filepath = cosine_result_path)"
   ]
  },
  {
   "cell_type": "markdown",
   "metadata": {
    "id": "MB94HFjy1ywr"
   },
   "source": [
    "# Ejection coefficient map"
   ]
  },
  {
   "cell_type": "code",
   "execution_count": 142,
   "metadata": {
    "id": "P-YEjDp6laP-"
   },
   "outputs": [],
   "source": [
    "image_size = 4000\n",
    "color_bins = [(i, 0, 256 - i) for i in range(0, 256, 26)]\n",
    "image = Image.new(\"RGB\", (image_size, image_size), \"black\")\n",
    "draw = ImageDraw.Draw(image)\n",
    "scaled_vt_coordinates = [\n",
    "    (vt[0] * image_size, (1 - vt[1]) * image_size) for vt in vt_coordinates]\n",
    "for vt_face, Phi in zip(vt_faces, Phi_list_optimize):\n",
    "    if all(0 <= j < len(scaled_vt_coordinates) for j in vt_face):\n",
    "        vt_indices = [scaled_vt_coordinates[j] for j in vt_face]\n",
    "        if 0 <= Phi <= max_Phi_optimize:\n",
    "            color = color_bins[min(int((Phi / max_Phi_optimize) * 10), 9)]\n",
    "        elif Phi < 0:\n",
    "            color = (120, 120, 120)\n",
    "        else:\n",
    "            color = (0, 0, 0)\n",
    "        draw.polygon(vt_indices, outline=color, fill=color)\n",
    "image.save(ejection_coefficient_map_path)"
   ]
  },
  {
   "cell_type": "markdown",
   "metadata": {
    "id": "fJ8QC-FeyrTE"
   },
   "source": [
    "# parting line identified"
   ]
  },
  {
   "cell_type": "code",
   "execution_count": 15,
   "metadata": {
    "colab": {
     "base_uri": "https://localhost:8080/"
    },
    "id": "Fle001o_0YeZ",
    "outputId": "1722c5a4-ea88-4f63-d937-fbc9304a3ffa"
   },
   "outputs": [
    {
     "data": {
      "text/plain": [
       "True"
      ]
     },
     "execution_count": 15,
     "metadata": {},
     "output_type": "execute_result"
    }
   ],
   "source": [
    "image_size = 4000\n",
    "color_bins = [(i, 0, 256 - i) for i in range(0, 256, 26)]\n",
    "image = Image.new(\"RGB\", (image_size, image_size), \"black\")\n",
    "draw = ImageDraw.Draw(image)\n",
    "scaled_vt_coordinates = [\n",
    "    (vt[0] * image_size, (1 - vt[1]) * image_size) for vt in vt_coordinates]\n",
    "for vt_face, cos in zip(vt_faces, cosine_list):\n",
    "    if all(0 <= j < len(scaled_vt_coordinates) for j in vt_face):\n",
    "        vt_indices = [scaled_vt_coordinates[j] for j in vt_face]\n",
    "        color = (256, 256, 256) if cos > 0 else (256, 0, 0)\n",
    "        draw.polygon(vt_indices, outline=color, fill=color)\n",
    "image = cv2.cvtColor(np.array(image), cv2.COLOR_RGB2BGR)\n",
    "red_mask = cv2.inRange(image, np.array([0, 0, 255]), np.array([0, 0, 255]))\n",
    "white_mask = cv2.inRange(image, np.array([255, 255, 255]), np.array([255, 255, 255]))\n",
    "kernel = np.ones((3, 3), np.uint8)\n",
    "red_mask_cleaned_close = cv2.morphologyEx(red_mask, cv2.MORPH_CLOSE, kernel,iterations=1)\n",
    "red_mask_cleaned_open = cv2.morphologyEx(red_mask, cv2.MORPH_OPEN, kernel,iterations=1)\n",
    "white_mask_cleaned_close = cv2.morphologyEx(white_mask, cv2.MORPH_CLOSE, kernel,iterations=1)\n",
    "white_mask_cleaned_open = cv2.morphologyEx(white_mask, cv2.MORPH_OPEN, kernel,iterations=1)\n",
    "white_dilated = cv2.dilate(white_mask_cleaned_close + white_mask_cleaned_open - white_mask, kernel, iterations=1)\n",
    "boundary_mask = cv2.bitwise_and(red_mask_cleaned_close + red_mask_cleaned_open - red_mask, white_dilated)\n",
    "boundary_mask_cleaned_open = cv2.morphologyEx(boundary_mask, cv2.MORPH_OPEN, kernel,iterations=1)\n",
    "boundary_mask_cleaned_close = cv2.morphologyEx(boundary_mask, cv2.MORPH_CLOSE, kernel,iterations=1)\n",
    "output_image = np.zeros_like(image)\n",
    "contours, _ = cv2.findContours(boundary_mask_cleaned_close - boundary_mask_cleaned_open, cv2.RETR_EXTERNAL, cv2.CHAIN_APPROX_SIMPLE)\n",
    "cv2.drawContours(output_image, contours, -1, [0, 255, 0], thickness=2)\n",
    "cv2.imwrite(parting_line_map_path, cv2.cvtColor(output_image, cv2.COLOR_BGR2RGB))"
   ]
  },
  {
   "cell_type": "markdown",
   "metadata": {
    "id": "SWcL1Meb2FUW"
   },
   "source": [
    "# Visualization"
   ]
  },
  {
   "cell_type": "markdown",
   "metadata": {
    "id": "BuqMmzxw3yDq"
   },
   "source": [
    "## Ejection coefficient result"
   ]
  },
  {
   "cell_type": "code",
   "execution_count": 143,
   "metadata": {
    "colab": {
     "base_uri": "https://localhost:8080/"
    },
    "id": "AEXQaG7l5gsb",
    "outputId": "b9dc0c54-8ae3-4875-9b31-884098c55490"
   },
   "outputs": [
    {
     "name": "stdout",
     "output_type": "stream",
     "text": [
      "01:36:39 | ERROR: Draco mesh compression is not available because library could not be found at c:\\Users\\ZHEN\\Downloads\\angle_test\\4.1\\python\\lib\\site-packages\\extern_draco.dll\n",
      "01:36:39 | INFO: Starting glTF 2.0 export\n",
      "01:36:39 | INFO: Extracting primitive: Balance_Shaft_Housing_Full_Shot parts - 8M0111257\n",
      "01:36:39 | INFO: Primitives created: 1\n",
      "01:36:39 | INFO: Finished glTF 2.0 export in 0.19204330444335938 s\n",
      "\n"
     ]
    },
    {
     "data": {
      "text/plain": [
       "{'FINISHED'}"
      ]
     },
     "execution_count": 143,
     "metadata": {},
     "output_type": "execute_result"
    }
   ],
   "source": [
    "bpy.ops.wm.open_mainfile(filepath = blender_file_path)\n",
    "material = bpy.data.materials.new(name=\"MyMaterial\")\n",
    "material.use_nodes = True\n",
    "nodes = material.node_tree.nodes\n",
    "links = material.node_tree.links\n",
    "nodes.clear()\n",
    "bsdf = nodes.new('ShaderNodeBsdfPrincipled')\n",
    "texture = nodes.new('ShaderNodeTexImage')\n",
    "output = nodes.new('ShaderNodeOutputMaterial')\n",
    "texture.location = (-200, 0)\n",
    "output.location = (200, 0)\n",
    "texture.image = bpy.data.images.load(ejection_coefficient_map_path)\n",
    "links.new(texture.outputs['Color'], bsdf.inputs['Base Color'])\n",
    "links.new(bsdf.outputs['BSDF'], output.inputs['Surface'])\n",
    "bpy.context.object.data.materials.append(material)\n",
    "bpy.ops.export_scene.gltf(filepath = ejection_coefficient_result_path)"
   ]
  },
  {
   "cell_type": "markdown",
   "metadata": {
    "id": "2BHHckcO3s_i"
   },
   "source": [
    "## parting line result"
   ]
  },
  {
   "cell_type": "code",
   "execution_count": 16,
   "metadata": {
    "colab": {
     "base_uri": "https://localhost:8080/"
    },
    "id": "k_0sj5RV4lf9",
    "outputId": "84500c6a-8eaa-4858-beb1-2e03d08c66ee"
   },
   "outputs": [
    {
     "name": "stdout",
     "output_type": "stream",
     "text": [
      "02:00:56 | ERROR: Draco mesh compression is not available because library could not be found at c:\\Users\\ZHEN\\Downloads\\4.1\\python\\lib\\site-packages\\extern_draco.dll\n",
      "02:00:56 | INFO: Starting glTF 2.0 export\n",
      "02:00:56 | INFO: Extracting primitive: Balance_Shaft_Housing_Full_Shot parts - 8M0111257\n",
      "02:00:56 | INFO: Primitives created: 1\n",
      "02:00:56 | INFO: Finished glTF 2.0 export in 0.16922354698181152 s\n",
      "\n"
     ]
    },
    {
     "data": {
      "text/plain": [
       "{'FINISHED'}"
      ]
     },
     "execution_count": 16,
     "metadata": {},
     "output_type": "execute_result"
    }
   ],
   "source": [
    "bpy.ops.wm.open_mainfile(filepath = blender_file_path)\n",
    "material = bpy.data.materials.new(name=\"MyMaterial\")\n",
    "material.use_nodes = True\n",
    "nodes = material.node_tree.nodes\n",
    "links = material.node_tree.links\n",
    "nodes.clear()\n",
    "bsdf = nodes.new('ShaderNodeBsdfPrincipled')\n",
    "texture = nodes.new('ShaderNodeTexImage')\n",
    "output = nodes.new('ShaderNodeOutputMaterial')\n",
    "texture.location = (-200, 0)\n",
    "output.location = (200, 0)\n",
    "texture.image = bpy.data.images.load(parting_line_map_path)\n",
    "links.new(texture.outputs['Color'], bsdf.inputs['Base Color'])\n",
    "links.new(bsdf.outputs['BSDF'], output.inputs['Surface'])\n",
    "bpy.context.object.data.materials.append(material)\n",
    "bpy.ops.export_scene.gltf(filepath = parting_line_result_path)"
   ]
  },
  {
   "cell_type": "markdown",
   "metadata": {
    "id": "D6fht-Ng3qOo"
   },
   "source": [
    "# Clean"
   ]
  },
  {
   "cell_type": "code",
   "execution_count": null,
   "metadata": {
    "id": "rDz2Q8Ce2Wv1"
   },
   "outputs": [],
   "source": [
    "files_to_delete = [\n",
    "    \"/content/meshed_geometry.blend\",\n",
    "    \"/content/remeshed_uv.obj\",]\n",
    "for file_path in files_to_delete:\n",
    "    if os.path.exists(file_path):\n",
    "        os.remove(file_path)"
   ]
  }
 ],
 "metadata": {
  "colab": {
   "collapsed_sections": [
    "QBSS5dji0kSs",
    "mmh3652fpovO",
    "OJgdbwez0v4H",
    "otqgo0DrzCxM",
    "95ZR2M47xzDh"
   ],
   "provenance": []
  },
  "kernelspec": {
   "display_name": "castview",
   "language": "python",
   "name": "python3"
  },
  "language_info": {
   "codemirror_mode": {
    "name": "ipython",
    "version": 3
   },
   "file_extension": ".py",
   "mimetype": "text/x-python",
   "name": "python",
   "nbconvert_exporter": "python",
   "pygments_lexer": "ipython3",
   "version": "3.11.9"
  },
  "widgets": {
   "application/vnd.jupyter.widget-state+json": {
    "08015f3dd39d4c3e8c38abc5012cb417": {
     "model_module": "@jupyter-widgets/output",
     "model_module_version": "1.0.0",
     "model_name": "OutputModel",
     "state": {
      "_dom_classes": [],
      "_model_module": "@jupyter-widgets/output",
      "_model_module_version": "1.0.0",
      "_model_name": "OutputModel",
      "_view_count": null,
      "_view_module": "@jupyter-widgets/output",
      "_view_module_version": "1.0.0",
      "_view_name": "OutputView",
      "layout": "IPY_MODEL_91805bcd4e4943b691c0bfed391b6f53",
      "msg_id": "",
      "outputs": [],
      "tabbable": null,
      "tooltip": null
     }
    },
    "0c26dbe765f243d686c7629733190597": {
     "model_module": "@jupyter-widgets/controls",
     "model_module_version": "2.0.0",
     "model_name": "ButtonStyleModel",
     "state": {
      "_model_module": "@jupyter-widgets/controls",
      "_model_module_version": "2.0.0",
      "_model_name": "ButtonStyleModel",
      "_view_count": null,
      "_view_module": "@jupyter-widgets/base",
      "_view_module_version": "2.0.0",
      "_view_name": "StyleView",
      "button_color": null,
      "font_family": null,
      "font_size": null,
      "font_style": null,
      "font_variant": null,
      "font_weight": null,
      "text_color": null,
      "text_decoration": null
     }
    },
    "0ec6cf46e71b40c3bd0011786d99ad4c": {
     "model_module": "@jupyter-widgets/controls",
     "model_module_version": "2.0.0",
     "model_name": "ButtonModel",
     "state": {
      "_dom_classes": [],
      "_model_module": "@jupyter-widgets/controls",
      "_model_module_version": "2.0.0",
      "_model_name": "ButtonModel",
      "_view_count": null,
      "_view_module": "@jupyter-widgets/controls",
      "_view_module_version": "2.0.0",
      "_view_name": "ButtonView",
      "button_style": "",
      "description": "Google upload dialog",
      "disabled": false,
      "icon": "",
      "layout": "IPY_MODEL_63e90d27a47846a2bff4fea4cec79cc2",
      "style": "IPY_MODEL_0c26dbe765f243d686c7629733190597",
      "tabbable": null,
      "tooltip": null
     }
    },
    "63e90d27a47846a2bff4fea4cec79cc2": {
     "model_module": "@jupyter-widgets/base",
     "model_module_version": "2.0.0",
     "model_name": "LayoutModel",
     "state": {
      "_model_module": "@jupyter-widgets/base",
      "_model_module_version": "2.0.0",
      "_model_name": "LayoutModel",
      "_view_count": null,
      "_view_module": "@jupyter-widgets/base",
      "_view_module_version": "2.0.0",
      "_view_name": "LayoutView",
      "align_content": null,
      "align_items": null,
      "align_self": null,
      "border_bottom": null,
      "border_left": null,
      "border_right": null,
      "border_top": null,
      "bottom": null,
      "display": null,
      "flex": null,
      "flex_flow": null,
      "grid_area": null,
      "grid_auto_columns": null,
      "grid_auto_flow": null,
      "grid_auto_rows": null,
      "grid_column": null,
      "grid_gap": null,
      "grid_row": null,
      "grid_template_areas": null,
      "grid_template_columns": null,
      "grid_template_rows": null,
      "height": null,
      "justify_content": null,
      "justify_items": null,
      "left": null,
      "margin": null,
      "max_height": null,
      "max_width": null,
      "min_height": null,
      "min_width": null,
      "object_fit": null,
      "object_position": null,
      "order": null,
      "overflow": null,
      "padding": null,
      "right": null,
      "top": null,
      "visibility": null,
      "width": null
     }
    },
    "91805bcd4e4943b691c0bfed391b6f53": {
     "model_module": "@jupyter-widgets/base",
     "model_module_version": "2.0.0",
     "model_name": "LayoutModel",
     "state": {
      "_model_module": "@jupyter-widgets/base",
      "_model_module_version": "2.0.0",
      "_model_name": "LayoutModel",
      "_view_count": null,
      "_view_module": "@jupyter-widgets/base",
      "_view_module_version": "2.0.0",
      "_view_name": "LayoutView",
      "align_content": null,
      "align_items": null,
      "align_self": null,
      "border_bottom": null,
      "border_left": null,
      "border_right": null,
      "border_top": null,
      "bottom": null,
      "display": null,
      "flex": null,
      "flex_flow": null,
      "grid_area": null,
      "grid_auto_columns": null,
      "grid_auto_flow": null,
      "grid_auto_rows": null,
      "grid_column": null,
      "grid_gap": null,
      "grid_row": null,
      "grid_template_areas": null,
      "grid_template_columns": null,
      "grid_template_rows": null,
      "height": null,
      "justify_content": null,
      "justify_items": null,
      "left": null,
      "margin": null,
      "max_height": null,
      "max_width": null,
      "min_height": null,
      "min_width": null,
      "object_fit": null,
      "object_position": null,
      "order": null,
      "overflow": null,
      "padding": null,
      "right": null,
      "top": null,
      "visibility": null,
      "width": null
     }
    }
   }
  }
 },
 "nbformat": 4,
 "nbformat_minor": 0
}
