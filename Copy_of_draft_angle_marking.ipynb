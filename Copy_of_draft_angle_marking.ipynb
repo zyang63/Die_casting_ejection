{
  "nbformat": 4,
  "nbformat_minor": 0,
  "metadata": {
    "colab": {
      "provenance": [],
      "authorship_tag": "ABX9TyNmfBzKeP/RucjXbbQrBzC1",
      "include_colab_link": true
    },
    "kernelspec": {
      "name": "python3",
      "display_name": "Python 3"
    },
    "language_info": {
      "name": "python"
    },
    "widgets": {
      "application/vnd.jupyter.widget-state+json": {
        "35db8edd7a30408fb3f66d41ec127741": {
          "model_module": "@jupyter-widgets/controls",
          "model_name": "ButtonModel",
          "model_module_version": "1.5.0",
          "state": {
            "_dom_classes": [],
            "_model_module": "@jupyter-widgets/controls",
            "_model_module_version": "1.5.0",
            "_model_name": "ButtonModel",
            "_view_count": null,
            "_view_module": "@jupyter-widgets/controls",
            "_view_module_version": "1.5.0",
            "_view_name": "ButtonView",
            "button_style": "",
            "description": "Google upload dialog",
            "disabled": false,
            "icon": "",
            "layout": "IPY_MODEL_bae61f9096794d45b3e2df030b5bfe48",
            "style": "IPY_MODEL_a113a22e220a459daad6b4cbb8b853ba",
            "tooltip": ""
          }
        },
        "bae61f9096794d45b3e2df030b5bfe48": {
          "model_module": "@jupyter-widgets/base",
          "model_name": "LayoutModel",
          "model_module_version": "1.2.0",
          "state": {
            "_model_module": "@jupyter-widgets/base",
            "_model_module_version": "1.2.0",
            "_model_name": "LayoutModel",
            "_view_count": null,
            "_view_module": "@jupyter-widgets/base",
            "_view_module_version": "1.2.0",
            "_view_name": "LayoutView",
            "align_content": null,
            "align_items": null,
            "align_self": null,
            "border": null,
            "bottom": null,
            "display": null,
            "flex": null,
            "flex_flow": null,
            "grid_area": null,
            "grid_auto_columns": null,
            "grid_auto_flow": null,
            "grid_auto_rows": null,
            "grid_column": null,
            "grid_gap": null,
            "grid_row": null,
            "grid_template_areas": null,
            "grid_template_columns": null,
            "grid_template_rows": null,
            "height": null,
            "justify_content": null,
            "justify_items": null,
            "left": null,
            "margin": null,
            "max_height": null,
            "max_width": null,
            "min_height": null,
            "min_width": null,
            "object_fit": null,
            "object_position": null,
            "order": null,
            "overflow": null,
            "overflow_x": null,
            "overflow_y": null,
            "padding": null,
            "right": null,
            "top": null,
            "visibility": null,
            "width": null
          }
        },
        "a113a22e220a459daad6b4cbb8b853ba": {
          "model_module": "@jupyter-widgets/controls",
          "model_name": "ButtonStyleModel",
          "model_module_version": "1.5.0",
          "state": {
            "_model_module": "@jupyter-widgets/controls",
            "_model_module_version": "1.5.0",
            "_model_name": "ButtonStyleModel",
            "_view_count": null,
            "_view_module": "@jupyter-widgets/base",
            "_view_module_version": "1.2.0",
            "_view_name": "StyleView",
            "button_color": null,
            "font_weight": ""
          }
        },
        "fed48ae7cfe94aed93959f95445a0d19": {
          "model_module": "@jupyter-widgets/output",
          "model_name": "OutputModel",
          "model_module_version": "1.0.0",
          "state": {
            "_dom_classes": [],
            "_model_module": "@jupyter-widgets/output",
            "_model_module_version": "1.0.0",
            "_model_name": "OutputModel",
            "_view_count": null,
            "_view_module": "@jupyter-widgets/output",
            "_view_module_version": "1.0.0",
            "_view_name": "OutputView",
            "layout": "IPY_MODEL_a9843a7d9f154e8b9a366b131100e775",
            "msg_id": "",
            "outputs": []
          }
        },
        "a9843a7d9f154e8b9a366b131100e775": {
          "model_module": "@jupyter-widgets/base",
          "model_name": "LayoutModel",
          "model_module_version": "1.2.0",
          "state": {
            "_model_module": "@jupyter-widgets/base",
            "_model_module_version": "1.2.0",
            "_model_name": "LayoutModel",
            "_view_count": null,
            "_view_module": "@jupyter-widgets/base",
            "_view_module_version": "1.2.0",
            "_view_name": "LayoutView",
            "align_content": null,
            "align_items": null,
            "align_self": null,
            "border": null,
            "bottom": null,
            "display": null,
            "flex": null,
            "flex_flow": null,
            "grid_area": null,
            "grid_auto_columns": null,
            "grid_auto_flow": null,
            "grid_auto_rows": null,
            "grid_column": null,
            "grid_gap": null,
            "grid_row": null,
            "grid_template_areas": null,
            "grid_template_columns": null,
            "grid_template_rows": null,
            "height": null,
            "justify_content": null,
            "justify_items": null,
            "left": null,
            "margin": null,
            "max_height": null,
            "max_width": null,
            "min_height": null,
            "min_width": null,
            "object_fit": null,
            "object_position": null,
            "order": null,
            "overflow": null,
            "overflow_x": null,
            "overflow_y": null,
            "padding": null,
            "right": null,
            "top": null,
            "visibility": null,
            "width": null
          }
        }
      }
    }
  },
  "cells": [
    {
      "cell_type": "markdown",
      "metadata": {
        "id": "view-in-github",
        "colab_type": "text"
      },
      "source": [
        "<a href=\"https://colab.research.google.com/github/zyang63/Die_casting_ejection/blob/main/Copy_of_draft_angle_marking.ipynb\" target=\"_parent\"><img src=\"https://colab.research.google.com/assets/colab-badge.svg\" alt=\"Open In Colab\"/></a>"
      ]
    },
    {
      "cell_type": "code",
      "source": [
        "%%capture\n",
        "!pip install trimesh\n",
        "!pip install bpy\n",
        "!pip install numpy pillow\n",
        "!apt-get install blender"
      ],
      "metadata": {
        "id": "fSWuUINvrHbN"
      },
      "execution_count": 1,
      "outputs": []
    },
    {
      "cell_type": "code",
      "source": [
        "import os\n",
        "import bpy\n",
        "import math\n",
        "import numpy as np\n",
        "from PIL import Image, ImageDraw\n",
        "import trimesh as t\n",
        "from trimesh.voxel import creation\n",
        "import cv2"
      ],
      "metadata": {
        "id": "FBEcWCVjq-YP"
      },
      "execution_count": 2,
      "outputs": []
    },
    {
      "cell_type": "code",
      "source": [
        "import ipywidgets as widgets\n",
        "from IPython.display import display\n",
        "from google.colab import files\n",
        "#@title #File Entry { display-mode: \"form\"}\n",
        "#@markdown User can choose to upload the file to colab directly or select the google file upload button at the bottom of this form. Also choose the number of elements.\n",
        "\n",
        "button_pressed = False  # Initialize the variable as False\n",
        "filename = \"\"\n",
        "button = widgets.Button(description=\"Google upload dialog\")\n",
        "output = widgets.Output()\n",
        "\n",
        "def on_button_clicked(b):\n",
        "    global button_pressed  # Access the global variable\n",
        "    global filename\n",
        "    with output:\n",
        "        uploaded = files.upload()\n",
        "        filename = list(uploaded.keys())[0]\n",
        "        button_pressed = True  # Set the variable to True when the button is clicked\n",
        "\n",
        "button.on_click(on_button_clicked)\n",
        "display(button, output)"
      ],
      "metadata": {
        "colab": {
          "base_uri": "https://localhost:8080/",
          "height": 49,
          "referenced_widgets": [
            "35db8edd7a30408fb3f66d41ec127741",
            "bae61f9096794d45b3e2df030b5bfe48",
            "a113a22e220a459daad6b4cbb8b853ba",
            "fed48ae7cfe94aed93959f95445a0d19",
            "a9843a7d9f154e8b9a366b131100e775"
          ]
        },
        "id": "RwzIYcTduok5",
        "outputId": "a03f899e-47db-47cd-ca04-ed3fe2331daa"
      },
      "execution_count": 3,
      "outputs": [
        {
          "output_type": "display_data",
          "data": {
            "text/plain": [
              "Button(description='Google upload dialog', style=ButtonStyle())"
            ],
            "application/vnd.jupyter.widget-view+json": {
              "version_major": 2,
              "version_minor": 0,
              "model_id": "35db8edd7a30408fb3f66d41ec127741"
            }
          },
          "metadata": {}
        },
        {
          "output_type": "display_data",
          "data": {
            "text/plain": [
              "Output()"
            ],
            "application/vnd.jupyter.widget-view+json": {
              "version_major": 2,
              "version_minor": 0,
              "model_id": "fed48ae7cfe94aed93959f95445a0d19"
            }
          },
          "metadata": {}
        }
      ]
    },
    {
      "cell_type": "code",
      "source": [
        "#@title #Element Count { display-mode: \"form\", run: \"auto\" }\n",
        "element_count = 200 #@param {type:\"slider\", min:10, max:500, step:1}\n",
        "if not button_pressed:\n",
        "  filename = \"/content/valve_body (1).STL\" #@param {type:\"string\"}\n",
        "geometry = t.load_mesh(filename)\n",
        "#geometry = t.load_mesh(\"/content/ball.stl\")\n",
        "voxel_size = geometry.extents.max()/element_count\n",
        "print(\"Element size is in units from stl file \",voxel_size, \" per cell\")"
      ],
      "metadata": {
        "id": "TKnpn0djrUR_",
        "colab": {
          "base_uri": "https://localhost:8080/"
        },
        "outputId": "aec64af4-830a-4bb9-a105-1249880c3c77"
      },
      "execution_count": 4,
      "outputs": [
        {
          "output_type": "stream",
          "name": "stdout",
          "text": [
            "Element size is in units from stl file  1.75  per cell\n"
          ]
        }
      ]
    },
    {
      "cell_type": "code",
      "source": [
        "rotation_angle = 90\n",
        "Mu = 0.6\n",
        "Max_scale_value = 0.05"
      ],
      "metadata": {
        "id": "Jnit-S1hnneA"
      },
      "execution_count": 5,
      "outputs": []
    },
    {
      "cell_type": "markdown",
      "source": [
        "# Remesh and output OBJ file"
      ],
      "metadata": {
        "id": "QBSS5dji0kSs"
      }
    },
    {
      "cell_type": "code",
      "source": [
        "blender_script = f\"\"\"\n",
        "import bpy\n",
        "\n",
        "bpy.ops.wm.read_factory_settings(use_empty=True)\n",
        "\n",
        "# Import STL mesh and apply remesh modifier\n",
        "bpy.ops.import_mesh.stl(filepath= \"{filename}\", global_scale=0.1,)\n",
        "\n",
        "bpy.ops.object.modifier_add(type='REMESH')\n",
        "bpy.context.object.modifiers[\"Remesh\"].mode = 'VOXEL'\n",
        "bpy.context.object.modifiers[\"Remesh\"].voxel_size = {voxel_size}/10\n",
        "bpy.ops.object.modifier_apply(modifier=\"Remesh\")\n",
        "\n",
        "# Unwrap the mesh using Smart UV Project\n",
        "bpy.ops.object.mode_set(mode='EDIT')\n",
        "bpy.ops.mesh.select_all(action='SELECT')\n",
        "bpy.ops.uv.smart_project()\n",
        "bpy.ops.object.mode_set(mode='OBJECT')\n",
        "selected_object = bpy.context.object\n",
        "\n",
        "\n",
        "\n",
        "# Export the object as an OBJ file\n",
        "for obj in bpy.context.selected_objects:\n",
        "    if obj.type == \"MESH\":\n",
        "        bpy.ops.export_scene.obj(filepath=\"/content/remeshed_uv.obj\", use_triangles=False, use_materials=False)\n",
        "\n",
        "file_path = \"/content/meshed_geometry.blend\"\n",
        "# Save the file\n",
        "bpy.ops.wm.save_as_mainfile(filepath=file_path)\"\"\"\n",
        "script_filename = \"/content/blender_script.py\"\n",
        "with open(script_filename, \"w\") as script_file:\n",
        "    script_file.write(blender_script)\n",
        "\n",
        "# Run Blender in headless mode with the script\n",
        "!blender -b -P {script_filename}"
      ],
      "metadata": {
        "id": "QXw1bTQin2gm",
        "colab": {
          "base_uri": "https://localhost:8080/"
        },
        "outputId": "8590d9b1-cd63-457b-9899-904e78a3c2c6"
      },
      "execution_count": 6,
      "outputs": [
        {
          "output_type": "stream",
          "name": "stdout",
          "text": [
            "Color management: using fallback mode for management\n",
            "Color management: Error could not find role data role.\n",
            "Blender 3.0.1\n",
            "Color management: scene view \"Filmic\" not found, setting default \"Standard\".\n",
            "Color management: scene view \"Filmic\" not found, setting default \"Standard\".\n",
            "Import finished in 0.4191 sec.\n",
            "    (  0.0003 sec |   0.0000 sec) OBJ Export path: '/content/remeshed_uv.obj'\n",
            "          ( 15.8451 sec |  15.8446 sec) Finished writing geometry of 'valve_body (1)'.\n",
            "      ( 15.8452 sec |  15.8450 sec) Finished exporting geometry, now exporting materials\n",
            "      ( 15.8453 sec |  15.8450 sec) OBJ Export Finished\n",
            "Progress: 100.00%\n",
            "\n",
            "Info: Total files 0 | Changed 0 | Failed 0\n",
            "Info: Saved \"meshed_geometry.blend\"\n",
            "Info: Saved \"meshed_geometry.blend\"\n",
            "\n",
            "Blender quit\n"
          ]
        }
      ]
    },
    {
      "cell_type": "code",
      "source": [
        "obj_file_path = '/content/remeshed_uv.obj'"
      ],
      "metadata": {
        "id": "i_WSXkHcLijf"
      },
      "execution_count": 7,
      "outputs": []
    },
    {
      "cell_type": "markdown",
      "source": [
        "# Ejection force and Friction coefficient"
      ],
      "metadata": {
        "id": "OJgdbwez0v4H"
      }
    },
    {
      "cell_type": "code",
      "source": [
        "def force_coefficient_calculation(selected_axis_data, obj_file_path, Mu):\n",
        "    vertices, faces, vt_coordinates = [], [], []\n",
        "    vt_faces, abs_F_list, tangents, abs_tangents = [], [], [], []\n",
        "    direction = np.array(selected_axis_data)\n",
        "    with open(obj_file_path, 'r') as obj_file:\n",
        "        for line in obj_file:\n",
        "            parts = line.split()\n",
        "            if parts[0] == 'v':\n",
        "                vertices.append(list(map(float, parts[1:3])) + [float(parts[3]) if len(parts) > 3 else 0.0])\n",
        "            elif parts[0] == 'f':\n",
        "                face, vt_face = zip(*((int(x.split('/')[0]) - 1, int(x.split('/')[1]) - 1) for x in parts[1:]))\n",
        "                faces.append(face)\n",
        "                vt_faces.append(vt_face)\n",
        "            elif parts[0] == 'vt':\n",
        "                vt_coordinates.append(list(map(float, parts[1:])))\n",
        "    for face in faces:\n",
        "        normal = np.cross(*(np.array(vertices[face[i]]) - np.array(vertices[face[0]]) for i in (1, 2)))\n",
        "        normal /= np.linalg.norm(normal)\n",
        "        cosine = np.dot(normal, direction) / np.linalg.norm(direction)\n",
        "        sine = np.sqrt(1 - cosine**2)\n",
        "        abs_F_list.append(Mu * abs(sine) - abs(cosine))\n",
        "        tangents.append(cosine / sine)\n",
        "        abs_tangents.append(abs(cosine / sine))\n",
        "    return vt_coordinates, vt_faces, abs_F_list, tangents, abs_tangents"
      ],
      "metadata": {
        "id": "4OWyR1iL373X"
      },
      "execution_count": 8,
      "outputs": []
    },
    {
      "cell_type": "markdown",
      "source": [
        "#Direction\n"
      ],
      "metadata": {
        "id": "otqgo0DrzCxM"
      }
    },
    {
      "cell_type": "code",
      "source": [
        "def normal_force_rotation(rotation_angle):\n",
        "    def rotation_matrix(axis, theta):\n",
        "        theta = np.radians(theta)\n",
        "        if axis == 'x':\n",
        "            return np.array([[1, 0, 0], [0, np.cos(theta), -np.sin(theta)], [0, np.sin(theta), np.cos(theta)]])\n",
        "        elif axis == 'y':\n",
        "            return np.array([[np.cos(theta), 0, np.sin(theta)], [0, 1, 0], [-np.sin(theta), 0, np.cos(theta)]])\n",
        "        elif axis == 'z':\n",
        "            return np.array([[np.cos(theta), -np.sin(theta), 0], [np.sin(theta), np.cos(theta), 0], [0, 0, 1]])\n",
        "    unique_rotations = {}\n",
        "    for theta_x in range(0, 360 + rotation_angle, rotation_angle):\n",
        "        for theta_y in range(0, 360 + rotation_angle, rotation_angle):\n",
        "            for theta_z in range(0, 360 + rotation_angle, rotation_angle):\n",
        "                rotated_vector = np.dot(rotation_matrix('x', theta_x),\n",
        "                                        np.dot(rotation_matrix('y', theta_y),\n",
        "                                               np.dot(rotation_matrix('z', theta_z), np.array([0, 1, 0]))))\n",
        "                rotated_vector = tuple(np.where(np.abs(rotated_vector) < 0.001, 0, rotated_vector))\n",
        "                unique_rotations.setdefault(rotated_vector, (theta_x, theta_y, theta_z))\n",
        "    unique_angles_list = list(unique_rotations.values())\n",
        "    unique_vectors_list = [list(vec) for vec in unique_rotations.keys()]\n",
        "    return unique_angles_list, unique_vectors_list"
      ],
      "metadata": {
        "id": "QSuknZJbrpA0"
      },
      "execution_count": 9,
      "outputs": []
    },
    {
      "cell_type": "code",
      "source": [
        "counts = [sum(1 for t in force_coefficient_calculation(direction, obj_file_path, Mu)[3] if t < Mu)\n",
        "    for direction in normal_force_rotation(rotation_angle)[1]]\n",
        "die_separation_direction = normal_force_rotation(rotation_angle)[1][np.argmin(counts)]"
      ],
      "metadata": {
        "colab": {
          "base_uri": "https://localhost:8080/"
        },
        "id": "2penc5-wMfVM",
        "outputId": "18f44157-112b-417e-b515-77d97d50f448"
      },
      "execution_count": 10,
      "outputs": [
        {
          "output_type": "stream",
          "name": "stderr",
          "text": [
            "<ipython-input-8-c5466d3dcf86>:24: RuntimeWarning: divide by zero encountered in scalar divide\n",
            "  tangents.append(cosine / sine)\n",
            "<ipython-input-8-c5466d3dcf86>:25: RuntimeWarning: divide by zero encountered in scalar divide\n",
            "  abs_tangents.append(abs(cosine / sine))\n"
          ]
        }
      ]
    },
    {
      "cell_type": "code",
      "source": [
        "print(counts)\n",
        "print(corresponding_row)"
      ],
      "metadata": {
        "colab": {
          "base_uri": "https://localhost:8080/"
        },
        "id": "M0_h21hhL-tL",
        "outputId": "d5fea156-a266-43f8-8490-3a86f5bbf93e"
      },
      "execution_count": 11,
      "outputs": [
        {
          "output_type": "stream",
          "name": "stdout",
          "text": [
            "[247500, 258378, 244191, 258289, 237174, 237009]\n",
            "[0.0, 0.0, -1.0]\n"
          ]
        }
      ]
    },
    {
      "cell_type": "code",
      "source": [
        "vt_coordinates, vt_faces, abs_F_list, tangents, abs_tangents = force_coefficient_calculation(corresponding_row, obj_file_path, Mu)"
      ],
      "metadata": {
        "colab": {
          "base_uri": "https://localhost:8080/"
        },
        "id": "Uc79P9Pq7Bxn",
        "outputId": "2c9e2ddb-e5dc-4c0f-8036-97cf159ca48c"
      },
      "execution_count": 12,
      "outputs": [
        {
          "output_type": "stream",
          "name": "stderr",
          "text": [
            "<ipython-input-8-c5466d3dcf86>:24: RuntimeWarning: divide by zero encountered in scalar divide\n",
            "  tangents.append(cosine / sine)\n",
            "<ipython-input-8-c5466d3dcf86>:25: RuntimeWarning: divide by zero encountered in scalar divide\n",
            "  abs_tangents.append(abs(cosine / sine))\n"
          ]
        }
      ]
    },
    {
      "cell_type": "code",
      "source": [
        "abs_F_array = np.array(abs_F_list)\n",
        "max_abs_F = abs_F_array.max()\n",
        "min_abs_F = abs_F_array.min()\n",
        "tangents_array = np.array(tangents)\n",
        "tangent_filtered_array = tangents_array[~np.isnan(tangents_array) & np.isfinite(tangents_array)]\n",
        "abs_tangents_array = np.array(abs_tangents)\n",
        "abs_tangent_filtered_array = abs_tangents_array[~np.isnan(abs_tangents_array) & np.isfinite(abs_tangents_array)]"
      ],
      "metadata": {
        "id": "_D2fMuFvbCLv"
      },
      "execution_count": 13,
      "outputs": []
    },
    {
      "cell_type": "code",
      "source": [
        "print(abs_F_array)"
      ],
      "metadata": {
        "colab": {
          "base_uri": "https://localhost:8080/"
        },
        "id": "oatn8GNMM9Rn",
        "outputId": "30d146e8-9e67-4551-a4d0-091aa43ff4ae"
      },
      "execution_count": 14,
      "outputs": [
        {
          "output_type": "stream",
          "name": "stdout",
          "text": [
            "[ 0.6         0.6         0.6        ...  0.6        -0.9108459\n",
            " -0.41242985]\n"
          ]
        }
      ]
    },
    {
      "cell_type": "markdown",
      "source": [
        "# Texture marked"
      ],
      "metadata": {
        "id": "MB94HFjy1ywr"
      }
    },
    {
      "cell_type": "code",
      "source": [
        "# Determine the image size.\n",
        "image_size = 1080\n",
        "\n",
        "color_bins = [(i, 0, 256-i) for i in range(0, 256, 26)]\n",
        "\n",
        "# Create a black image.\n",
        "image = Image.new(\"RGB\", (image_size, image_size), \"black\")\n",
        "draw = ImageDraw.Draw(image)\n",
        "\n",
        "# Scale the VT coordinates to fit the 1080x1080 image size.\n",
        "scaled_vt_coordinates = [\n",
        "    (vt[0] * image_size, (1 - vt[1]) * image_size) for vt in vt_coordinates\n",
        "]\n",
        "\n",
        "# Loop through the faces and apply red or blue coloring based on cosines.\n",
        "for i, (vt_face, abs_F) in enumerate(zip(vt_faces, abs_F_list)):\n",
        "    if all(0 <= j < len(scaled_vt_coordinates) for j in vt_face):\n",
        "        vt_indices = [scaled_vt_coordinates[j] for j in vt_face]\n",
        "        #print(vt_indices)\n",
        "        fraction = (abs_F - min_abs_F) / (max_abs_F - min_abs_F)\n",
        "        index = int(fraction * 10)\n",
        "        index = max(0, min(index, 9))  # Ensure the index is within the valid range\n",
        "\n",
        "    # Use the selected color from the color_bins list\n",
        "        color = color_bins[index]\n",
        "        draw.polygon(\n",
        "            vt_indices,\n",
        "            outline=color,\n",
        "            fill=color,\n",
        "        )\n",
        "\n",
        "# Save the marked image.\n",
        "image.save('marked_image_abs_F.png')\n"
      ],
      "metadata": {
        "id": "nSFrWNLcoRPM"
      },
      "execution_count": 105,
      "outputs": []
    },
    {
      "cell_type": "code",
      "source": [
        "# Determine the image size.\n",
        "image_size = 1080\n",
        "\n",
        "color_bins = [(256-i, 0, i) for i in range(0, 256, 26)]\n",
        "\n",
        "# Create a black image.\n",
        "image = Image.new(\"RGB\", (image_size, image_size), \"black\")\n",
        "draw = ImageDraw.Draw(image)\n",
        "\n",
        "# Scale the VT coordinates to fit the 1080x1080 image size.\n",
        "scaled_vt_coordinates = [\n",
        "    (vt[0] * image_size, (1 - vt[1]) * image_size) for vt in vt_coordinates\n",
        "]\n",
        "\n",
        "# Loop through the faces and apply red or blue coloring based on cosines.\n",
        "for i, (vt_face, abs_tangent) in enumerate(zip(vt_faces ,abs_tangents)):\n",
        "    if all(0 <= j < len(scaled_vt_coordinates) for j in vt_face):\n",
        "        vt_indices = [scaled_vt_coordinates[j] for j in vt_face]\n",
        "        if abs_tangent != float('inf') and 0 <= abs_tangent <= Max_scale_value:\n",
        "          fraction = (abs_tangent - 0) / Max_scale_value\n",
        "\n",
        "    # Map fraction to one of the 10 color bins\n",
        "          index = int(fraction * 10)\n",
        "          index = max(0, min(index, 9))  # Ensure the index is within the valid range\n",
        "\n",
        "    # Use the selected color from the color_bins list\n",
        "          color = color_bins[index]\n",
        "        elif abs_tangent != float('inf') and  abs_tangent > Mu:\n",
        "            color = (125, 125, 125)\n",
        "        elif abs_tangent != float('inf') and  Max_scale_value < abs_tangent <= Mu:\n",
        "            color = (0, 0, 255)\n",
        "        elif abs_tangent == float('inf'):\n",
        "            color = (125, 125, 125)\n",
        "        # Draw a red or blue polygon on the image.\n",
        "        draw.polygon(\n",
        "            vt_indices,\n",
        "            outline=color,\n",
        "            fill=color,\n",
        "        )\n",
        "\n",
        "# Save the marked image.\n",
        "image.save('marked_image_abs_tangents.png')"
      ],
      "metadata": {
        "id": "JBYWtoftkLfc"
      },
      "execution_count": 15,
      "outputs": []
    },
    {
      "cell_type": "code",
      "source": [
        "image_size = 1080\n",
        "color_bins = [(256 - i, 0, i) for i in range(0, 256, 26)]\n",
        "image = Image.new(\"RGB\", (image_size, image_size), \"black\")\n",
        "draw = ImageDraw.Draw(image)\n",
        "scaled_vt_coordinates = [(vt[0] * image_size, (1 - vt[1]) * image_size) for vt in vt_coordinates]\n",
        "for vt_face, abs_tangent in zip(vt_faces, abs_tangents):\n",
        "    if all(0 <= j < len(scaled_vt_coordinates) for j in vt_face):\n",
        "        vt_indices = [scaled_vt_coordinates[j] for j in vt_face]\n",
        "        if abs_tangent == float('inf') or abs_tangent > Mu:\n",
        "            color = (125, 125, 125)\n",
        "        elif abs_tangent > Max_scale_value:\n",
        "            color = (0, 0, 255)\n",
        "        else:\n",
        "            fraction = max(0, min((abs_tangent / Max_scale_value), 1))\n",
        "            color = color_bins[int(fraction * 10)]\n",
        "image.save('marked_image_abs_tangents.png')"
      ],
      "metadata": {
        "id": "cwFLxccee7C0"
      },
      "execution_count": 17,
      "outputs": []
    },
    {
      "cell_type": "code",
      "source": [
        "# Determine the image size.\n",
        "image_size = 1080\n",
        "\n",
        "color_bins_positive = [(256-i, 0, 0) for i in range(0, 256, 26)]\n",
        "color_bins_negative = [(0, 0, 256-i) for i in range(0, 256, 26)]\n",
        "\n",
        "# Create a black image.\n",
        "image = Image.new(\"RGB\", (image_size, image_size), \"black\")\n",
        "draw = ImageDraw.Draw(image)\n",
        "\n",
        "# Scale the VT coordinates to fit the 1080x1080 image size.\n",
        "scaled_vt_coordinates = [\n",
        "    (vt[0] * image_size, (1 - vt[1]) * image_size) for vt in vt_coordinates\n",
        "]\n",
        "\n",
        "# Loop through the faces and apply red or blue coloring based on cosines.\n",
        "for i, (vt_face, tangent) in enumerate(zip(vt_faces ,tangents)):\n",
        "    if all(0 <= j < len(scaled_vt_coordinates) for j in vt_face):\n",
        "        vt_indices = [scaled_vt_coordinates[j] for j in vt_face]\n",
        "        if tangent != float('inf') and 0 < tangent <= Max_scale_value:\n",
        "          fraction = (tangent - 0) / Max_scale_value\n",
        "\n",
        "    # Map fraction to one of the 10 color bins\n",
        "          index = int(fraction * 10)\n",
        "          index = max(0, min(index, 9))  # Ensure the index is within the valid range\n",
        "\n",
        "    # Use the selected color from the color_bins list\n",
        "          color = color_bins_positive[index]\n",
        "        elif tangent != float('inf') and (-Max_scale_value) <= tangent < 0:\n",
        "          fraction = (tangent -0) / (-Max_scale_value)\n",
        "\n",
        "    # Map fraction to one of the 10 color bins\n",
        "          index_1 = int(fraction * 10)\n",
        "          index_1 = max(0, min(index, 9))  # Ensure the index is within the valid range\n",
        "          color = color_bins_negative[index]\n",
        "        elif tangent != float('inf') and  tangent > Mu:\n",
        "            color = (125, 125, 125)\n",
        "        elif tangent != float('inf') and  tangent < (-Mu):\n",
        "            color = (125, 125, 125)\n",
        "        elif tangent != float('inf') and  Max_scale_value < tangent <= Mu:\n",
        "            color = (255, 0, 0)\n",
        "        elif tangent != float('inf') and  (-Mu) <= tangent < (-Max_scale_value):\n",
        "            color = (0, 0, 255)\n",
        "        elif tangent == 0:\n",
        "            color = (255, 255, 255)\n",
        "        elif tangent == float('inf'):\n",
        "            color = (125, 125, 125)\n",
        "        # Draw a red or blue polygon on the image.\n",
        "        draw.polygon(\n",
        "            vt_indices,\n",
        "            outline=color,\n",
        "            fill=color,\n",
        "        )\n",
        "\n",
        "# Save the marked image.\n",
        "image.save('marked_image_tangents.png')"
      ],
      "metadata": {
        "id": "ap8znEtY2Ikm"
      },
      "execution_count": null,
      "outputs": []
    },
    {
      "cell_type": "code",
      "source": [
        "# Determine the image size.\n",
        "image_size = 1080\n",
        "\n",
        "# Create a black image.\n",
        "image = Image.new(\"RGB\", (image_size, image_size), \"black\")\n",
        "draw = ImageDraw.Draw(image)\n",
        "\n",
        "# Scale the VT coordinates to fit the 1080x1080 image size.\n",
        "scaled_vt_coordinates = [\n",
        "    (vt[0] * image_size, (1 - vt[1]) * image_size) for vt in vt_coordinates\n",
        "]\n",
        "\n",
        "# Loop through the faces and apply red or blue coloring based on cosines.\n",
        "for i, (vt_face, tangent) in enumerate(zip(vt_faces ,tangents)):\n",
        "    if all(0 <= j < len(scaled_vt_coordinates) for j in vt_face):\n",
        "        vt_indices = [scaled_vt_coordinates[j] for j in vt_face]\n",
        "        if tangent != float('inf') and 0 < tangent <= Mu:\n",
        "          color = (255,0,0)\n",
        "        elif tangent != float('inf') and  tangent > Mu:\n",
        "            color = (0, 0, 0)\n",
        "        elif tangent != float('inf') and  tangent < (-Mu):\n",
        "            color = (0, 0, 0)\n",
        "        elif tangent != float('inf') and  (-Mu) <= tangent < 0:\n",
        "            color = (0, 0, 255)\n",
        "        elif tangent == 0:\n",
        "            color = (255, 255, 255)\n",
        "        elif tangent == float('inf'):\n",
        "            color = (0, 0, 0)\n",
        "        # Draw a red or blue polygon on the image.\n",
        "        draw.polygon(\n",
        "            vt_indices,\n",
        "            outline=color,\n",
        "            fill=color,\n",
        "        )\n",
        "\n",
        "# Save the marked image.\n",
        "image.save('marked_sum_tangents.png')"
      ],
      "metadata": {
        "id": "4d7Pb8fhPhtB"
      },
      "execution_count": null,
      "outputs": []
    },
    {
      "cell_type": "code",
      "source": [
        "# For example, you can upload an image to Colab and use its path\n",
        "image_path = '/content/marked_sum_tangents.png'\n",
        "image = cv2.imread(image_path)\n",
        "\n",
        "# Convert the image to RGB format\n",
        "image_rgb = cv2.cvtColor(image, cv2.COLOR_BGR2RGB)\n",
        "\n",
        "# Define the color values for red and blue\n",
        "red_color = np.array([255, 0, 0])\n",
        "blue_color = np.array([0, 0, 255])\n",
        "\n",
        "# Count the number of pixels matching the red and blue colors\n",
        "red_pixel_count = np.sum(np.all(image_rgb == red_color, axis=-1))\n",
        "blue_pixel_count = np.sum(np.all(image_rgb == blue_color, axis=-1))\n",
        "print(\"Number of red pixels:\", red_pixel_count)\n",
        "print(\"Number of blue pixels:\", blue_pixel_count)\n",
        "# Compare the number of red and blue pixels and print \"top\" if red is larger\n",
        "if red_pixel_count > blue_pixel_count:\n",
        "    print(\"Top need more force\")\n",
        "else:\n",
        "    print(\"Bottom need more force\")\n"
      ],
      "metadata": {
        "colab": {
          "base_uri": "https://localhost:8080/"
        },
        "id": "IeAtoLwfQpAy",
        "outputId": "808ec04e-21f2-4520-b2e9-6ab57f78209f"
      },
      "execution_count": null,
      "outputs": [
        {
          "output_type": "stream",
          "name": "stdout",
          "text": [
            "Number of red pixels: 153088\n",
            "Number of blue pixels: 232989\n",
            "Bottom need more force\n"
          ]
        }
      ]
    },
    {
      "cell_type": "markdown",
      "source": [
        "# Visualization"
      ],
      "metadata": {
        "id": "SWcL1Meb2FUW"
      }
    },
    {
      "cell_type": "code",
      "source": [
        "bpy.ops.wm.open_mainfile(filepath=\"/content/meshed_geometry.blend\")\n",
        "material = bpy.data.materials.new(name=\"MyMaterial\")\n",
        "\n",
        "# Create a new shader node tree for the material\n",
        "material.use_nodes = True\n",
        "tree = material.node_tree\n",
        "nodes = tree.nodes\n",
        "\n",
        "# Clear existing nodes\n",
        "for node in nodes:\n",
        "    nodes.remove(node)\n",
        "\n",
        "# Create a new Principled BSDF node\n",
        "bsdf_node = nodes.new(type='ShaderNodeBsdfPrincipled')\n",
        "bsdf_node.location = (0, 0)  # Position the node in the node editor\n",
        "\n",
        "# Create a new Image Texture node\n",
        "texture_node = nodes.new(type='ShaderNodeTexImage')\n",
        "texture_node.location = (-200, 0)  # Position the node in the node editor\n",
        "\n",
        "# Set the path to the image texture\n",
        "texture_node.image = bpy.data.images.load(\"/content/marked_image_abs_F.png\")\n",
        "\n",
        "# Connect the Image Texture node to the Base Color input of the Principled BSDF node\n",
        "base_color_link = tree.links.new(texture_node.outputs['Color'], bsdf_node.inputs['Base Color'])\n",
        "\n",
        "# Create a new Material Output node\n",
        "output_node = nodes.new(type='ShaderNodeOutputMaterial')\n",
        "output_node.location = (200, 0)  # Position the node in the node editor\n",
        "\n",
        "# Connect the Principled BSDF node to the Surface input of the Material Output node\n",
        "surface_link = tree.links.new(bsdf_node.outputs['BSDF'], output_node.inputs['Surface'])\n",
        "\n",
        "# Assign the material to the active object\n",
        "bpy.context.object.data.materials.append(material)\n",
        "bpy.ops.export_scene.gltf(filepath=\"/content/colored_F_geometry.glb\")"
      ],
      "metadata": {
        "colab": {
          "base_uri": "https://localhost:8080/"
        },
        "id": "vNbUlH0Jr9cx",
        "outputId": "7e44cd9e-3f4f-4ce2-e36c-003b2b74f2e2"
      },
      "execution_count": 106,
      "outputs": [
        {
          "output_type": "stream",
          "name": "stdout",
          "text": [
            "06:20:03 | ERROR: Draco mesh compression is not available because library could not be found at /content/4.0/python/lib/python3.10/site-packages/libextern_draco.so\n",
            "06:20:03 | INFO: Starting glTF 2.0 export\n",
            "06:20:05 | INFO: Extracting primitive: cylinder_2_degree\n",
            "06:20:12 | INFO: Primitives created: 1\n",
            "06:20:13 | INFO: Finished glTF 2.0 export in 10.480602741241455 s\n",
            "\n"
          ]
        },
        {
          "output_type": "execute_result",
          "data": {
            "text/plain": [
              "{'FINISHED'}"
            ]
          },
          "metadata": {},
          "execution_count": 106
        }
      ]
    },
    {
      "cell_type": "code",
      "source": [
        "bpy.ops.wm.open_mainfile(filepath=\"/content/meshed_geometry.blend\")\n",
        "material = bpy.data.materials.new(name=\"MyMaterial\")\n",
        "\n",
        "# Create a new shader node tree for the material\n",
        "material.use_nodes = True\n",
        "tree = material.node_tree\n",
        "nodes = tree.nodes\n",
        "\n",
        "# Clear existing nodes\n",
        "for node in nodes:\n",
        "    nodes.remove(node)\n",
        "\n",
        "# Create a new Principled BSDF node\n",
        "bsdf_node = nodes.new(type='ShaderNodeBsdfPrincipled')\n",
        "bsdf_node.location = (0, 0)  # Position the node in the node editor\n",
        "\n",
        "# Create a new Image Texture node\n",
        "texture_node = nodes.new(type='ShaderNodeTexImage')\n",
        "texture_node.location = (-200, 0)  # Position the node in the node editor\n",
        "\n",
        "# Set the path to the image texture\n",
        "texture_node.image = bpy.data.images.load(\"/content/marked_image_abs_tangents.png\")\n",
        "\n",
        "# Connect the Image Texture node to the Base Color input of the Principled BSDF node\n",
        "base_color_link = tree.links.new(texture_node.outputs['Color'], bsdf_node.inputs['Base Color'])\n",
        "\n",
        "# Create a new Material Output node\n",
        "output_node = nodes.new(type='ShaderNodeOutputMaterial')\n",
        "output_node.location = (200, 0)  # Position the node in the node editor\n",
        "\n",
        "# Connect the Principled BSDF node to the Surface input of the Material Output node\n",
        "surface_link = tree.links.new(bsdf_node.outputs['BSDF'], output_node.inputs['Surface'])\n",
        "\n",
        "# Assign the material to the active object\n",
        "bpy.context.object.data.materials.append(material)\n",
        "bpy.ops.export_scene.gltf(filepath=\"/content/colored_abs_tangent_geometry.glb\")"
      ],
      "metadata": {
        "colab": {
          "base_uri": "https://localhost:8080/"
        },
        "id": "rv5zbZjhpOnn",
        "outputId": "13279b17-ec71-4e1b-acca-8192ef0cffce"
      },
      "execution_count": 16,
      "outputs": [
        {
          "output_type": "stream",
          "name": "stdout",
          "text": [
            "03:59:35 | ERROR: Draco mesh compression is not available because library could not be found at /content/4.0/python/lib/python3.10/site-packages/libextern_draco.so\n",
            "03:59:36 | INFO: Starting glTF 2.0 export\n",
            "03:59:36 | INFO: Extracting primitive: valve_body (1)\n",
            "03:59:39 | INFO: Primitives created: 1\n",
            "03:59:39 | INFO: Finished glTF 2.0 export in 3.825425863265991 s\n",
            "\n"
          ]
        },
        {
          "output_type": "execute_result",
          "data": {
            "text/plain": [
              "{'FINISHED'}"
            ]
          },
          "metadata": {},
          "execution_count": 16
        }
      ]
    },
    {
      "cell_type": "code",
      "source": [
        "bpy.ops.wm.open_mainfile(filepath=\"/content/meshed_geometry.blend\")\n",
        "material = bpy.data.materials.new(name=\"MyMaterial\")\n",
        "material.use_nodes = True\n",
        "nodes = material.node_tree.nodes\n",
        "links = material.node_tree.links\n",
        "nodes.clear()\n",
        "bsdf_node = nodes.new(type='ShaderNodeBsdfPrincipled')\n",
        "texture_node = nodes.new(type='ShaderNodeTexImage')\n",
        "output_node = nodes.new(type='ShaderNodeOutputMaterial')\n",
        "texture_node.image = bpy.data.images.load(\"/content/marked_image_abs_tangents.png\")\n",
        "bsdf_node.location, texture_node.location, output_node.location = (0, 0), (-200, 0), (200, 0)\n",
        "links.new(texture_node.outputs['Color'], bsdf_node.inputs['Base Color'])\n",
        "links.new(bsdf_node.outputs['BSDF'], output_node.inputs['Surface'])\n",
        "bpy.context.object.data.materials.append(material)\n",
        "bpy.ops.export_scene.gltf(filepath=\"/content/colored_abs_tangent_geometry.glb\")"
      ],
      "metadata": {
        "colab": {
          "base_uri": "https://localhost:8080/"
        },
        "id": "HyiDEF7kk6mU",
        "outputId": "9de7bd28-c92c-4bb8-c0e7-6763f66a0c50"
      },
      "execution_count": 18,
      "outputs": [
        {
          "output_type": "stream",
          "name": "stdout",
          "text": [
            "05:22:53 | ERROR: Draco mesh compression is not available because library could not be found at /content/4.0/python/lib/python3.10/site-packages/libextern_draco.so\n",
            "05:22:53 | INFO: Starting glTF 2.0 export\n",
            "05:22:53 | INFO: Extracting primitive: valve_body (1)\n",
            "05:22:57 | INFO: Primitives created: 1\n",
            "05:22:57 | INFO: Finished glTF 2.0 export in 3.7976269721984863 s\n",
            "\n"
          ]
        },
        {
          "output_type": "execute_result",
          "data": {
            "text/plain": [
              "{'FINISHED'}"
            ]
          },
          "metadata": {},
          "execution_count": 18
        }
      ]
    },
    {
      "cell_type": "code",
      "source": [
        "bpy.ops.wm.open_mainfile(filepath=\"/content/meshed_geometry.blend\")\n",
        "material = bpy.data.materials.new(name=\"MyMaterial\")\n",
        "\n",
        "# Create a new shader node tree for the material\n",
        "material.use_nodes = True\n",
        "tree = material.node_tree\n",
        "nodes = tree.nodes\n",
        "\n",
        "# Clear existing nodes\n",
        "for node in nodes:\n",
        "    nodes.remove(node)\n",
        "\n",
        "# Create a new Principled BSDF node\n",
        "bsdf_node = nodes.new(type='ShaderNodeBsdfPrincipled')\n",
        "bsdf_node.location = (0, 0)  # Position the node in the node editor\n",
        "\n",
        "# Create a new Image Texture node\n",
        "texture_node = nodes.new(type='ShaderNodeTexImage')\n",
        "texture_node.location = (-200, 0)  # Position the node in the node editor\n",
        "\n",
        "# Set the path to the image texture\n",
        "texture_node.image = bpy.data.images.load(\"/content/marked_image_tangents.png\")\n",
        "\n",
        "# Connect the Image Texture node to the Base Color input of the Principled BSDF node\n",
        "base_color_link = tree.links.new(texture_node.outputs['Color'], bsdf_node.inputs['Base Color'])\n",
        "\n",
        "# Create a new Material Output node\n",
        "output_node = nodes.new(type='ShaderNodeOutputMaterial')\n",
        "output_node.location = (200, 0)  # Position the node in the node editor\n",
        "\n",
        "# Connect the Principled BSDF node to the Surface input of the Material Output node\n",
        "surface_link = tree.links.new(bsdf_node.outputs['BSDF'], output_node.inputs['Surface'])\n",
        "\n",
        "# Assign the material to the active object\n",
        "bpy.context.object.data.materials.append(material)\n",
        "bpy.ops.export_scene.gltf(filepath=\"/content/colored_tangent_geometry.glb\")"
      ],
      "metadata": {
        "colab": {
          "base_uri": "https://localhost:8080/"
        },
        "id": "crQ9rqRh6bTC",
        "outputId": "a1b2a310-333e-467a-e8e5-e255fae20041"
      },
      "execution_count": null,
      "outputs": [
        {
          "output_type": "stream",
          "name": "stdout",
          "text": [
            "17:55:51 | ERROR: Draco mesh compression is not available because library could not be found at /content/4.0/python/lib/python3.10/site-packages/libextern_draco.so\n",
            "17:55:51 | INFO: Starting glTF 2.0 export\n",
            "17:55:51 | INFO: Extracting primitive: Casting_Shot - 8M0111257-1\n",
            "17:55:53 | INFO: Primitives created: 1\n",
            "17:55:53 | INFO: Finished glTF 2.0 export in 1.3204104900360107 s\n",
            "\n"
          ]
        },
        {
          "output_type": "execute_result",
          "data": {
            "text/plain": [
              "{'FINISHED'}"
            ]
          },
          "metadata": {},
          "execution_count": 39
        }
      ]
    },
    {
      "cell_type": "code",
      "source": [
        "files_to_delete = [\n",
        "    \"/content/meshed_geometry.blend\",\n",
        "    \"/content/remeshed_uv.obj\",\n",
        "    \"/content/marked_image_abs_F.png\",\n",
        "    \"/content/marked_image_tangents.png\",\n",
        "    \"/content/marked_image_abs_tangents.png\",\n",
        "    \"/content/blender_script.py\",\n",
        "    \"/content/marked_sum_tangents.png\"\n",
        "]\n",
        "\n",
        "for file_path in files_to_delete:\n",
        "    if os.path.exists(file_path):\n",
        "        os.remove(file_path)"
      ],
      "metadata": {
        "id": "rDz2Q8Ce2Wv1"
      },
      "execution_count": null,
      "outputs": []
    }
  ]
}