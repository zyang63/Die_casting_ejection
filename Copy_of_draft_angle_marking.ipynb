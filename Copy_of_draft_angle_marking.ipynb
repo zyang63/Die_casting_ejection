{
  "nbformat": 4,
  "nbformat_minor": 0,
  "metadata": {
    "colab": {
      "provenance": [],
      "authorship_tag": "ABX9TyOPfNopyBi8MdlJPSypIF9u",
      "include_colab_link": true
    },
    "kernelspec": {
      "name": "python3",
      "display_name": "Python 3"
    },
    "language_info": {
      "name": "python"
    },
    "widgets": {
      "application/vnd.jupyter.widget-state+json": {
        "e87adca86e404eb2af170fc538d676cb": {
          "model_module": "@jupyter-widgets/controls",
          "model_name": "ButtonModel",
          "model_module_version": "1.5.0",
          "state": {
            "_dom_classes": [],
            "_model_module": "@jupyter-widgets/controls",
            "_model_module_version": "1.5.0",
            "_model_name": "ButtonModel",
            "_view_count": null,
            "_view_module": "@jupyter-widgets/controls",
            "_view_module_version": "1.5.0",
            "_view_name": "ButtonView",
            "button_style": "",
            "description": "Google upload dialog",
            "disabled": false,
            "icon": "",
            "layout": "IPY_MODEL_34f43be23d7c4c48a904f5119202cc71",
            "style": "IPY_MODEL_4af9d73dcbe74b54b17200b19d48791b",
            "tooltip": ""
          }
        },
        "34f43be23d7c4c48a904f5119202cc71": {
          "model_module": "@jupyter-widgets/base",
          "model_name": "LayoutModel",
          "model_module_version": "1.2.0",
          "state": {
            "_model_module": "@jupyter-widgets/base",
            "_model_module_version": "1.2.0",
            "_model_name": "LayoutModel",
            "_view_count": null,
            "_view_module": "@jupyter-widgets/base",
            "_view_module_version": "1.2.0",
            "_view_name": "LayoutView",
            "align_content": null,
            "align_items": null,
            "align_self": null,
            "border": null,
            "bottom": null,
            "display": null,
            "flex": null,
            "flex_flow": null,
            "grid_area": null,
            "grid_auto_columns": null,
            "grid_auto_flow": null,
            "grid_auto_rows": null,
            "grid_column": null,
            "grid_gap": null,
            "grid_row": null,
            "grid_template_areas": null,
            "grid_template_columns": null,
            "grid_template_rows": null,
            "height": null,
            "justify_content": null,
            "justify_items": null,
            "left": null,
            "margin": null,
            "max_height": null,
            "max_width": null,
            "min_height": null,
            "min_width": null,
            "object_fit": null,
            "object_position": null,
            "order": null,
            "overflow": null,
            "overflow_x": null,
            "overflow_y": null,
            "padding": null,
            "right": null,
            "top": null,
            "visibility": null,
            "width": null
          }
        },
        "4af9d73dcbe74b54b17200b19d48791b": {
          "model_module": "@jupyter-widgets/controls",
          "model_name": "ButtonStyleModel",
          "model_module_version": "1.5.0",
          "state": {
            "_model_module": "@jupyter-widgets/controls",
            "_model_module_version": "1.5.0",
            "_model_name": "ButtonStyleModel",
            "_view_count": null,
            "_view_module": "@jupyter-widgets/base",
            "_view_module_version": "1.2.0",
            "_view_name": "StyleView",
            "button_color": null,
            "font_weight": ""
          }
        },
        "5eba9f0e7fd64f10bd8501cdb0220e1c": {
          "model_module": "@jupyter-widgets/output",
          "model_name": "OutputModel",
          "model_module_version": "1.0.0",
          "state": {
            "_dom_classes": [],
            "_model_module": "@jupyter-widgets/output",
            "_model_module_version": "1.0.0",
            "_model_name": "OutputModel",
            "_view_count": null,
            "_view_module": "@jupyter-widgets/output",
            "_view_module_version": "1.0.0",
            "_view_name": "OutputView",
            "layout": "IPY_MODEL_027aa933458442fd84aa3172bd46d56b",
            "msg_id": "",
            "outputs": []
          }
        },
        "027aa933458442fd84aa3172bd46d56b": {
          "model_module": "@jupyter-widgets/base",
          "model_name": "LayoutModel",
          "model_module_version": "1.2.0",
          "state": {
            "_model_module": "@jupyter-widgets/base",
            "_model_module_version": "1.2.0",
            "_model_name": "LayoutModel",
            "_view_count": null,
            "_view_module": "@jupyter-widgets/base",
            "_view_module_version": "1.2.0",
            "_view_name": "LayoutView",
            "align_content": null,
            "align_items": null,
            "align_self": null,
            "border": null,
            "bottom": null,
            "display": null,
            "flex": null,
            "flex_flow": null,
            "grid_area": null,
            "grid_auto_columns": null,
            "grid_auto_flow": null,
            "grid_auto_rows": null,
            "grid_column": null,
            "grid_gap": null,
            "grid_row": null,
            "grid_template_areas": null,
            "grid_template_columns": null,
            "grid_template_rows": null,
            "height": null,
            "justify_content": null,
            "justify_items": null,
            "left": null,
            "margin": null,
            "max_height": null,
            "max_width": null,
            "min_height": null,
            "min_width": null,
            "object_fit": null,
            "object_position": null,
            "order": null,
            "overflow": null,
            "overflow_x": null,
            "overflow_y": null,
            "padding": null,
            "right": null,
            "top": null,
            "visibility": null,
            "width": null
          }
        },
        "1054d01f65cb47dd9e2678dc640600c0": {
          "model_module": "@jupyter-widgets/controls",
          "model_name": "DropdownModel",
          "model_module_version": "1.5.0",
          "state": {
            "_dom_classes": [],
            "_model_module": "@jupyter-widgets/controls",
            "_model_module_version": "1.5.0",
            "_model_name": "DropdownModel",
            "_options_labels": [
              "x",
              "y",
              "z"
            ],
            "_view_count": null,
            "_view_module": "@jupyter-widgets/controls",
            "_view_module_version": "1.5.0",
            "_view_name": "DropdownView",
            "description": "Select Axis:",
            "description_tooltip": null,
            "disabled": false,
            "index": 2,
            "layout": "IPY_MODEL_dc2e045c65154b1685344145eb2ebff0",
            "style": "IPY_MODEL_c13e988e796f45d793c6afbedfa16e53"
          }
        },
        "dc2e045c65154b1685344145eb2ebff0": {
          "model_module": "@jupyter-widgets/base",
          "model_name": "LayoutModel",
          "model_module_version": "1.2.0",
          "state": {
            "_model_module": "@jupyter-widgets/base",
            "_model_module_version": "1.2.0",
            "_model_name": "LayoutModel",
            "_view_count": null,
            "_view_module": "@jupyter-widgets/base",
            "_view_module_version": "1.2.0",
            "_view_name": "LayoutView",
            "align_content": null,
            "align_items": null,
            "align_self": null,
            "border": null,
            "bottom": null,
            "display": null,
            "flex": null,
            "flex_flow": null,
            "grid_area": null,
            "grid_auto_columns": null,
            "grid_auto_flow": null,
            "grid_auto_rows": null,
            "grid_column": null,
            "grid_gap": null,
            "grid_row": null,
            "grid_template_areas": null,
            "grid_template_columns": null,
            "grid_template_rows": null,
            "height": null,
            "justify_content": null,
            "justify_items": null,
            "left": null,
            "margin": null,
            "max_height": null,
            "max_width": null,
            "min_height": null,
            "min_width": null,
            "object_fit": null,
            "object_position": null,
            "order": null,
            "overflow": null,
            "overflow_x": null,
            "overflow_y": null,
            "padding": null,
            "right": null,
            "top": null,
            "visibility": null,
            "width": null
          }
        },
        "c13e988e796f45d793c6afbedfa16e53": {
          "model_module": "@jupyter-widgets/controls",
          "model_name": "DescriptionStyleModel",
          "model_module_version": "1.5.0",
          "state": {
            "_model_module": "@jupyter-widgets/controls",
            "_model_module_version": "1.5.0",
            "_model_name": "DescriptionStyleModel",
            "_view_count": null,
            "_view_module": "@jupyter-widgets/base",
            "_view_module_version": "1.2.0",
            "_view_name": "StyleView",
            "description_width": ""
          }
        }
      }
    }
  },
  "cells": [
    {
      "cell_type": "markdown",
      "metadata": {
        "id": "view-in-github",
        "colab_type": "text"
      },
      "source": [
        "<a href=\"https://colab.research.google.com/github/zyang63/Die_casting_ejection/blob/main/Copy_of_draft_angle_marking.ipynb\" target=\"_parent\"><img src=\"https://colab.research.google.com/assets/colab-badge.svg\" alt=\"Open In Colab\"/></a>"
      ]
    },
    {
      "cell_type": "code",
      "source": [
        "%%capture\n",
        "!pip install trimesh\n",
        "!pip install bpy\n",
        "!pip install numpy pillow\n",
        "!apt-get install blender"
      ],
      "metadata": {
        "id": "fSWuUINvrHbN"
      },
      "execution_count": 1,
      "outputs": []
    },
    {
      "cell_type": "code",
      "source": [
        "import os\n",
        "import bpy\n",
        "import math\n",
        "import numpy as np\n",
        "from PIL import Image, ImageDraw\n",
        "import trimesh as t\n",
        "from trimesh.voxel import creation\n",
        "import cv2"
      ],
      "metadata": {
        "id": "FBEcWCVjq-YP"
      },
      "execution_count": 17,
      "outputs": []
    },
    {
      "cell_type": "code",
      "source": [
        "import ipywidgets as widgets\n",
        "from IPython.display import display\n",
        "from google.colab import files\n",
        "#@title #File Entry { display-mode: \"form\"}\n",
        "#@markdown User can choose to upload the file to colab directly or select the google file upload button at the bottom of this form. Also choose the number of elements.\n",
        "\n",
        "button_pressed = False  # Initialize the variable as False\n",
        "filename = \"\"\n",
        "button = widgets.Button(description=\"Google upload dialog\")\n",
        "output = widgets.Output()\n",
        "\n",
        "def on_button_clicked(b):\n",
        "    global button_pressed  # Access the global variable\n",
        "    global filename\n",
        "    with output:\n",
        "        uploaded = files.upload()\n",
        "        filename = list(uploaded.keys())[0]\n",
        "        button_pressed = True  # Set the variable to True when the button is clicked\n",
        "\n",
        "button.on_click(on_button_clicked)\n",
        "display(button, output)"
      ],
      "metadata": {
        "colab": {
          "base_uri": "https://localhost:8080/",
          "height": 49,
          "referenced_widgets": [
            "e87adca86e404eb2af170fc538d676cb",
            "34f43be23d7c4c48a904f5119202cc71",
            "4af9d73dcbe74b54b17200b19d48791b",
            "5eba9f0e7fd64f10bd8501cdb0220e1c",
            "027aa933458442fd84aa3172bd46d56b"
          ]
        },
        "id": "RwzIYcTduok5",
        "outputId": "9b5676b8-0101-41f8-878f-008f536676d7"
      },
      "execution_count": 2,
      "outputs": [
        {
          "output_type": "display_data",
          "data": {
            "text/plain": [
              "Button(description='Google upload dialog', style=ButtonStyle())"
            ],
            "application/vnd.jupyter.widget-view+json": {
              "version_major": 2,
              "version_minor": 0,
              "model_id": "e87adca86e404eb2af170fc538d676cb"
            }
          },
          "metadata": {}
        },
        {
          "output_type": "display_data",
          "data": {
            "text/plain": [
              "Output()"
            ],
            "application/vnd.jupyter.widget-view+json": {
              "version_major": 2,
              "version_minor": 0,
              "model_id": "5eba9f0e7fd64f10bd8501cdb0220e1c"
            }
          },
          "metadata": {}
        }
      ]
    },
    {
      "cell_type": "code",
      "source": [
        "#@title #Element Count { display-mode: \"form\", run: \"auto\" }\n",
        "element_count = 177 #@param {type:\"slider\", min:10, max:500, step:1}\n",
        "if not button_pressed:\n",
        "  filename = \"/content/Casting_Shot - 8M0111257-1.STL\" #@param {type:\"string\"}\n",
        "geometry = t.load_mesh(filename)\n",
        "#geometry = t.load_mesh(\"/content/ball.stl\")\n",
        "voxel_size = geometry.extents.max()/element_count\n",
        "print(\"Element size is in units from stl file \",voxel_size, \" per cell\")"
      ],
      "metadata": {
        "id": "TKnpn0djrUR_",
        "colab": {
          "base_uri": "https://localhost:8080/"
        },
        "outputId": "72b46291-473b-4d75-89a4-23a10d681c34"
      },
      "execution_count": 6,
      "outputs": [
        {
          "output_type": "stream",
          "name": "stdout",
          "text": [
            "Element size is in units from stl file  1.0004430005779374  per cell\n"
          ]
        }
      ]
    },
    {
      "cell_type": "markdown",
      "source": [
        "#Direction\n",
        "\n",
        "select direction here !!!!!!!"
      ],
      "metadata": {
        "id": "otqgo0DrzCxM"
      }
    },
    {
      "cell_type": "code",
      "source": [
        "# Define the choose_axis function\n",
        "def choose_axis(axis):\n",
        "    axis_vectors = {\n",
        "        'x': [0.0, 0.0, 1.0],\n",
        "\n",
        "        'y': [1.0, 0.0, 0.0] ,\n",
        "\n",
        "        'z': [0.0, 1.0, 0.0]\n",
        "\n",
        "    }\n",
        "    return axis_vectors.get(axis, None)\n",
        "\n",
        "# Create a dropdown widget for axis selection\n",
        "axis_dropdown = widgets.Dropdown(\n",
        "    options=['x', 'y', 'z'],\n",
        "    description='Select Axis:',\n",
        "    disabled=False,\n",
        ")\n",
        "\n",
        "# Output widget for displaying the result\n",
        "output_widget = widgets.Output()\n",
        "\n",
        "# Define a function to update the output and export data\n",
        "selected_axis_data = None\n",
        "def update_axis(selected_axis):\n",
        "    with output_widget:\n",
        "        output_widget.clear_output()  # Clear previous output\n",
        "        axis_vector = choose_axis(selected_axis)\n",
        "        if axis_vector is not None:\n",
        "            print(f\"Selected Axis {selected_axis}: {axis_vector}\")\n",
        "            global selected_axis_data\n",
        "            selected_axis_data = axis_vector\n",
        "\n",
        "# Link the widget to the update function\n",
        "widgets.interactive(update_axis, selected_axis=axis_dropdown)\n",
        "\n",
        "# Display the dropdown widget and the output widget\n",
        "display(axis_dropdown)"
      ],
      "metadata": {
        "colab": {
          "base_uri": "https://localhost:8080/",
          "height": 49,
          "referenced_widgets": [
            "1054d01f65cb47dd9e2678dc640600c0",
            "dc2e045c65154b1685344145eb2ebff0",
            "c13e988e796f45d793c6afbedfa16e53"
          ]
        },
        "id": "_KlfPmTHz23I",
        "outputId": "71a1e5ff-1492-4609-afb7-13db89018c45"
      },
      "execution_count": 7,
      "outputs": [
        {
          "output_type": "display_data",
          "data": {
            "text/plain": [
              "Dropdown(description='Select Axis:', options=('x', 'y', 'z'), value='x')"
            ],
            "application/vnd.jupyter.widget-view+json": {
              "version_major": 2,
              "version_minor": 0,
              "model_id": "1054d01f65cb47dd9e2678dc640600c0"
            }
          },
          "metadata": {}
        }
      ]
    },
    {
      "cell_type": "markdown",
      "source": [
        "# Remesh and output OBJ file"
      ],
      "metadata": {
        "id": "QBSS5dji0kSs"
      }
    },
    {
      "cell_type": "code",
      "source": [
        "blender_script = f\"\"\"\n",
        "import bpy\n",
        "\n",
        "bpy.ops.wm.read_factory_settings(use_empty=True)\n",
        "\n",
        "# Import STL mesh and apply remesh modifier\n",
        "bpy.ops.import_mesh.stl(filepath= \"{filename}\", global_scale=0.1,)\n",
        "\n",
        "bpy.ops.object.modifier_add(type='REMESH')\n",
        "bpy.context.object.modifiers[\"Remesh\"].mode = 'VOXEL'\n",
        "bpy.context.object.modifiers[\"Remesh\"].voxel_size = {voxel_size}/10\n",
        "bpy.ops.object.modifier_apply(modifier=\"Remesh\")\n",
        "\n",
        "# Unwrap the mesh using Smart UV Project\n",
        "bpy.ops.object.mode_set(mode='EDIT')\n",
        "bpy.ops.mesh.select_all(action='SELECT')\n",
        "bpy.ops.uv.smart_project()\n",
        "bpy.ops.object.mode_set(mode='OBJECT')\n",
        "selected_object = bpy.context.object\n",
        "\n",
        "\n",
        "\n",
        "# Export the object as an OBJ file\n",
        "for obj in bpy.context.selected_objects:\n",
        "    if obj.type == \"MESH\":\n",
        "        bpy.ops.export_scene.obj(filepath=\"/content/remeshed_uv.obj\", use_triangles=False, use_materials=False)\n",
        "\n",
        "file_path = \"/content/meshed_geometry.blend\"\n",
        "# Save the file\n",
        "bpy.ops.wm.save_as_mainfile(filepath=file_path)\"\"\"\n",
        "script_filename = \"/content/blender_script.py\"\n",
        "with open(script_filename, \"w\") as script_file:\n",
        "    script_file.write(blender_script)\n",
        "\n",
        "# Run Blender in headless mode with the script\n",
        "!blender -b -P {script_filename}"
      ],
      "metadata": {
        "id": "QXw1bTQin2gm",
        "colab": {
          "base_uri": "https://localhost:8080/"
        },
        "outputId": "65c175ec-4670-4b3c-c4fd-7b9c7197b63a"
      },
      "execution_count": 8,
      "outputs": [
        {
          "output_type": "stream",
          "name": "stdout",
          "text": [
            "Color management: using fallback mode for management\n",
            "Color management: Error could not find role data role.\n",
            "Blender 3.0.1\n",
            "Color management: scene view \"Filmic\" not found, setting default \"Standard\".\n",
            "Color management: scene view \"Filmic\" not found, setting default \"Standard\".\n",
            "Import finished in 1.6476 sec.\n",
            "    (  0.0002 sec |   0.0000 sec) OBJ Export path: '/content/remeshed_uv.obj'\n",
            "          (  6.7909 sec |   6.7904 sec) Finished writing geometry of 'Casting_Shot - 8M0111257-1'.\n",
            "      (  6.7910 sec |   6.7908 sec) Finished exporting geometry, now exporting materials\n",
            "      (  6.7910 sec |   6.7908 sec) OBJ Export Finished\n",
            "Progress: 100.00%\n",
            "\n",
            "Info: Total files 0 | Changed 0 | Failed 0\n",
            "Info: Saved \"meshed_geometry.blend\"\n",
            "Info: Saved \"meshed_geometry.blend\"\n",
            "\n",
            "Blender quit\n"
          ]
        }
      ]
    },
    {
      "cell_type": "markdown",
      "source": [
        "# cosine and tangent calculated"
      ],
      "metadata": {
        "id": "OJgdbwez0v4H"
      }
    },
    {
      "cell_type": "code",
      "source": [
        "# Replace 'your_obj_file.obj' with the actual file path.\n",
        "obj_file_path = '/content/remeshed_uv.obj'\n",
        "\n",
        "# Initialize lists to store vertices, faces, cosines, and VT coordinates.\n",
        "vertices = []\n",
        "faces = []\n",
        "cosines = []\n",
        "sines = []\n",
        "vt_coordinates = []\n",
        "vt_faces = []\n",
        "abs_F_list = []\n",
        "tangents = []\n",
        "abs_tangents = []\n",
        "# Read the OBJ file and extract vertices, faces, cosines, and VT coordinates.\n",
        "with open(obj_file_path, 'r') as obj_file:\n",
        "    for line in obj_file:\n",
        "        if line.startswith('v '):\n",
        "            vertex = list(map(float, line.split()[1:]))\n",
        "            if len(vertex) == 2:  # Check for 2D vertices and add a 'z' component\n",
        "                vertex.append(0.0)\n",
        "            vertices.append(vertex)\n",
        "        elif line.startswith('f '):\n",
        "            elements = line.split()[1:]\n",
        "            face = []\n",
        "            vt_face = []\n",
        "            for element in elements:\n",
        "                vertex_indices = element.split('/')\n",
        "                v_index = int(vertex_indices[0]) - 1  # Vertex index\n",
        "                vt_index = int(vertex_indices[1]) - 1  # Vertex index\n",
        "                face.append(v_index)\n",
        "                vt_face.append(vt_index)\n",
        "            faces.append(face)\n",
        "            vt_faces.append(vt_face)\n",
        "            #print(vt_face)\n",
        "        elif line.startswith('vt '):\n",
        "            vt = list(map(float, line.split()[1:]))\n",
        "            vt_coordinates.append(vt)\n",
        "# Calculate normal vectors for each face.\n",
        "normal_vectors = []\n",
        "for face in faces:\n",
        "    if all(0 <= i < len(vertices) for i in face):  # Check that all vertex indices are valid.\n",
        "        v0 = np.array(vertices[face[0]])\n",
        "        v1 = np.array(vertices[face[1]])\n",
        "        v2 = np.array(vertices[face[2]])\n",
        "\n",
        "        edge1 = v1 - v0\n",
        "        edge2 = v2 - v0\n",
        "\n",
        "        normal = np.cross(edge1, edge2)\n",
        "        normal /= np.linalg.norm(normal)\n",
        "        normal_vectors.append(normal)\n",
        "\n",
        "        direction = np.array(selected_axis_data)\n",
        "        dot_product = np.dot(normal, direction)\n",
        "\n",
        "        # Calculate the Euclidean norms of A and B\n",
        "        norm_A = np.linalg.norm(normal)\n",
        "        norm_B = np.linalg.norm(direction)\n",
        "\n",
        "        # Calculate the cosine similarity\n",
        "        cosine = dot_product / (norm_A * norm_B)\n",
        "        sine = np.sqrt(1 - cosine**2)\n",
        "        abs_F = 0.6*abs(sine) - abs(cosine)\n",
        "        tangent =  cosine / sine\n",
        "        abs_F_list.append(abs_F)\n",
        "        cosines.append(cosine)\n",
        "        sines.append(sine)\n",
        "        tangents.append(tangent)\n",
        "        abs_tangents.append(abs(tangent))"
      ],
      "metadata": {
        "id": "h5CDcpVJZ-q2",
        "colab": {
          "base_uri": "https://localhost:8080/"
        },
        "outputId": "f0004522-9532-4a1e-b050-eacb38629169"
      },
      "execution_count": 9,
      "outputs": [
        {
          "output_type": "stream",
          "name": "stderr",
          "text": [
            "<ipython-input-9-a82111423bad>:64: RuntimeWarning: divide by zero encountered in double_scalars\n",
            "  tangent =  cosine / sine\n"
          ]
        }
      ]
    },
    {
      "cell_type": "code",
      "source": [
        "Mu = 0.6\n",
        "Max_scale_value = 0.05"
      ],
      "metadata": {
        "id": "Jnit-S1hnneA"
      },
      "execution_count": 11,
      "outputs": []
    },
    {
      "cell_type": "code",
      "source": [
        "cosines_array = np.array(cosines)\n",
        "abs_F_array = np.array(abs_F_list)\n",
        "max_abs_F = abs_F_array.max()\n",
        "min_abs_F = abs_F_array.min()\n",
        "tangents_array = np.array(tangents)\n",
        "tangent_filtered_array = tangents_array[~np.isnan(tangents_array) & np.isfinite(tangents_array)]\n",
        "abs_tangents_array = np.array(abs_tangents)\n",
        "abs_tangent_filtered_array = abs_tangents_array[~np.isnan(abs_tangents_array) & np.isfinite(abs_tangents_array)]"
      ],
      "metadata": {
        "id": "_D2fMuFvbCLv"
      },
      "execution_count": 12,
      "outputs": []
    },
    {
      "cell_type": "markdown",
      "source": [
        "# Texture marked"
      ],
      "metadata": {
        "id": "MB94HFjy1ywr"
      }
    },
    {
      "cell_type": "code",
      "source": [
        "# Determine the image size.\n",
        "image_size = 1080\n",
        "\n",
        "color_bins = [(i, 0, 256-i) for i in range(0, 256, 26)]\n",
        "\n",
        "# Create a black image.\n",
        "image = Image.new(\"RGB\", (image_size, image_size), \"black\")\n",
        "draw = ImageDraw.Draw(image)\n",
        "\n",
        "# Scale the VT coordinates to fit the 1080x1080 image size.\n",
        "scaled_vt_coordinates = [\n",
        "    (vt[0] * image_size, (1 - vt[1]) * image_size) for vt in vt_coordinates\n",
        "]\n",
        "\n",
        "# Loop through the faces and apply red or blue coloring based on cosines.\n",
        "for i, (vt_face, abs_F) in enumerate(zip(vt_faces, abs_F_list)):\n",
        "    if all(0 <= j < len(scaled_vt_coordinates) for j in vt_face):\n",
        "        vt_indices = [scaled_vt_coordinates[j] for j in vt_face]\n",
        "        #print(vt_indices)\n",
        "        fraction = (abs_F - min_abs_F) / (max_abs_F - min_abs_F)\n",
        "        index = int(fraction * 10)\n",
        "        index = max(0, min(index, 9))  # Ensure the index is within the valid range\n",
        "\n",
        "    # Use the selected color from the color_bins list\n",
        "        color = color_bins[index]\n",
        "        draw.polygon(\n",
        "            vt_indices,\n",
        "            outline=color,\n",
        "            fill=color,\n",
        "        )\n",
        "\n",
        "# Save the marked image.\n",
        "image.save('marked_image_abs_F.png')\n"
      ],
      "metadata": {
        "id": "nSFrWNLcoRPM"
      },
      "execution_count": null,
      "outputs": []
    },
    {
      "cell_type": "code",
      "source": [
        "# Determine the image size.\n",
        "image_size = 1080\n",
        "\n",
        "color_bins = [(256-i, 0, i) for i in range(0, 256, 26)]\n",
        "\n",
        "# Create a black image.\n",
        "image = Image.new(\"RGB\", (image_size, image_size), \"black\")\n",
        "draw = ImageDraw.Draw(image)\n",
        "\n",
        "# Scale the VT coordinates to fit the 1080x1080 image size.\n",
        "scaled_vt_coordinates = [\n",
        "    (vt[0] * image_size, (1 - vt[1]) * image_size) for vt in vt_coordinates\n",
        "]\n",
        "\n",
        "# Loop through the faces and apply red or blue coloring based on cosines.\n",
        "for i, (vt_face, abs_tangent) in enumerate(zip(vt_faces ,abs_tangents)):\n",
        "    if all(0 <= j < len(scaled_vt_coordinates) for j in vt_face):\n",
        "        vt_indices = [scaled_vt_coordinates[j] for j in vt_face]\n",
        "        if abs_tangent != float('inf') and 0 <= abs_tangent <= Max_scale_value:\n",
        "          fraction = (abs_tangent - 0) / Max_scale_value\n",
        "\n",
        "    # Map fraction to one of the 10 color bins\n",
        "          index = int(fraction * 10)\n",
        "          index = max(0, min(index, 9))  # Ensure the index is within the valid range\n",
        "\n",
        "    # Use the selected color from the color_bins list\n",
        "          color = color_bins[index]\n",
        "        elif abs_tangent != float('inf') and  abs_tangent > Mu:\n",
        "            color = (125, 125, 125)\n",
        "        elif abs_tangent != float('inf') and  Max_scale_value < abs_tangent <= Mu:\n",
        "            color = (0, 0, 255)\n",
        "        elif abs_tangent == float('inf'):\n",
        "            color = (125, 125, 125)\n",
        "        # Draw a red or blue polygon on the image.\n",
        "        draw.polygon(\n",
        "            vt_indices,\n",
        "            outline=color,\n",
        "            fill=color,\n",
        "        )\n",
        "\n",
        "# Save the marked image.\n",
        "image.save('marked_image_abs_tangents.png')"
      ],
      "metadata": {
        "id": "JBYWtoftkLfc"
      },
      "execution_count": null,
      "outputs": []
    },
    {
      "cell_type": "code",
      "source": [
        "# Determine the image size.\n",
        "image_size = 1080\n",
        "\n",
        "color_bins_positive = [(256-i, 0, 0) for i in range(0, 256, 26)]\n",
        "color_bins_negative = [(0, 0, 256-i) for i in range(0, 256, 26)]\n",
        "\n",
        "# Create a black image.\n",
        "image = Image.new(\"RGB\", (image_size, image_size), \"black\")\n",
        "draw = ImageDraw.Draw(image)\n",
        "\n",
        "# Scale the VT coordinates to fit the 1080x1080 image size.\n",
        "scaled_vt_coordinates = [\n",
        "    (vt[0] * image_size, (1 - vt[1]) * image_size) for vt in vt_coordinates\n",
        "]\n",
        "\n",
        "# Loop through the faces and apply red or blue coloring based on cosines.\n",
        "for i, (vt_face, tangent) in enumerate(zip(vt_faces ,tangents)):\n",
        "    if all(0 <= j < len(scaled_vt_coordinates) for j in vt_face):\n",
        "        vt_indices = [scaled_vt_coordinates[j] for j in vt_face]\n",
        "        if tangent != float('inf') and 0 < tangent <= Max_scale_value:\n",
        "          fraction = (tangent - 0) / Max_scale_value\n",
        "\n",
        "    # Map fraction to one of the 10 color bins\n",
        "          index = int(fraction * 10)\n",
        "          index = max(0, min(index, 9))  # Ensure the index is within the valid range\n",
        "\n",
        "    # Use the selected color from the color_bins list\n",
        "          color = color_bins_positive[index]\n",
        "        elif tangent != float('inf') and (-Max_scale_value) <= tangent < 0:\n",
        "          fraction = (tangent -0) / (-Max_scale_value)\n",
        "\n",
        "    # Map fraction to one of the 10 color bins\n",
        "          index_1 = int(fraction * 10)\n",
        "          index_1 = max(0, min(index, 9))  # Ensure the index is within the valid range\n",
        "          color = color_bins_negative[index]\n",
        "        elif tangent != float('inf') and  tangent > Mu:\n",
        "            color = (125, 125, 125)\n",
        "        elif tangent != float('inf') and  tangent < (-Mu):\n",
        "            color = (125, 125, 125)\n",
        "        elif tangent != float('inf') and  Max_scale_value < tangent <= Mu:\n",
        "            color = (255, 0, 0)\n",
        "        elif tangent != float('inf') and  (-Mu) <= tangent < (-Max_scale_value):\n",
        "            color = (0, 0, 255)\n",
        "        elif tangent == 0:\n",
        "            color = (255, 255, 255)\n",
        "        elif tangent == float('inf'):\n",
        "            color = (125, 125, 125)\n",
        "        # Draw a red or blue polygon on the image.\n",
        "        draw.polygon(\n",
        "            vt_indices,\n",
        "            outline=color,\n",
        "            fill=color,\n",
        "        )\n",
        "\n",
        "# Save the marked image.\n",
        "image.save('marked_image_tangents.png')"
      ],
      "metadata": {
        "id": "ap8znEtY2Ikm"
      },
      "execution_count": null,
      "outputs": []
    },
    {
      "cell_type": "code",
      "source": [
        "# Determine the image size.\n",
        "image_size = 1080\n",
        "\n",
        "# Create a black image.\n",
        "image = Image.new(\"RGB\", (image_size, image_size), \"black\")\n",
        "draw = ImageDraw.Draw(image)\n",
        "\n",
        "# Scale the VT coordinates to fit the 1080x1080 image size.\n",
        "scaled_vt_coordinates = [\n",
        "    (vt[0] * image_size, (1 - vt[1]) * image_size) for vt in vt_coordinates\n",
        "]\n",
        "\n",
        "# Loop through the faces and apply red or blue coloring based on cosines.\n",
        "for i, (vt_face, tangent) in enumerate(zip(vt_faces ,tangents)):\n",
        "    if all(0 <= j < len(scaled_vt_coordinates) for j in vt_face):\n",
        "        vt_indices = [scaled_vt_coordinates[j] for j in vt_face]\n",
        "        if tangent != float('inf') and 0 < tangent <= Mu:\n",
        "          color = (255,0,0)\n",
        "        elif tangent != float('inf') and  tangent > Mu:\n",
        "            color = (0, 0, 0)\n",
        "        elif tangent != float('inf') and  tangent < (-Mu):\n",
        "            color = (0, 0, 0)\n",
        "        elif tangent != float('inf') and  (-Mu) <= tangent < 0:\n",
        "            color = (0, 0, 255)\n",
        "        elif tangent == 0:\n",
        "            color = (255, 255, 255)\n",
        "        elif tangent == float('inf'):\n",
        "            color = (0, 0, 0)\n",
        "        # Draw a red or blue polygon on the image.\n",
        "        draw.polygon(\n",
        "            vt_indices,\n",
        "            outline=color,\n",
        "            fill=color,\n",
        "        )\n",
        "\n",
        "# Save the marked image.\n",
        "image.save('marked_sum_tangents.png')"
      ],
      "metadata": {
        "id": "4d7Pb8fhPhtB"
      },
      "execution_count": 18,
      "outputs": []
    },
    {
      "cell_type": "code",
      "source": [
        "# For example, you can upload an image to Colab and use its path\n",
        "image_path = '/content/marked_sum_tangents.png'\n",
        "image = cv2.imread(image_path)\n",
        "\n",
        "# Convert the image to RGB format\n",
        "image_rgb = cv2.cvtColor(image, cv2.COLOR_BGR2RGB)\n",
        "\n",
        "# Define the color values for red and blue\n",
        "red_color = np.array([255, 0, 0])\n",
        "blue_color = np.array([0, 0, 255])\n",
        "\n",
        "# Count the number of pixels matching the red and blue colors\n",
        "red_pixel_count = np.sum(np.all(image_rgb == red_color, axis=-1))\n",
        "blue_pixel_count = np.sum(np.all(image_rgb == blue_color, axis=-1))\n",
        "\n",
        "print(\"Number of red pixels:\", red_pixel_count)\n",
        "print(\"Number of blue pixels:\", blue_pixel_count)\n",
        "\n",
        "# Compare the number of red and blue pixels and print \"top\" if red is larger\n",
        "if red_pixel_count > blue_pixel_count:\n",
        "    print(\"Top\")\n",
        "else:\n",
        "    print(\"Bottom\")\n"
      ],
      "metadata": {
        "colab": {
          "base_uri": "https://localhost:8080/"
        },
        "id": "IeAtoLwfQpAy",
        "outputId": "ef9327d9-ec25-4633-ceeb-192213623a66"
      },
      "execution_count": 30,
      "outputs": [
        {
          "output_type": "stream",
          "name": "stdout",
          "text": [
            "Number of red pixels: 153088\n",
            "Number of blue pixels: 232989\n",
            "Bottom\n"
          ]
        }
      ]
    },
    {
      "cell_type": "markdown",
      "source": [
        "# Visualization"
      ],
      "metadata": {
        "id": "SWcL1Meb2FUW"
      }
    },
    {
      "cell_type": "code",
      "source": [
        "bpy.ops.wm.open_mainfile(filepath=\"/content/meshed_geometry.blend\")\n",
        "material = bpy.data.materials.new(name=\"MyMaterial\")\n",
        "\n",
        "# Create a new shader node tree for the material\n",
        "material.use_nodes = True\n",
        "tree = material.node_tree\n",
        "nodes = tree.nodes\n",
        "\n",
        "# Clear existing nodes\n",
        "for node in nodes:\n",
        "    nodes.remove(node)\n",
        "\n",
        "# Create a new Principled BSDF node\n",
        "bsdf_node = nodes.new(type='ShaderNodeBsdfPrincipled')\n",
        "bsdf_node.location = (0, 0)  # Position the node in the node editor\n",
        "\n",
        "# Create a new Image Texture node\n",
        "texture_node = nodes.new(type='ShaderNodeTexImage')\n",
        "texture_node.location = (-200, 0)  # Position the node in the node editor\n",
        "\n",
        "# Set the path to the image texture\n",
        "texture_node.image = bpy.data.images.load(\"/content/marked_image_abs_F.png\")\n",
        "\n",
        "# Connect the Image Texture node to the Base Color input of the Principled BSDF node\n",
        "base_color_link = tree.links.new(texture_node.outputs['Color'], bsdf_node.inputs['Base Color'])\n",
        "\n",
        "# Create a new Material Output node\n",
        "output_node = nodes.new(type='ShaderNodeOutputMaterial')\n",
        "output_node.location = (200, 0)  # Position the node in the node editor\n",
        "\n",
        "# Connect the Principled BSDF node to the Surface input of the Material Output node\n",
        "surface_link = tree.links.new(bsdf_node.outputs['BSDF'], output_node.inputs['Surface'])\n",
        "\n",
        "# Assign the material to the active object\n",
        "bpy.context.object.data.materials.append(material)\n",
        "bpy.ops.export_scene.gltf(filepath=\"/content/colored_F_geometry.glb\")"
      ],
      "metadata": {
        "colab": {
          "base_uri": "https://localhost:8080/"
        },
        "id": "vNbUlH0Jr9cx",
        "outputId": "96300de8-777a-4d40-ed9c-4e5dc02b3c52"
      },
      "execution_count": null,
      "outputs": [
        {
          "output_type": "stream",
          "name": "stdout",
          "text": [
            "06:06:20 | ERROR: Draco mesh compression is not available because library could not be found at /content/4.0/python/lib/python3.10/site-packages/libextern_draco.so\n",
            "06:06:20 | INFO: Starting glTF 2.0 export\n",
            "06:06:20 | INFO: Extracting primitive: Casting_Shot - 8M0111257-1\n",
            "06:06:22 | INFO: Primitives created: 1\n",
            "06:06:22 | INFO: Finished glTF 2.0 export in 1.4188249111175537 s\n",
            "\n"
          ]
        },
        {
          "output_type": "execute_result",
          "data": {
            "text/plain": [
              "{'FINISHED'}"
            ]
          },
          "metadata": {},
          "execution_count": 20
        }
      ]
    },
    {
      "cell_type": "code",
      "source": [
        "bpy.ops.wm.open_mainfile(filepath=\"/content/meshed_geometry.blend\")\n",
        "material = bpy.data.materials.new(name=\"MyMaterial\")\n",
        "\n",
        "# Create a new shader node tree for the material\n",
        "material.use_nodes = True\n",
        "tree = material.node_tree\n",
        "nodes = tree.nodes\n",
        "\n",
        "# Clear existing nodes\n",
        "for node in nodes:\n",
        "    nodes.remove(node)\n",
        "\n",
        "# Create a new Principled BSDF node\n",
        "bsdf_node = nodes.new(type='ShaderNodeBsdfPrincipled')\n",
        "bsdf_node.location = (0, 0)  # Position the node in the node editor\n",
        "\n",
        "# Create a new Image Texture node\n",
        "texture_node = nodes.new(type='ShaderNodeTexImage')\n",
        "texture_node.location = (-200, 0)  # Position the node in the node editor\n",
        "\n",
        "# Set the path to the image texture\n",
        "texture_node.image = bpy.data.images.load(\"/content/marked_image_abs_tangents.png\")\n",
        "\n",
        "# Connect the Image Texture node to the Base Color input of the Principled BSDF node\n",
        "base_color_link = tree.links.new(texture_node.outputs['Color'], bsdf_node.inputs['Base Color'])\n",
        "\n",
        "# Create a new Material Output node\n",
        "output_node = nodes.new(type='ShaderNodeOutputMaterial')\n",
        "output_node.location = (200, 0)  # Position the node in the node editor\n",
        "\n",
        "# Connect the Principled BSDF node to the Surface input of the Material Output node\n",
        "surface_link = tree.links.new(bsdf_node.outputs['BSDF'], output_node.inputs['Surface'])\n",
        "\n",
        "# Assign the material to the active object\n",
        "bpy.context.object.data.materials.append(material)\n",
        "bpy.ops.export_scene.gltf(filepath=\"/content/colored_abs_tangent_geometry.glb\")"
      ],
      "metadata": {
        "colab": {
          "base_uri": "https://localhost:8080/"
        },
        "id": "rv5zbZjhpOnn",
        "outputId": "d1efe15b-40c9-4c2d-c476-16f0e8d374e1"
      },
      "execution_count": null,
      "outputs": [
        {
          "output_type": "stream",
          "name": "stdout",
          "text": [
            "06:06:25 | ERROR: Draco mesh compression is not available because library could not be found at /content/4.0/python/lib/python3.10/site-packages/libextern_draco.so\n",
            "06:06:25 | INFO: Starting glTF 2.0 export\n",
            "06:06:25 | INFO: Extracting primitive: Casting_Shot - 8M0111257-1\n",
            "06:06:26 | INFO: Primitives created: 1\n",
            "06:06:26 | INFO: Finished glTF 2.0 export in 1.37154221534729 s\n",
            "\n"
          ]
        },
        {
          "output_type": "execute_result",
          "data": {
            "text/plain": [
              "{'FINISHED'}"
            ]
          },
          "metadata": {},
          "execution_count": 21
        }
      ]
    },
    {
      "cell_type": "code",
      "source": [
        "bpy.ops.wm.open_mainfile(filepath=\"/content/meshed_geometry.blend\")\n",
        "material = bpy.data.materials.new(name=\"MyMaterial\")\n",
        "\n",
        "# Create a new shader node tree for the material\n",
        "material.use_nodes = True\n",
        "tree = material.node_tree\n",
        "nodes = tree.nodes\n",
        "\n",
        "# Clear existing nodes\n",
        "for node in nodes:\n",
        "    nodes.remove(node)\n",
        "\n",
        "# Create a new Principled BSDF node\n",
        "bsdf_node = nodes.new(type='ShaderNodeBsdfPrincipled')\n",
        "bsdf_node.location = (0, 0)  # Position the node in the node editor\n",
        "\n",
        "# Create a new Image Texture node\n",
        "texture_node = nodes.new(type='ShaderNodeTexImage')\n",
        "texture_node.location = (-200, 0)  # Position the node in the node editor\n",
        "\n",
        "# Set the path to the image texture\n",
        "texture_node.image = bpy.data.images.load(\"/content/marked_image_tangents.png\")\n",
        "\n",
        "# Connect the Image Texture node to the Base Color input of the Principled BSDF node\n",
        "base_color_link = tree.links.new(texture_node.outputs['Color'], bsdf_node.inputs['Base Color'])\n",
        "\n",
        "# Create a new Material Output node\n",
        "output_node = nodes.new(type='ShaderNodeOutputMaterial')\n",
        "output_node.location = (200, 0)  # Position the node in the node editor\n",
        "\n",
        "# Connect the Principled BSDF node to the Surface input of the Material Output node\n",
        "surface_link = tree.links.new(bsdf_node.outputs['BSDF'], output_node.inputs['Surface'])\n",
        "\n",
        "# Assign the material to the active object\n",
        "bpy.context.object.data.materials.append(material)\n",
        "bpy.ops.export_scene.gltf(filepath=\"/content/colored_tangent_geometry.glb\")"
      ],
      "metadata": {
        "colab": {
          "base_uri": "https://localhost:8080/"
        },
        "id": "crQ9rqRh6bTC",
        "outputId": "5e4c202a-9b6a-47d0-96a8-45bdbfe03c54"
      },
      "execution_count": null,
      "outputs": [
        {
          "output_type": "stream",
          "name": "stdout",
          "text": [
            "06:40:46 | ERROR: Draco mesh compression is not available because library could not be found at /content/4.0/python/lib/python3.10/site-packages/libextern_draco.so\n",
            "06:40:46 | INFO: Starting glTF 2.0 export\n",
            "06:40:46 | INFO: Extracting primitive: Casting_Shot - 8M0111257-1\n",
            "06:40:47 | INFO: Primitives created: 1\n",
            "06:40:47 | INFO: Finished glTF 2.0 export in 1.3510546684265137 s\n",
            "\n"
          ]
        },
        {
          "output_type": "execute_result",
          "data": {
            "text/plain": [
              "{'FINISHED'}"
            ]
          },
          "metadata": {},
          "execution_count": 36
        }
      ]
    },
    {
      "cell_type": "code",
      "source": [
        "files_to_delete = [\n",
        "    \"/content/meshed_geometry.blend\",\n",
        "    \"/content/remeshed_uv.obj\",\n",
        "    \"/content/marked_image_abs_F.png\",\n",
        "    \"/content/marked_image_tangents.png\",\n",
        "    \"/content/marked_image_abs_tangents.png\",\n",
        "    \"/content/blender_script.py\",\n",
        "    \"/content/marked_sum_tangents.png\"\n",
        "]\n",
        "\n",
        "for file_path in files_to_delete:\n",
        "    if os.path.exists(file_path):\n",
        "        os.remove(file_path)"
      ],
      "metadata": {
        "id": "rDz2Q8Ce2Wv1"
      },
      "execution_count": null,
      "outputs": []
    }
  ]
}