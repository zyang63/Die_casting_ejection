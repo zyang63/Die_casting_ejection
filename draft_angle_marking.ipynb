{
  "nbformat": 4,
  "nbformat_minor": 0,
  "metadata": {
    "colab": {
      "provenance": [],
      "authorship_tag": "ABX9TyPEfYE8lQPV6dTMZi40Nsnz",
      "include_colab_link": true
    },
    "kernelspec": {
      "name": "python3",
      "display_name": "Python 3"
    },
    "language_info": {
      "name": "python"
    },
    "widgets": {
      "application/vnd.jupyter.widget-state+json": {
        "c60433bc9e5a4834bda7659d1fa01ce2": {
          "model_module": "@jupyter-widgets/controls",
          "model_name": "ButtonModel",
          "model_module_version": "1.5.0",
          "state": {
            "_dom_classes": [],
            "_model_module": "@jupyter-widgets/controls",
            "_model_module_version": "1.5.0",
            "_model_name": "ButtonModel",
            "_view_count": null,
            "_view_module": "@jupyter-widgets/controls",
            "_view_module_version": "1.5.0",
            "_view_name": "ButtonView",
            "button_style": "",
            "description": "Google upload dialog",
            "disabled": false,
            "icon": "",
            "layout": "IPY_MODEL_061d65f30077409aa759550d096897a9",
            "style": "IPY_MODEL_fe29512baf9346a987798fe955de7ab7",
            "tooltip": ""
          }
        },
        "061d65f30077409aa759550d096897a9": {
          "model_module": "@jupyter-widgets/base",
          "model_name": "LayoutModel",
          "model_module_version": "1.2.0",
          "state": {
            "_model_module": "@jupyter-widgets/base",
            "_model_module_version": "1.2.0",
            "_model_name": "LayoutModel",
            "_view_count": null,
            "_view_module": "@jupyter-widgets/base",
            "_view_module_version": "1.2.0",
            "_view_name": "LayoutView",
            "align_content": null,
            "align_items": null,
            "align_self": null,
            "border": null,
            "bottom": null,
            "display": null,
            "flex": null,
            "flex_flow": null,
            "grid_area": null,
            "grid_auto_columns": null,
            "grid_auto_flow": null,
            "grid_auto_rows": null,
            "grid_column": null,
            "grid_gap": null,
            "grid_row": null,
            "grid_template_areas": null,
            "grid_template_columns": null,
            "grid_template_rows": null,
            "height": null,
            "justify_content": null,
            "justify_items": null,
            "left": null,
            "margin": null,
            "max_height": null,
            "max_width": null,
            "min_height": null,
            "min_width": null,
            "object_fit": null,
            "object_position": null,
            "order": null,
            "overflow": null,
            "overflow_x": null,
            "overflow_y": null,
            "padding": null,
            "right": null,
            "top": null,
            "visibility": null,
            "width": null
          }
        },
        "fe29512baf9346a987798fe955de7ab7": {
          "model_module": "@jupyter-widgets/controls",
          "model_name": "ButtonStyleModel",
          "model_module_version": "1.5.0",
          "state": {
            "_model_module": "@jupyter-widgets/controls",
            "_model_module_version": "1.5.0",
            "_model_name": "ButtonStyleModel",
            "_view_count": null,
            "_view_module": "@jupyter-widgets/base",
            "_view_module_version": "1.2.0",
            "_view_name": "StyleView",
            "button_color": null,
            "font_weight": ""
          }
        },
        "10950962a27d450baee5650a82276410": {
          "model_module": "@jupyter-widgets/output",
          "model_name": "OutputModel",
          "model_module_version": "1.0.0",
          "state": {
            "_dom_classes": [],
            "_model_module": "@jupyter-widgets/output",
            "_model_module_version": "1.0.0",
            "_model_name": "OutputModel",
            "_view_count": null,
            "_view_module": "@jupyter-widgets/output",
            "_view_module_version": "1.0.0",
            "_view_name": "OutputView",
            "layout": "IPY_MODEL_14147452ee714fbb80a8e63d18c3d12e",
            "msg_id": "",
            "outputs": []
          }
        },
        "14147452ee714fbb80a8e63d18c3d12e": {
          "model_module": "@jupyter-widgets/base",
          "model_name": "LayoutModel",
          "model_module_version": "1.2.0",
          "state": {
            "_model_module": "@jupyter-widgets/base",
            "_model_module_version": "1.2.0",
            "_model_name": "LayoutModel",
            "_view_count": null,
            "_view_module": "@jupyter-widgets/base",
            "_view_module_version": "1.2.0",
            "_view_name": "LayoutView",
            "align_content": null,
            "align_items": null,
            "align_self": null,
            "border": null,
            "bottom": null,
            "display": null,
            "flex": null,
            "flex_flow": null,
            "grid_area": null,
            "grid_auto_columns": null,
            "grid_auto_flow": null,
            "grid_auto_rows": null,
            "grid_column": null,
            "grid_gap": null,
            "grid_row": null,
            "grid_template_areas": null,
            "grid_template_columns": null,
            "grid_template_rows": null,
            "height": null,
            "justify_content": null,
            "justify_items": null,
            "left": null,
            "margin": null,
            "max_height": null,
            "max_width": null,
            "min_height": null,
            "min_width": null,
            "object_fit": null,
            "object_position": null,
            "order": null,
            "overflow": null,
            "overflow_x": null,
            "overflow_y": null,
            "padding": null,
            "right": null,
            "top": null,
            "visibility": null,
            "width": null
          }
        },
        "d66a4ded62104a1dbe5fa5247286be82": {
          "model_module": "@jupyter-widgets/controls",
          "model_name": "DropdownModel",
          "model_module_version": "1.5.0",
          "state": {
            "_dom_classes": [],
            "_model_module": "@jupyter-widgets/controls",
            "_model_module_version": "1.5.0",
            "_model_name": "DropdownModel",
            "_options_labels": [
              "x",
              "y",
              "z"
            ],
            "_view_count": null,
            "_view_module": "@jupyter-widgets/controls",
            "_view_module_version": "1.5.0",
            "_view_name": "DropdownView",
            "description": "Select Axis:",
            "description_tooltip": null,
            "disabled": false,
            "index": 2,
            "layout": "IPY_MODEL_1fa800f957f44d05868ae25cc0594f52",
            "style": "IPY_MODEL_e7e03059ba2541c8a672c637b5081712"
          }
        },
        "1fa800f957f44d05868ae25cc0594f52": {
          "model_module": "@jupyter-widgets/base",
          "model_name": "LayoutModel",
          "model_module_version": "1.2.0",
          "state": {
            "_model_module": "@jupyter-widgets/base",
            "_model_module_version": "1.2.0",
            "_model_name": "LayoutModel",
            "_view_count": null,
            "_view_module": "@jupyter-widgets/base",
            "_view_module_version": "1.2.0",
            "_view_name": "LayoutView",
            "align_content": null,
            "align_items": null,
            "align_self": null,
            "border": null,
            "bottom": null,
            "display": null,
            "flex": null,
            "flex_flow": null,
            "grid_area": null,
            "grid_auto_columns": null,
            "grid_auto_flow": null,
            "grid_auto_rows": null,
            "grid_column": null,
            "grid_gap": null,
            "grid_row": null,
            "grid_template_areas": null,
            "grid_template_columns": null,
            "grid_template_rows": null,
            "height": null,
            "justify_content": null,
            "justify_items": null,
            "left": null,
            "margin": null,
            "max_height": null,
            "max_width": null,
            "min_height": null,
            "min_width": null,
            "object_fit": null,
            "object_position": null,
            "order": null,
            "overflow": null,
            "overflow_x": null,
            "overflow_y": null,
            "padding": null,
            "right": null,
            "top": null,
            "visibility": null,
            "width": null
          }
        },
        "e7e03059ba2541c8a672c637b5081712": {
          "model_module": "@jupyter-widgets/controls",
          "model_name": "DescriptionStyleModel",
          "model_module_version": "1.5.0",
          "state": {
            "_model_module": "@jupyter-widgets/controls",
            "_model_module_version": "1.5.0",
            "_model_name": "DescriptionStyleModel",
            "_view_count": null,
            "_view_module": "@jupyter-widgets/base",
            "_view_module_version": "1.2.0",
            "_view_name": "StyleView",
            "description_width": ""
          }
        }
      }
    }
  },
  "cells": [
    {
      "cell_type": "markdown",
      "metadata": {
        "id": "view-in-github",
        "colab_type": "text"
      },
      "source": [
        "<a href=\"https://colab.research.google.com/github/zyang63/Die_casting_ejection/blob/main/draft_angle_marking.ipynb\" target=\"_parent\"><img src=\"https://colab.research.google.com/assets/colab-badge.svg\" alt=\"Open In Colab\"/></a>"
      ]
    },
    {
      "cell_type": "code",
      "source": [
        "%%capture\n",
        "!pip install trimesh\n",
        "!pip install bpy\n",
        "!pip install numpy tripy\n",
        "!pip install numpy pillow"
      ],
      "metadata": {
        "id": "fSWuUINvrHbN",
        "colab": {
          "base_uri": "https://localhost:8080/"
        },
        "outputId": "aadbb857-ef43-4a82-c374-8f45aa284e80"
      },
      "execution_count": 18,
      "outputs": [
        {
          "output_type": "stream",
          "name": "stdout",
          "text": [
            "Requirement already satisfied: trimesh in /usr/local/lib/python3.10/dist-packages (4.0.4)\n",
            "Requirement already satisfied: numpy in /usr/local/lib/python3.10/dist-packages (from trimesh) (1.23.5)\n",
            "Requirement already satisfied: bpy in /usr/local/lib/python3.10/dist-packages (4.0.0)\n",
            "Requirement already satisfied: cython in /usr/local/lib/python3.10/dist-packages (from bpy) (3.0.5)\n",
            "Requirement already satisfied: numpy in /usr/local/lib/python3.10/dist-packages (from bpy) (1.23.5)\n",
            "Requirement already satisfied: requests in /usr/local/lib/python3.10/dist-packages (from bpy) (2.31.0)\n",
            "Requirement already satisfied: zstandard in /usr/local/lib/python3.10/dist-packages (from bpy) (0.22.0)\n",
            "Requirement already satisfied: charset-normalizer<4,>=2 in /usr/local/lib/python3.10/dist-packages (from requests->bpy) (3.3.2)\n",
            "Requirement already satisfied: idna<4,>=2.5 in /usr/local/lib/python3.10/dist-packages (from requests->bpy) (3.4)\n",
            "Requirement already satisfied: urllib3<3,>=1.21.1 in /usr/local/lib/python3.10/dist-packages (from requests->bpy) (2.0.7)\n",
            "Requirement already satisfied: certifi>=2017.4.17 in /usr/local/lib/python3.10/dist-packages (from requests->bpy) (2023.7.22)\n",
            "Requirement already satisfied: numpy in /usr/local/lib/python3.10/dist-packages (1.23.5)\n",
            "Requirement already satisfied: tripy in /usr/local/lib/python3.10/dist-packages (1.0.0)\n",
            "Requirement already satisfied: numpy in /usr/local/lib/python3.10/dist-packages (1.23.5)\n",
            "Requirement already satisfied: pillow in /usr/local/lib/python3.10/dist-packages (9.4.0)\n"
          ]
        }
      ]
    },
    {
      "cell_type": "code",
      "source": [
        "import os\n",
        "import bpy\n",
        "import math\n",
        "import numpy as np\n",
        "from PIL import Image, ImageDraw\n",
        "import trimesh as t\n",
        "from trimesh.voxel import creation"
      ],
      "metadata": {
        "id": "FBEcWCVjq-YP"
      },
      "execution_count": null,
      "outputs": []
    },
    {
      "cell_type": "code",
      "source": [
        "import ipywidgets as widgets\n",
        "from IPython.display import display\n",
        "from google.colab import files\n",
        "#@title #File Entry { display-mode: \"form\"}\n",
        "#@markdown User can choose to upload the file to colab directly or select the google file upload button at the bottom of this form. Also choose the number of elements.\n",
        "\n",
        "button_pressed = False  # Initialize the variable as False\n",
        "filename = \"\"\n",
        "button = widgets.Button(description=\"Google upload dialog\")\n",
        "output = widgets.Output()\n",
        "\n",
        "def on_button_clicked(b):\n",
        "    global button_pressed  # Access the global variable\n",
        "    global filename\n",
        "    with output:\n",
        "        uploaded = files.upload()\n",
        "        filename = list(uploaded.keys())[0]\n",
        "        button_pressed = True  # Set the variable to True when the button is clicked\n",
        "\n",
        "button.on_click(on_button_clicked)\n",
        "display(button, output)"
      ],
      "metadata": {
        "colab": {
          "base_uri": "https://localhost:8080/",
          "height": 49,
          "referenced_widgets": [
            "c60433bc9e5a4834bda7659d1fa01ce2",
            "061d65f30077409aa759550d096897a9",
            "fe29512baf9346a987798fe955de7ab7",
            "10950962a27d450baee5650a82276410",
            "14147452ee714fbb80a8e63d18c3d12e"
          ]
        },
        "id": "RwzIYcTduok5",
        "outputId": "b0ade72e-d8f1-41e6-8f8e-eedb47e96144"
      },
      "execution_count": null,
      "outputs": [
        {
          "output_type": "display_data",
          "data": {
            "text/plain": [
              "Button(description='Google upload dialog', style=ButtonStyle())"
            ],
            "application/vnd.jupyter.widget-view+json": {
              "version_major": 2,
              "version_minor": 0,
              "model_id": "c60433bc9e5a4834bda7659d1fa01ce2"
            }
          },
          "metadata": {}
        },
        {
          "output_type": "display_data",
          "data": {
            "text/plain": [
              "Output()"
            ],
            "application/vnd.jupyter.widget-view+json": {
              "version_major": 2,
              "version_minor": 0,
              "model_id": "10950962a27d450baee5650a82276410"
            }
          },
          "metadata": {}
        }
      ]
    },
    {
      "cell_type": "code",
      "source": [
        "#@title #Element Count { display-mode: \"form\", run: \"auto\" }\n",
        "element_count = 177 #@param {type:\"slider\", min:10, max:500, step:1}\n",
        "if not button_pressed:\n",
        "  filename = \"/content/Casting_Shot - 8M0111257-1.STL\" #@param {type:\"string\"}\n",
        "geometry = t.load_mesh(filename)\n",
        "#geometry = t.load_mesh(\"/content/ball.stl\")\n",
        "voxel_size = geometry.extents.max()/element_count\n",
        "print(\"Element size is in units from stl file \",voxel_size, \" per cell\")"
      ],
      "metadata": {
        "id": "TKnpn0djrUR_",
        "colab": {
          "base_uri": "https://localhost:8080/"
        },
        "outputId": "3874788b-fed2-4e68-9b07-9bebf6712e58"
      },
      "execution_count": null,
      "outputs": [
        {
          "output_type": "stream",
          "name": "stdout",
          "text": [
            "Element size is in units from stl file  1.0004430005779374  per cell\n"
          ]
        }
      ]
    },
    {
      "cell_type": "markdown",
      "source": [
        "#Direction\n",
        "\n",
        "select direction here"
      ],
      "metadata": {
        "id": "otqgo0DrzCxM"
      }
    },
    {
      "cell_type": "code",
      "source": [
        "# Define the choose_axis function\n",
        "def choose_axis(axis):\n",
        "    axis_vectors = {\n",
        "        'x': [0.0, 0.0, 1.0],\n",
        "\n",
        "        'y': [1.0, 0.0, 0.0] ,\n",
        "\n",
        "        'z': [0.0, 1.0, 0.0]\n",
        "\n",
        "    }\n",
        "    return axis_vectors.get(axis, None)\n",
        "\n",
        "# Create a dropdown widget for axis selection\n",
        "axis_dropdown = widgets.Dropdown(\n",
        "    options=['x', 'y', 'z'],\n",
        "    description='Select Axis:',\n",
        "    disabled=False,\n",
        ")\n",
        "\n",
        "# Output widget for displaying the result\n",
        "output_widget = widgets.Output()\n",
        "\n",
        "# Define a function to update the output and export data\n",
        "selected_axis_data = None\n",
        "def update_axis(selected_axis):\n",
        "    with output_widget:\n",
        "        output_widget.clear_output()  # Clear previous output\n",
        "        axis_vector = choose_axis(selected_axis)\n",
        "        if axis_vector is not None:\n",
        "            print(f\"Selected Axis {selected_axis}: {axis_vector}\")\n",
        "            global selected_axis_data\n",
        "            selected_axis_data = axis_vector\n",
        "\n",
        "# Link the widget to the update function\n",
        "widgets.interactive(update_axis, selected_axis=axis_dropdown)\n",
        "\n",
        "# Display the dropdown widget and the output widget\n",
        "display(axis_dropdown)"
      ],
      "metadata": {
        "colab": {
          "base_uri": "https://localhost:8080/",
          "height": 49,
          "referenced_widgets": [
            "d66a4ded62104a1dbe5fa5247286be82",
            "1fa800f957f44d05868ae25cc0594f52",
            "e7e03059ba2541c8a672c637b5081712"
          ]
        },
        "id": "_KlfPmTHz23I",
        "outputId": "f806fe86-711a-41b9-cb4e-495f002f59a3"
      },
      "execution_count": 13,
      "outputs": [
        {
          "output_type": "display_data",
          "data": {
            "text/plain": [
              "Dropdown(description='Select Axis:', options=('x', 'y', 'z'), value='x')"
            ],
            "application/vnd.jupyter.widget-view+json": {
              "version_major": 2,
              "version_minor": 0,
              "model_id": "d66a4ded62104a1dbe5fa5247286be82"
            }
          },
          "metadata": {}
        }
      ]
    },
    {
      "cell_type": "markdown",
      "source": [
        "# Remesh and output OBJ file"
      ],
      "metadata": {
        "id": "QBSS5dji0kSs"
      }
    },
    {
      "cell_type": "code",
      "source": [
        "!apt-get install blender"
      ],
      "metadata": {
        "colab": {
          "base_uri": "https://localhost:8080/"
        },
        "id": "DfotOK6QsxJ6",
        "outputId": "f642db21-280c-4d8d-aa81-10c7c0dcd828"
      },
      "execution_count": 23,
      "outputs": [
        {
          "output_type": "stream",
          "name": "stdout",
          "text": [
            "Reading package lists... Done\n",
            "Building dependency tree... Done\n",
            "Reading state information... Done\n",
            "The following additional packages will be installed:\n",
            "  blender-data fonts-dejavu fonts-dejavu-core fonts-dejavu-extra libdcmtk16 libembree3-3\n",
            "  libfftw3-double3 libjemalloc2 liblog4cplus-2.0.5 libopencolorio1v5 libopenimageio2.2\n",
            "  libopenvdb8.1 libosdcpu3.4.4 libpugixml1v5 libraw20 libspnav0 libsquish0 libtinyxml2.6.2v5\n",
            "  libwrap0 libyaml-cpp0.7\n",
            "Suggested packages:\n",
            "  libfftw3-bin libfftw3-dev spacenavd\n",
            "The following NEW packages will be installed:\n",
            "  blender blender-data fonts-dejavu fonts-dejavu-core fonts-dejavu-extra libdcmtk16 libembree3-3\n",
            "  libfftw3-double3 libjemalloc2 liblog4cplus-2.0.5 libopencolorio1v5 libopenimageio2.2\n",
            "  libopenvdb8.1 libosdcpu3.4.4 libpugixml1v5 libraw20 libspnav0 libsquish0 libtinyxml2.6.2v5\n",
            "  libwrap0 libyaml-cpp0.7\n",
            "0 upgraded, 21 newly installed, 0 to remove and 9 not upgraded.\n",
            "Need to get 115 MB of archives.\n",
            "After this operation, 705 MB of additional disk space will be used.\n",
            "Get:1 http://archive.ubuntu.com/ubuntu jammy/universe amd64 blender-data all 3.0.1+dfsg-7 [15.9 MB]\n",
            "Get:2 http://archive.ubuntu.com/ubuntu jammy/main amd64 fonts-dejavu-core all 2.37-2build1 [1,041 kB]\n",
            "Get:3 http://archive.ubuntu.com/ubuntu jammy/main amd64 fonts-dejavu-extra all 2.37-2build1 [2,041 kB]\n",
            "Get:4 http://archive.ubuntu.com/ubuntu jammy/universe amd64 fonts-dejavu all 2.37-2build1 [3,192 B]\n",
            "Get:5 http://archive.ubuntu.com/ubuntu jammy/universe amd64 libembree3-3 amd64 3.12.2+dfsg-1 [60.8 MB]\n",
            "Get:6 http://archive.ubuntu.com/ubuntu jammy/main amd64 libfftw3-double3 amd64 3.3.8-2ubuntu8 [770 kB]\n",
            "Get:7 http://archive.ubuntu.com/ubuntu jammy/universe amd64 libjemalloc2 amd64 5.2.1-4ubuntu1 [240 kB]\n",
            "Get:8 http://archive.ubuntu.com/ubuntu jammy/main amd64 libwrap0 amd64 7.6.q-31build2 [47.9 kB]\n",
            "Get:9 http://archive.ubuntu.com/ubuntu jammy/universe amd64 libdcmtk16 amd64 3.6.6-5 [5,434 kB]\n",
            "Get:10 http://archive.ubuntu.com/ubuntu jammy/universe amd64 libtinyxml2.6.2v5 amd64 2.6.2-6 [33.0 kB]\n",
            "Get:11 http://archive.ubuntu.com/ubuntu jammy/main amd64 libyaml-cpp0.7 amd64 0.7.0+dfsg-8build1 [97.7 kB]\n",
            "Get:12 http://archive.ubuntu.com/ubuntu jammy/universe amd64 libopencolorio1v5 amd64 1.1.1~dfsg0-7.1build1 [362 kB]\n",
            "Get:13 http://archive.ubuntu.com/ubuntu jammy/universe amd64 liblog4cplus-2.0.5 amd64 2.0.5-3 [184 kB]\n",
            "Get:14 http://archive.ubuntu.com/ubuntu jammy/universe amd64 libopenvdb8.1 amd64 8.1.0-3build1 [793 kB]\n",
            "Get:15 http://archive.ubuntu.com/ubuntu jammy-updates/main amd64 libraw20 amd64 0.20.2-2ubuntu2.22.04.1 [342 kB]\n",
            "Get:16 http://archive.ubuntu.com/ubuntu jammy/universe amd64 libsquish0 amd64 1.15-1build1 [19.6 kB]\n",
            "Get:17 http://archive.ubuntu.com/ubuntu jammy/universe amd64 libopenimageio2.2 amd64 2.2.18.0+dfsg-1ubuntu2 [2,305 kB]\n",
            "Get:18 http://archive.ubuntu.com/ubuntu jammy/universe amd64 libosdcpu3.4.4 amd64 3.4.4-2ubuntu1 [254 kB]\n",
            "Get:19 http://archive.ubuntu.com/ubuntu jammy/universe amd64 libpugixml1v5 amd64 1.12.1-1 [91.7 kB]\n",
            "Get:20 http://archive.ubuntu.com/ubuntu jammy/universe amd64 libspnav0 amd64 0.2.3-1 [8,552 B]\n",
            "Get:21 http://archive.ubuntu.com/ubuntu jammy/universe amd64 blender amd64 3.0.1+dfsg-7 [24.6 MB]\n",
            "Fetched 115 MB in 7s (17.3 MB/s)\n",
            "Selecting previously unselected package blender-data.\n",
            "(Reading database ... 120880 files and directories currently installed.)\n",
            "Preparing to unpack .../00-blender-data_3.0.1+dfsg-7_all.deb ...\n",
            "Unpacking blender-data (3.0.1+dfsg-7) ...\n",
            "Selecting previously unselected package fonts-dejavu-core.\n",
            "Preparing to unpack .../01-fonts-dejavu-core_2.37-2build1_all.deb ...\n",
            "Unpacking fonts-dejavu-core (2.37-2build1) ...\n",
            "Selecting previously unselected package fonts-dejavu-extra.\n",
            "Preparing to unpack .../02-fonts-dejavu-extra_2.37-2build1_all.deb ...\n",
            "Unpacking fonts-dejavu-extra (2.37-2build1) ...\n",
            "Selecting previously unselected package fonts-dejavu.\n",
            "Preparing to unpack .../03-fonts-dejavu_2.37-2build1_all.deb ...\n",
            "Unpacking fonts-dejavu (2.37-2build1) ...\n",
            "Selecting previously unselected package libembree3-3:amd64.\n",
            "Preparing to unpack .../04-libembree3-3_3.12.2+dfsg-1_amd64.deb ...\n",
            "Unpacking libembree3-3:amd64 (3.12.2+dfsg-1) ...\n",
            "Selecting previously unselected package libfftw3-double3:amd64.\n",
            "Preparing to unpack .../05-libfftw3-double3_3.3.8-2ubuntu8_amd64.deb ...\n",
            "Unpacking libfftw3-double3:amd64 (3.3.8-2ubuntu8) ...\n",
            "Selecting previously unselected package libjemalloc2:amd64.\n",
            "Preparing to unpack .../06-libjemalloc2_5.2.1-4ubuntu1_amd64.deb ...\n",
            "Unpacking libjemalloc2:amd64 (5.2.1-4ubuntu1) ...\n",
            "Selecting previously unselected package libwrap0:amd64.\n",
            "Preparing to unpack .../07-libwrap0_7.6.q-31build2_amd64.deb ...\n",
            "Unpacking libwrap0:amd64 (7.6.q-31build2) ...\n",
            "Selecting previously unselected package libdcmtk16.\n",
            "Preparing to unpack .../08-libdcmtk16_3.6.6-5_amd64.deb ...\n",
            "Unpacking libdcmtk16 (3.6.6-5) ...\n",
            "Selecting previously unselected package libtinyxml2.6.2v5:amd64.\n",
            "Preparing to unpack .../09-libtinyxml2.6.2v5_2.6.2-6_amd64.deb ...\n",
            "Unpacking libtinyxml2.6.2v5:amd64 (2.6.2-6) ...\n",
            "Selecting previously unselected package libyaml-cpp0.7:amd64.\n",
            "Preparing to unpack .../10-libyaml-cpp0.7_0.7.0+dfsg-8build1_amd64.deb ...\n",
            "Unpacking libyaml-cpp0.7:amd64 (0.7.0+dfsg-8build1) ...\n",
            "Selecting previously unselected package libopencolorio1v5.\n",
            "Preparing to unpack .../11-libopencolorio1v5_1.1.1~dfsg0-7.1build1_amd64.deb ...\n",
            "Unpacking libopencolorio1v5 (1.1.1~dfsg0-7.1build1) ...\n",
            "Selecting previously unselected package liblog4cplus-2.0.5:amd64.\n",
            "Preparing to unpack .../12-liblog4cplus-2.0.5_2.0.5-3_amd64.deb ...\n",
            "Unpacking liblog4cplus-2.0.5:amd64 (2.0.5-3) ...\n",
            "Selecting previously unselected package libopenvdb8.1.\n",
            "Preparing to unpack .../13-libopenvdb8.1_8.1.0-3build1_amd64.deb ...\n",
            "Unpacking libopenvdb8.1 (8.1.0-3build1) ...\n",
            "Selecting previously unselected package libraw20:amd64.\n",
            "Preparing to unpack .../14-libraw20_0.20.2-2ubuntu2.22.04.1_amd64.deb ...\n",
            "Unpacking libraw20:amd64 (0.20.2-2ubuntu2.22.04.1) ...\n",
            "Selecting previously unselected package libsquish0:amd64.\n",
            "Preparing to unpack .../15-libsquish0_1.15-1build1_amd64.deb ...\n",
            "Unpacking libsquish0:amd64 (1.15-1build1) ...\n",
            "Selecting previously unselected package libopenimageio2.2:amd64.\n",
            "Preparing to unpack .../16-libopenimageio2.2_2.2.18.0+dfsg-1ubuntu2_amd64.deb ...\n",
            "Unpacking libopenimageio2.2:amd64 (2.2.18.0+dfsg-1ubuntu2) ...\n",
            "Selecting previously unselected package libosdcpu3.4.4:amd64.\n",
            "Preparing to unpack .../17-libosdcpu3.4.4_3.4.4-2ubuntu1_amd64.deb ...\n",
            "Unpacking libosdcpu3.4.4:amd64 (3.4.4-2ubuntu1) ...\n",
            "Selecting previously unselected package libpugixml1v5:amd64.\n",
            "Preparing to unpack .../18-libpugixml1v5_1.12.1-1_amd64.deb ...\n",
            "Unpacking libpugixml1v5:amd64 (1.12.1-1) ...\n",
            "Selecting previously unselected package libspnav0.\n",
            "Preparing to unpack .../19-libspnav0_0.2.3-1_amd64.deb ...\n",
            "Unpacking libspnav0 (0.2.3-1) ...\n",
            "Selecting previously unselected package blender.\n",
            "Preparing to unpack .../20-blender_3.0.1+dfsg-7_amd64.deb ...\n",
            "Unpacking blender (3.0.1+dfsg-7) ...\n",
            "Setting up libembree3-3:amd64 (3.12.2+dfsg-1) ...\n",
            "Setting up libsquish0:amd64 (1.15-1build1) ...\n",
            "Setting up liblog4cplus-2.0.5:amd64 (2.0.5-3) ...\n",
            "Setting up libopenvdb8.1 (8.1.0-3build1) ...\n",
            "Setting up libjemalloc2:amd64 (5.2.1-4ubuntu1) ...\n",
            "Setting up libpugixml1v5:amd64 (1.12.1-1) ...\n",
            "Setting up libosdcpu3.4.4:amd64 (3.4.4-2ubuntu1) ...\n",
            "Setting up libwrap0:amd64 (7.6.q-31build2) ...\n",
            "Setting up libyaml-cpp0.7:amd64 (0.7.0+dfsg-8build1) ...\n",
            "Setting up fonts-dejavu-core (2.37-2build1) ...\n",
            "Setting up libtinyxml2.6.2v5:amd64 (2.6.2-6) ...\n",
            "Setting up libraw20:amd64 (0.20.2-2ubuntu2.22.04.1) ...\n",
            "Setting up libfftw3-double3:amd64 (3.3.8-2ubuntu8) ...\n",
            "Setting up fonts-dejavu-extra (2.37-2build1) ...\n",
            "Setting up blender-data (3.0.1+dfsg-7) ...\n",
            "Setting up libspnav0 (0.2.3-1) ...\n",
            "Setting up libopencolorio1v5 (1.1.1~dfsg0-7.1build1) ...\n",
            "Setting up fonts-dejavu (2.37-2build1) ...\n",
            "Setting up libdcmtk16 (3.6.6-5) ...\n",
            "Setting up libopenimageio2.2:amd64 (2.2.18.0+dfsg-1ubuntu2) ...\n",
            "Setting up blender (3.0.1+dfsg-7) ...\n",
            "Processing triggers for hicolor-icon-theme (0.17-2) ...\n",
            "Processing triggers for libc-bin (2.35-0ubuntu3.4) ...\n",
            "/sbin/ldconfig.real: /usr/local/lib/libtbb.so.12 is not a symbolic link\n",
            "\n",
            "/sbin/ldconfig.real: /usr/local/lib/libtbbmalloc.so.2 is not a symbolic link\n",
            "\n",
            "/sbin/ldconfig.real: /usr/local/lib/libtbbbind.so.3 is not a symbolic link\n",
            "\n",
            "/sbin/ldconfig.real: /usr/local/lib/libtbbbind_2_0.so.3 is not a symbolic link\n",
            "\n",
            "/sbin/ldconfig.real: /usr/local/lib/libtbbbind_2_5.so.3 is not a symbolic link\n",
            "\n",
            "/sbin/ldconfig.real: /usr/local/lib/libtbbmalloc_proxy.so.2 is not a symbolic link\n",
            "\n",
            "Processing triggers for man-db (2.10.2-1) ...\n",
            "Processing triggers for fontconfig (2.13.1-4.2ubuntu5) ...\n"
          ]
        }
      ]
    },
    {
      "cell_type": "code",
      "source": [
        "blender_script = f\"\"\"\n",
        "import bpy\n",
        "\n",
        "bpy.ops.wm.read_factory_settings(use_empty=True)\n",
        "\n",
        "# Import STL mesh and apply remesh modifier\n",
        "bpy.ops.import_mesh.stl(filepath= \"{filename}\", global_scale=0.1,)\n",
        "\n",
        "bpy.ops.object.modifier_add(type='REMESH')\n",
        "bpy.context.object.modifiers[\"Remesh\"].mode = 'VOXEL'\n",
        "bpy.context.object.modifiers[\"Remesh\"].voxel_size = {voxel_size}/10\n",
        "bpy.ops.object.modifier_apply(modifier=\"Remesh\")\n",
        "\n",
        "# Unwrap the mesh using Smart UV Project\n",
        "bpy.ops.object.mode_set(mode='EDIT')\n",
        "bpy.ops.mesh.select_all(action='SELECT')\n",
        "bpy.ops.uv.smart_project()\n",
        "bpy.ops.object.mode_set(mode='OBJECT')\n",
        "selected_object = bpy.context.object\n",
        "\n",
        "\n",
        "\n",
        "# Export the object as an OBJ file\n",
        "for obj in bpy.context.selected_objects:\n",
        "    if obj.type == \"MESH\":\n",
        "        bpy.ops.export_scene.obj(filepath=\"/content/remeshed_uv.obj\", use_triangles=False, use_materials=False)\n",
        "\n",
        "file_path = \"/content/meshed_geometry.blend\"\n",
        "# Save the file\n",
        "bpy.ops.wm.save_as_mainfile(filepath=file_path)\"\"\"\n",
        "script_filename = \"/content/blender_script.py\"\n",
        "with open(script_filename, \"w\") as script_file:\n",
        "    script_file.write(blender_script)\n",
        "\n",
        "# Run Blender in headless mode with the script\n",
        "!blender -b -P {script_filename}"
      ],
      "metadata": {
        "id": "QXw1bTQin2gm",
        "colab": {
          "base_uri": "https://localhost:8080/"
        },
        "outputId": "a1d824f6-1352-4f79-ae6f-8ace2103d060"
      },
      "execution_count": 28,
      "outputs": [
        {
          "output_type": "stream",
          "name": "stdout",
          "text": [
            "Color management: using fallback mode for management\n",
            "Color management: Error could not find role data role.\n",
            "Blender 3.0.1\n",
            "Color management: scene view \"Filmic\" not found, setting default \"Standard\".\n",
            "Color management: scene view \"Filmic\" not found, setting default \"Standard\".\n",
            "Import finished in 0.9167 sec.\n",
            "    (  0.0002 sec |   0.0000 sec) OBJ Export path: '/content/remeshed_uv.obj'\n",
            "          (  5.8953 sec |   5.8950 sec) Finished writing geometry of 'Casting_Shot - 8M0111257-1'.\n",
            "      (  5.8954 sec |   5.8952 sec) Finished exporting geometry, now exporting materials\n",
            "      (  5.8955 sec |   5.8952 sec) OBJ Export Finished\n",
            "Progress: 100.00%\n",
            "\n",
            "Info: Total files 0 | Changed 0 | Failed 0\n",
            "Info: Saved \"meshed_geometry.blend\"\n",
            "Info: Saved \"meshed_geometry.blend\"\n",
            "\n",
            "Blender quit\n"
          ]
        }
      ]
    },
    {
      "cell_type": "markdown",
      "source": [
        "# cosine calculated"
      ],
      "metadata": {
        "id": "OJgdbwez0v4H"
      }
    },
    {
      "cell_type": "code",
      "source": [
        "# Replace 'your_obj_file.obj' with the actual file path.\n",
        "obj_file_path = '/content/remeshed_uv.obj'\n",
        "\n",
        "# Initialize lists to store vertices, faces, cosines, and VT coordinates.\n",
        "vertices = []\n",
        "faces = []\n",
        "cosines = []\n",
        "vt_coordinates = []\n",
        "vt_faces = []\n",
        "F_list = []\n",
        "tangents = []\n",
        "# Read the OBJ file and extract vertices, faces, cosines, and VT coordinates.\n",
        "with open(obj_file_path, 'r') as obj_file:\n",
        "    for line in obj_file:\n",
        "        if line.startswith('v '):\n",
        "            vertex = list(map(float, line.split()[1:]))\n",
        "            if len(vertex) == 2:  # Check for 2D vertices and add a 'z' component\n",
        "                vertex.append(0.0)\n",
        "            vertices.append(vertex)\n",
        "        elif line.startswith('f '):\n",
        "            elements = line.split()[1:]\n",
        "            face = []\n",
        "            vt_face = []\n",
        "            for element in elements:\n",
        "                vertex_indices = element.split('/')\n",
        "                v_index = int(vertex_indices[0]) - 1  # Vertex index\n",
        "                vt_index = int(vertex_indices[1]) - 1  # Vertex index\n",
        "                face.append(v_index)\n",
        "                vt_face.append(vt_index)\n",
        "            faces.append(face)\n",
        "            vt_faces.append(vt_face)\n",
        "            #print(vt_face)\n",
        "        elif line.startswith('vt '):\n",
        "            vt = list(map(float, line.split()[1:]))\n",
        "            vt_coordinates.append(vt)\n",
        "# Calculate normal vectors for each face.\n",
        "normal_vectors = []\n",
        "for face in faces:\n",
        "    if all(0 <= i < len(vertices) for i in face):  # Check that all vertex indices are valid.\n",
        "        v0 = np.array(vertices[face[0]])\n",
        "        v1 = np.array(vertices[face[1]])\n",
        "        v2 = np.array(vertices[face[2]])\n",
        "\n",
        "        edge1 = v1 - v0\n",
        "        edge2 = v2 - v0\n",
        "\n",
        "        normal = np.cross(edge1, edge2)\n",
        "        normal /= np.linalg.norm(normal)\n",
        "        normal_vectors.append(normal)\n",
        "\n",
        "        direction = np.array(selected_axis_data)\n",
        "        dot_product = np.dot(normal, direction)\n",
        "\n",
        "        # Calculate the Euclidean norms of A and B\n",
        "        norm_A = np.linalg.norm(normal)\n",
        "        norm_B = np.linalg.norm(direction)\n",
        "\n",
        "        # Calculate the cosine similarity\n",
        "        cosine = dot_product / (norm_A * norm_B)\n",
        "        sine = np.sqrt(1 - cosine**2)\n",
        "        F = 0.6*abs(cosine) - abs(sine)\n",
        "        tangent =  abs(sine) / abs(cosine)\n",
        "        F_list.append(F)\n",
        "        cosines.append(cosine)\n",
        "        tangents.append(tangent)"
      ],
      "metadata": {
        "id": "h5CDcpVJZ-q2",
        "colab": {
          "base_uri": "https://localhost:8080/"
        },
        "outputId": "74480402-7b89-4852-8a94-a7024594bd2f"
      },
      "execution_count": 40,
      "outputs": [
        {
          "output_type": "stream",
          "name": "stderr",
          "text": [
            "<ipython-input-40-3008f4cff3f1>:62: RuntimeWarning: divide by zero encountered in double_scalars\n",
            "  tangent =  abs(sine) / abs(cosine)\n"
          ]
        }
      ]
    },
    {
      "cell_type": "code",
      "source": [
        "cosines_array = np.array(cosines)\n",
        "F_array = np.array(F_list)\n",
        "max_F = F_array.max()\n",
        "min_F = F_array.min()\n",
        "tangents_array = np.array(tangents)\n",
        "tangent_filtered_array = tangents_array[~np.isnan(tangents_array) & np.isfinite(tangents_array)]\n",
        "max_tangent = tangent_filtered_array.max()\n",
        "min_tangent = tangent_filtered_array.min()\n",
        "print(max_tangent)\n",
        "print(min_tangent)"
      ],
      "metadata": {
        "colab": {
          "base_uri": "https://localhost:8080/"
        },
        "id": "_D2fMuFvbCLv",
        "outputId": "99c87cfe-6a59-4e71-aa71-a247b7412dbb"
      },
      "execution_count": 41,
      "outputs": [
        {
          "output_type": "stream",
          "name": "stdout",
          "text": [
            "77072.97257969812\n",
            "0.0\n"
          ]
        }
      ]
    },
    {
      "cell_type": "markdown",
      "source": [
        "# Texture marked"
      ],
      "metadata": {
        "id": "MB94HFjy1ywr"
      }
    },
    {
      "cell_type": "code",
      "source": [
        "# Determine the image size.\n",
        "image_size = 1080\n",
        "\n",
        "color_bins = [(i, 0, 256-i) for i in range(0, 256, 26)]\n",
        "\n",
        "# Create a black image.\n",
        "image = Image.new(\"RGB\", (image_size, image_size), \"black\")\n",
        "draw = ImageDraw.Draw(image)\n",
        "\n",
        "# Scale the VT coordinates to fit the 1080x1080 image size.\n",
        "scaled_vt_coordinates = [\n",
        "    (vt[0] * image_size, (1 - vt[1]) * image_size) for vt in vt_coordinates\n",
        "]\n",
        "\n",
        "# Loop through the faces and apply red or blue coloring based on cosines.\n",
        "for i, (vt_face, F) in enumerate(zip(vt_faces, F_list)):\n",
        "    if all(0 <= j < len(scaled_vt_coordinates) for j in vt_face):\n",
        "        vt_indices = [scaled_vt_coordinates[j] for j in vt_face]\n",
        "        #print(vt_indices)\n",
        "        fraction = (F - min_F) / (max_F - min_F)\n",
        "        index = int(fraction * 10)\n",
        "        index = max(0, min(index, 9))  # Ensure the index is within the valid range\n",
        "\n",
        "    # Use the selected color from the color_bins list\n",
        "        color = color_bins[index]\n",
        "        draw.polygon(\n",
        "            vt_indices,\n",
        "            outline=color,\n",
        "            fill=color,\n",
        "        )\n",
        "\n",
        "# Save the marked image.\n",
        "image.save('marked_image_F.png')\n"
      ],
      "metadata": {
        "id": "nSFrWNLcoRPM"
      },
      "execution_count": 31,
      "outputs": []
    },
    {
      "cell_type": "code",
      "source": [
        "import cv2\n",
        "import matplotlib.pyplot as plt\n",
        "\n",
        "# Load the image\n",
        "image_path = \"/content/marked_image_F.png\"  # Replace with the actual path to your image\n",
        "image = cv2.imread(image_path)\n",
        "\n",
        "image_rgb = cv2.cvtColor(image, cv2.COLOR_BGR2RGB)\n",
        "\n",
        "# Extract the red and blue channels\n",
        "red_channel = image_rgb[:, :, 0]\n",
        "blue_channel = image_rgb[:, :, 2]\n",
        "\n",
        "# Plot the combined histogram\n",
        "plt.hist([red_channel.ravel(), blue_channel.ravel()], bins=256, color=['red', 'blue'], alpha=0.7, rwidth=0.8, label=['Red Channel', 'Blue Channel'])\n",
        "plt.title('Red and Blue Channels Histogram (Excluding Black)')\n",
        "plt.xlabel('Pixel Value')\n",
        "plt.ylabel('Frequency')\n",
        "plt.legend()\n",
        "plt.show()"
      ],
      "metadata": {
        "id": "ZcQwISoflJZI",
        "colab": {
          "base_uri": "https://localhost:8080/",
          "height": 472
        },
        "outputId": "682174d0-4c17-411b-9bad-cc5095b54f85"
      },
      "execution_count": 57,
      "outputs": [
        {
          "output_type": "display_data",
          "data": {
            "text/plain": [
              "<Figure size 640x480 with 1 Axes>"
            ],
            "image/png": "[encoded data removed]"
          },
          "metadata": {}
        }
      ]
    },
    {
      "cell_type": "code",
      "source": [
        "max_tangent = -float('inf')  # Initialize max_tangent to negative infinity\n",
        "for i, (vt_face, cosine, tangent) in enumerate(zip(vt_faces, cosines, tangents)):\n",
        "    if all(0 <= j < len(scaled_vt_coordinates) for j in vt_face):\n",
        "        vt_indices = [scaled_vt_coordinates[j] for j in vt_face]\n",
        "\n",
        "        if tangent != float('inf'):\n",
        "            if tangent > max_tangent:\n",
        "                max_tangent = tangent"
      ],
      "metadata": {
        "id": "M1A6L_RawO_u"
      },
      "execution_count": 42,
      "outputs": []
    },
    {
      "cell_type": "code",
      "source": [
        "# Determine the image size.\n",
        "image_size = 1080\n",
        "\n",
        "color_bins = [(i, 0, 256-i) for i in range(0, 256, 26)]\n",
        "\n",
        "# Create a black image.\n",
        "image = Image.new(\"RGB\", (image_size, image_size), \"black\")\n",
        "draw = ImageDraw.Draw(image)\n",
        "\n",
        "# Scale the VT coordinates to fit the 1080x1080 image size.\n",
        "scaled_vt_coordinates = [\n",
        "    (vt[0] * image_size, (1 - vt[1]) * image_size) for vt in vt_coordinates\n",
        "]\n",
        "\n",
        "# Loop through the faces and apply red or blue coloring based on cosines.\n",
        "for i, (vt_face,cosine, tangent) in enumerate(zip(vt_faces, cosines ,tangents)):\n",
        "    if all(0 <= j < len(scaled_vt_coordinates) for j in vt_face):\n",
        "        vt_indices = [scaled_vt_coordinates[j] for j in vt_face]\n",
        "        if tangent != float('inf'):\n",
        "          fraction = (tangent - min_tangent) / (max_tangent - min_tangent)\n",
        "\n",
        "    # Map fraction to one of the 10 color bins\n",
        "          index = int(fraction * 10)\n",
        "          index = max(0, min(index, 9))  # Ensure the index is within the valid range\n",
        "\n",
        "    # Use the selected color from the color_bins list\n",
        "          color = color_bins[index]\n",
        "        else:\n",
        "            color = (255, 255, 255)\n",
        "        # Draw a red or blue polygon on the image.\n",
        "        draw.polygon(\n",
        "            vt_indices,\n",
        "            outline=color,\n",
        "            fill=color,\n",
        "        )\n",
        "\n",
        "# Save the marked image.\n",
        "image.save('marked_image_line.png')"
      ],
      "metadata": {
        "id": "JBYWtoftkLfc"
      },
      "execution_count": 45,
      "outputs": []
    },
    {
      "cell_type": "code",
      "source": [
        "import cv2\n",
        "import matplotlib.pyplot as plt\n",
        "\n",
        "# Load the image\n",
        "image_path = \"/content/marked_image_line.png\"  # Replace with the actual path to your image\n",
        "image = cv2.imread(image_path)\n",
        "\n",
        "image_rgb = cv2.cvtColor(image, cv2.COLOR_BGR2RGB)\n",
        "\n",
        "# Extract the red and blue channels\n",
        "red_channel = image_rgb[:, :, 0]\n",
        "blue_channel = image_rgb[:, :, 2]\n",
        "\n",
        "\n",
        "# Plot the combined histogram\n",
        "plt.hist([red_channel.ravel(), blue_channel.ravel()], bins=256, color=['red', 'blue'], alpha=0.7, rwidth=0.8, label=['Red Channel', 'Blue Channel'])\n",
        "plt.title('Red and Blue Channels Histogram (Excluding Black)')\n",
        "plt.xlabel('Pixel Value')\n",
        "plt.ylabel('Frequency')\n",
        "plt.legend()\n",
        "plt.show()"
      ],
      "metadata": {
        "colab": {
          "base_uri": "https://localhost:8080/",
          "height": 472
        },
        "id": "up4vNOukv1PY",
        "outputId": "a550a106-1e50-47e7-c468-18e83503b61f"
      },
      "execution_count": 56,
      "outputs": [
        {
          "output_type": "display_data",
          "data": {
            "text/plain": [
              "<Figure size 640x480 with 1 Axes>"
            ],
            "image/png": "[encoded data removed]"
          },
          "metadata": {}
        }
      ]
    },
    {
      "cell_type": "markdown",
      "source": [
        "# Visualization"
      ],
      "metadata": {
        "id": "SWcL1Meb2FUW"
      }
    },
    {
      "cell_type": "code",
      "source": [
        "bpy.ops.wm.open_mainfile(filepath=file_path)\n",
        "material = bpy.data.materials.new(name=\"MyMaterial\")\n",
        "\n",
        "# Create a new shader node tree for the material\n",
        "material.use_nodes = True\n",
        "tree = material.node_tree\n",
        "nodes = tree.nodes\n",
        "\n",
        "# Clear existing nodes\n",
        "for node in nodes:\n",
        "    nodes.remove(node)\n",
        "\n",
        "# Create a new Principled BSDF node\n",
        "bsdf_node = nodes.new(type='ShaderNodeBsdfPrincipled')\n",
        "bsdf_node.location = (0, 0)  # Position the node in the node editor\n",
        "\n",
        "# Create a new Image Texture node\n",
        "texture_node = nodes.new(type='ShaderNodeTexImage')\n",
        "texture_node.location = (-200, 0)  # Position the node in the node editor\n",
        "\n",
        "# Set the path to the image texture\n",
        "texture_node.image = bpy.data.images.load(\"/content/marked_image_F.png\")\n",
        "\n",
        "# Connect the Image Texture node to the Base Color input of the Principled BSDF node\n",
        "base_color_link = tree.links.new(texture_node.outputs['Color'], bsdf_node.inputs['Base Color'])\n",
        "\n",
        "# Create a new Material Output node\n",
        "output_node = nodes.new(type='ShaderNodeOutputMaterial')\n",
        "output_node.location = (200, 0)  # Position the node in the node editor\n",
        "\n",
        "# Connect the Principled BSDF node to the Surface input of the Material Output node\n",
        "surface_link = tree.links.new(bsdf_node.outputs['BSDF'], output_node.inputs['Surface'])\n",
        "\n",
        "# Assign the material to the active object\n",
        "bpy.context.object.data.materials.append(material)\n",
        "bpy.ops.export_scene.gltf(filepath=\"/content/colored_F_geometry.glb\")"
      ],
      "metadata": {
        "colab": {
          "base_uri": "https://localhost:8080/"
        },
        "id": "vNbUlH0Jr9cx",
        "outputId": "5cf92af6-8ff6-4d8d-a45c-e9d3add53dfd"
      },
      "execution_count": null,
      "outputs": [
        {
          "output_type": "stream",
          "name": "stdout",
          "text": [
            "03:25:24 | ERROR: Draco mesh compression is not available because library could not be found at /content/3.6/python/lib/python3.10/site-packages/libextern_draco.so\n",
            "03:25:24 | INFO: Starting glTF 2.0 export\n",
            "03:25:24 | INFO: Extracting primitive: Casting_Shot - 8M0111257-1\n",
            "03:25:26 | INFO: Primitives created: 1\n",
            "03:25:26 | INFO: Finished glTF 2.0 export in 2.121504783630371 s\n",
            "\n"
          ]
        },
        {
          "output_type": "execute_result",
          "data": {
            "text/plain": [
              "{'FINISHED'}"
            ]
          },
          "metadata": {},
          "execution_count": 16
        }
      ]
    },
    {
      "cell_type": "code",
      "source": [
        "bpy.ops.wm.open_mainfile(filepath=file_path)\n",
        "material = bpy.data.materials.new(name=\"MyMaterial\")\n",
        "\n",
        "# Create a new shader node tree for the material\n",
        "material.use_nodes = True\n",
        "tree = material.node_tree\n",
        "nodes = tree.nodes\n",
        "\n",
        "# Clear existing nodes\n",
        "for node in nodes:\n",
        "    nodes.remove(node)\n",
        "\n",
        "# Create a new Principled BSDF node\n",
        "bsdf_node = nodes.new(type='ShaderNodeBsdfPrincipled')\n",
        "bsdf_node.location = (0, 0)  # Position the node in the node editor\n",
        "\n",
        "# Create a new Image Texture node\n",
        "texture_node = nodes.new(type='ShaderNodeTexImage')\n",
        "texture_node.location = (-200, 0)  # Position the node in the node editor\n",
        "\n",
        "# Set the path to the image texture\n",
        "texture_node.image = bpy.data.images.load(\"/content/marked_image_line.png\")\n",
        "\n",
        "# Connect the Image Texture node to the Base Color input of the Principled BSDF node\n",
        "base_color_link = tree.links.new(texture_node.outputs['Color'], bsdf_node.inputs['Base Color'])\n",
        "\n",
        "# Create a new Material Output node\n",
        "output_node = nodes.new(type='ShaderNodeOutputMaterial')\n",
        "output_node.location = (200, 0)  # Position the node in the node editor\n",
        "\n",
        "# Connect the Principled BSDF node to the Surface input of the Material Output node\n",
        "surface_link = tree.links.new(bsdf_node.outputs['BSDF'], output_node.inputs['Surface'])\n",
        "\n",
        "# Assign the material to the active object\n",
        "bpy.context.object.data.materials.append(material)\n",
        "bpy.ops.export_scene.gltf(filepath=\"/content/colored_line_geometry.glb\")"
      ],
      "metadata": {
        "colab": {
          "base_uri": "https://localhost:8080/"
        },
        "id": "rv5zbZjhpOnn",
        "outputId": "935bd7b6-e6e1-4648-c67b-f68400d9305e"
      },
      "execution_count": null,
      "outputs": [
        {
          "output_type": "stream",
          "name": "stdout",
          "text": [
            "03:30:03 | ERROR: Draco mesh compression is not available because library could not be found at /content/3.6/python/lib/python3.10/site-packages/libextern_draco.so\n",
            "03:30:03 | INFO: Starting glTF 2.0 export\n",
            "03:30:03 | INFO: Extracting primitive: Casting_Shot - 8M0111257-1\n",
            "03:30:06 | INFO: Primitives created: 1\n",
            "03:30:06 | INFO: Finished glTF 2.0 export in 2.5856149196624756 s\n",
            "\n"
          ]
        },
        {
          "output_type": "execute_result",
          "data": {
            "text/plain": [
              "{'FINISHED'}"
            ]
          },
          "metadata": {},
          "execution_count": 19
        }
      ]
    },
    {
      "cell_type": "code",
      "source": [
        "files_to_delete = [\n",
        "    \"/content/meshed_geometry.blend\",\n",
        "    \"/content/remeshed_uv.obj\",\n",
        "    \"/content/marked_image_F.png\",\n",
        "    \"/content/marked_image_line.png\"\n",
        "]\n",
        "\n",
        "for file_path in files_to_delete:\n",
        "    if os.path.exists(file_path):\n",
        "        os.remove(file_path)"
      ],
      "metadata": {
        "id": "rDz2Q8Ce2Wv1"
      },
      "execution_count": null,
      "outputs": []
    }
  ]
}