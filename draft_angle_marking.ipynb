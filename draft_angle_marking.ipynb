{
  "nbformat": 4,
  "nbformat_minor": 0,
  "metadata": {
    "colab": {
      "provenance": [],
      "authorship_tag": "ABX9TyPwT4XbAbjtQ35x18WQO1gs",
      "include_colab_link": true
    },
    "kernelspec": {
      "name": "python3",
      "display_name": "Python 3"
    },
    "language_info": {
      "name": "python"
    },
    "widgets": {
      "application/vnd.jupyter.widget-state+json": {
        "dcf9566d35fa45af8fd0e7a60da397cb": {
          "model_module": "@jupyter-widgets/controls",
          "model_name": "ButtonModel",
          "model_module_version": "1.5.0",
          "state": {
            "_dom_classes": [],
            "_model_module": "@jupyter-widgets/controls",
            "_model_module_version": "1.5.0",
            "_model_name": "ButtonModel",
            "_view_count": null,
            "_view_module": "@jupyter-widgets/controls",
            "_view_module_version": "1.5.0",
            "_view_name": "ButtonView",
            "button_style": "",
            "description": "Google upload dialog",
            "disabled": false,
            "icon": "",
            "layout": "IPY_MODEL_4e3f63bbd2b2482881b9d4f33fcfcc88",
            "style": "IPY_MODEL_0657072457594a7c86178df74e327054",
            "tooltip": ""
          }
        },
        "4e3f63bbd2b2482881b9d4f33fcfcc88": {
          "model_module": "@jupyter-widgets/base",
          "model_name": "LayoutModel",
          "model_module_version": "1.2.0",
          "state": {
            "_model_module": "@jupyter-widgets/base",
            "_model_module_version": "1.2.0",
            "_model_name": "LayoutModel",
            "_view_count": null,
            "_view_module": "@jupyter-widgets/base",
            "_view_module_version": "1.2.0",
            "_view_name": "LayoutView",
            "align_content": null,
            "align_items": null,
            "align_self": null,
            "border": null,
            "bottom": null,
            "display": null,
            "flex": null,
            "flex_flow": null,
            "grid_area": null,
            "grid_auto_columns": null,
            "grid_auto_flow": null,
            "grid_auto_rows": null,
            "grid_column": null,
            "grid_gap": null,
            "grid_row": null,
            "grid_template_areas": null,
            "grid_template_columns": null,
            "grid_template_rows": null,
            "height": null,
            "justify_content": null,
            "justify_items": null,
            "left": null,
            "margin": null,
            "max_height": null,
            "max_width": null,
            "min_height": null,
            "min_width": null,
            "object_fit": null,
            "object_position": null,
            "order": null,
            "overflow": null,
            "overflow_x": null,
            "overflow_y": null,
            "padding": null,
            "right": null,
            "top": null,
            "visibility": null,
            "width": null
          }
        },
        "0657072457594a7c86178df74e327054": {
          "model_module": "@jupyter-widgets/controls",
          "model_name": "ButtonStyleModel",
          "model_module_version": "1.5.0",
          "state": {
            "_model_module": "@jupyter-widgets/controls",
            "_model_module_version": "1.5.0",
            "_model_name": "ButtonStyleModel",
            "_view_count": null,
            "_view_module": "@jupyter-widgets/base",
            "_view_module_version": "1.2.0",
            "_view_name": "StyleView",
            "button_color": null,
            "font_weight": ""
          }
        },
        "d31b7a94c7ca43f4992023879e12530c": {
          "model_module": "@jupyter-widgets/output",
          "model_name": "OutputModel",
          "model_module_version": "1.0.0",
          "state": {
            "_dom_classes": [],
            "_model_module": "@jupyter-widgets/output",
            "_model_module_version": "1.0.0",
            "_model_name": "OutputModel",
            "_view_count": null,
            "_view_module": "@jupyter-widgets/output",
            "_view_module_version": "1.0.0",
            "_view_name": "OutputView",
            "layout": "IPY_MODEL_b9d99f4c1ecf45ecb61df43a81b1d1c2",
            "msg_id": "",
            "outputs": []
          }
        },
        "b9d99f4c1ecf45ecb61df43a81b1d1c2": {
          "model_module": "@jupyter-widgets/base",
          "model_name": "LayoutModel",
          "model_module_version": "1.2.0",
          "state": {
            "_model_module": "@jupyter-widgets/base",
            "_model_module_version": "1.2.0",
            "_model_name": "LayoutModel",
            "_view_count": null,
            "_view_module": "@jupyter-widgets/base",
            "_view_module_version": "1.2.0",
            "_view_name": "LayoutView",
            "align_content": null,
            "align_items": null,
            "align_self": null,
            "border": null,
            "bottom": null,
            "display": null,
            "flex": null,
            "flex_flow": null,
            "grid_area": null,
            "grid_auto_columns": null,
            "grid_auto_flow": null,
            "grid_auto_rows": null,
            "grid_column": null,
            "grid_gap": null,
            "grid_row": null,
            "grid_template_areas": null,
            "grid_template_columns": null,
            "grid_template_rows": null,
            "height": null,
            "justify_content": null,
            "justify_items": null,
            "left": null,
            "margin": null,
            "max_height": null,
            "max_width": null,
            "min_height": null,
            "min_width": null,
            "object_fit": null,
            "object_position": null,
            "order": null,
            "overflow": null,
            "overflow_x": null,
            "overflow_y": null,
            "padding": null,
            "right": null,
            "top": null,
            "visibility": null,
            "width": null
          }
        },
        "dea89654792c46b6a2fcf4fd3b43ebd0": {
          "model_module": "@jupyter-widgets/controls",
          "model_name": "DropdownModel",
          "model_module_version": "1.5.0",
          "state": {
            "_dom_classes": [],
            "_model_module": "@jupyter-widgets/controls",
            "_model_module_version": "1.5.0",
            "_model_name": "DropdownModel",
            "_options_labels": [
              "x",
              "y",
              "z"
            ],
            "_view_count": null,
            "_view_module": "@jupyter-widgets/controls",
            "_view_module_version": "1.5.0",
            "_view_name": "DropdownView",
            "description": "Select Axis:",
            "description_tooltip": null,
            "disabled": false,
            "index": 2,
            "layout": "IPY_MODEL_a13e65b010ae4ec0af10bf93913f0f72",
            "style": "IPY_MODEL_e1574af56b5e4754ab34ee4d8fe05f08"
          }
        },
        "a13e65b010ae4ec0af10bf93913f0f72": {
          "model_module": "@jupyter-widgets/base",
          "model_name": "LayoutModel",
          "model_module_version": "1.2.0",
          "state": {
            "_model_module": "@jupyter-widgets/base",
            "_model_module_version": "1.2.0",
            "_model_name": "LayoutModel",
            "_view_count": null,
            "_view_module": "@jupyter-widgets/base",
            "_view_module_version": "1.2.0",
            "_view_name": "LayoutView",
            "align_content": null,
            "align_items": null,
            "align_self": null,
            "border": null,
            "bottom": null,
            "display": null,
            "flex": null,
            "flex_flow": null,
            "grid_area": null,
            "grid_auto_columns": null,
            "grid_auto_flow": null,
            "grid_auto_rows": null,
            "grid_column": null,
            "grid_gap": null,
            "grid_row": null,
            "grid_template_areas": null,
            "grid_template_columns": null,
            "grid_template_rows": null,
            "height": null,
            "justify_content": null,
            "justify_items": null,
            "left": null,
            "margin": null,
            "max_height": null,
            "max_width": null,
            "min_height": null,
            "min_width": null,
            "object_fit": null,
            "object_position": null,
            "order": null,
            "overflow": null,
            "overflow_x": null,
            "overflow_y": null,
            "padding": null,
            "right": null,
            "top": null,
            "visibility": null,
            "width": null
          }
        },
        "e1574af56b5e4754ab34ee4d8fe05f08": {
          "model_module": "@jupyter-widgets/controls",
          "model_name": "DescriptionStyleModel",
          "model_module_version": "1.5.0",
          "state": {
            "_model_module": "@jupyter-widgets/controls",
            "_model_module_version": "1.5.0",
            "_model_name": "DescriptionStyleModel",
            "_view_count": null,
            "_view_module": "@jupyter-widgets/base",
            "_view_module_version": "1.2.0",
            "_view_name": "StyleView",
            "description_width": ""
          }
        }
      }
    }
  },
  "cells": [
    {
      "cell_type": "markdown",
      "metadata": {
        "id": "view-in-github",
        "colab_type": "text"
      },
      "source": [
        "<a href=\"https://colab.research.google.com/github/zyang63/Die_casting_ejection/blob/main/draft_angle_marking.ipynb\" target=\"_parent\"><img src=\"https://colab.research.google.com/assets/colab-badge.svg\" alt=\"Open In Colab\"/></a>"
      ]
    },
    {
      "cell_type": "code",
      "source": [
        "%%capture\n",
        "!pip install trimesh\n",
        "!pip install bpy\n",
        "!pip install numpy pillow\n",
        "!apt-get install blender"
      ],
      "metadata": {
        "id": "fSWuUINvrHbN"
      },
      "execution_count": 1,
      "outputs": []
    },
    {
      "cell_type": "code",
      "source": [
        "import os\n",
        "import bpy\n",
        "import math\n",
        "import numpy as np\n",
        "from PIL import Image, ImageDraw\n",
        "import trimesh as t\n",
        "from trimesh.voxel import creation"
      ],
      "metadata": {
        "id": "FBEcWCVjq-YP"
      },
      "execution_count": 2,
      "outputs": []
    },
    {
      "cell_type": "code",
      "source": [
        "import ipywidgets as widgets\n",
        "from IPython.display import display\n",
        "from google.colab import files\n",
        "#@title #File Entry { display-mode: \"form\"}\n",
        "#@markdown User can choose to upload the file to colab directly or select the google file upload button at the bottom of this form. Also choose the number of elements.\n",
        "\n",
        "button_pressed = False  # Initialize the variable as False\n",
        "filename = \"\"\n",
        "button = widgets.Button(description=\"Google upload dialog\")\n",
        "output = widgets.Output()\n",
        "\n",
        "def on_button_clicked(b):\n",
        "    global button_pressed  # Access the global variable\n",
        "    global filename\n",
        "    with output:\n",
        "        uploaded = files.upload()\n",
        "        filename = list(uploaded.keys())[0]\n",
        "        button_pressed = True  # Set the variable to True when the button is clicked\n",
        "\n",
        "button.on_click(on_button_clicked)\n",
        "display(button, output)"
      ],
      "metadata": {
        "colab": {
          "base_uri": "https://localhost:8080/",
          "height": 49,
          "referenced_widgets": [
            "dcf9566d35fa45af8fd0e7a60da397cb",
            "4e3f63bbd2b2482881b9d4f33fcfcc88",
            "0657072457594a7c86178df74e327054",
            "d31b7a94c7ca43f4992023879e12530c",
            "b9d99f4c1ecf45ecb61df43a81b1d1c2"
          ]
        },
        "id": "RwzIYcTduok5",
        "outputId": "3aa2ded1-a906-44c1-fbfb-c0b957881ace"
      },
      "execution_count": 3,
      "outputs": [
        {
          "output_type": "display_data",
          "data": {
            "text/plain": [
              "Button(description='Google upload dialog', style=ButtonStyle())"
            ],
            "application/vnd.jupyter.widget-view+json": {
              "version_major": 2,
              "version_minor": 0,
              "model_id": "dcf9566d35fa45af8fd0e7a60da397cb"
            }
          },
          "metadata": {}
        },
        {
          "output_type": "display_data",
          "data": {
            "text/plain": [
              "Output()"
            ],
            "application/vnd.jupyter.widget-view+json": {
              "version_major": 2,
              "version_minor": 0,
              "model_id": "d31b7a94c7ca43f4992023879e12530c"
            }
          },
          "metadata": {}
        }
      ]
    },
    {
      "cell_type": "code",
      "source": [
        "#@title #Element Count { display-mode: \"form\", run: \"auto\" }\n",
        "element_count = 177 #@param {type:\"slider\", min:10, max:500, step:1}\n",
        "if not button_pressed:\n",
        "  filename = \"/content/Casting_Shot - 8M0111257-1.STL\" #@param {type:\"string\"}\n",
        "geometry = t.load_mesh(filename)\n",
        "#geometry = t.load_mesh(\"/content/ball.stl\")\n",
        "voxel_size = geometry.extents.max()/element_count\n",
        "print(\"Element size is in units from stl file \",voxel_size, \" per cell\")"
      ],
      "metadata": {
        "id": "TKnpn0djrUR_",
        "colab": {
          "base_uri": "https://localhost:8080/"
        },
        "outputId": "bf0349ad-8217-4411-9a98-31460ec1f77c"
      },
      "execution_count": 4,
      "outputs": [
        {
          "output_type": "stream",
          "name": "stdout",
          "text": [
            "Element size is in units from stl file  1.0004430005779374  per cell\n"
          ]
        }
      ]
    },
    {
      "cell_type": "markdown",
      "source": [
        "#Direction\n",
        "\n",
        "select direction here !!!!!!!"
      ],
      "metadata": {
        "id": "otqgo0DrzCxM"
      }
    },
    {
      "cell_type": "code",
      "source": [
        "# Define the choose_axis function\n",
        "def choose_axis(axis):\n",
        "    axis_vectors = {\n",
        "        'x': [0.0, 0.0, 1.0],\n",
        "\n",
        "        'y': [1.0, 0.0, 0.0] ,\n",
        "\n",
        "        'z': [0.0, 1.0, 0.0]\n",
        "\n",
        "    }\n",
        "    return axis_vectors.get(axis, None)\n",
        "\n",
        "# Create a dropdown widget for axis selection\n",
        "axis_dropdown = widgets.Dropdown(\n",
        "    options=['x', 'y', 'z'],\n",
        "    description='Select Axis:',\n",
        "    disabled=False,\n",
        ")\n",
        "\n",
        "# Output widget for displaying the result\n",
        "output_widget = widgets.Output()\n",
        "\n",
        "# Define a function to update the output and export data\n",
        "selected_axis_data = None\n",
        "def update_axis(selected_axis):\n",
        "    with output_widget:\n",
        "        output_widget.clear_output()  # Clear previous output\n",
        "        axis_vector = choose_axis(selected_axis)\n",
        "        if axis_vector is not None:\n",
        "            print(f\"Selected Axis {selected_axis}: {axis_vector}\")\n",
        "            global selected_axis_data\n",
        "            selected_axis_data = axis_vector\n",
        "\n",
        "# Link the widget to the update function\n",
        "widgets.interactive(update_axis, selected_axis=axis_dropdown)\n",
        "\n",
        "# Display the dropdown widget and the output widget\n",
        "display(axis_dropdown)"
      ],
      "metadata": {
        "colab": {
          "base_uri": "https://localhost:8080/",
          "height": 49,
          "referenced_widgets": [
            "dea89654792c46b6a2fcf4fd3b43ebd0",
            "a13e65b010ae4ec0af10bf93913f0f72",
            "e1574af56b5e4754ab34ee4d8fe05f08"
          ]
        },
        "id": "_KlfPmTHz23I",
        "outputId": "0cf39cf3-7746-4b40-98cf-ebfd741fcdf3"
      },
      "execution_count": 5,
      "outputs": [
        {
          "output_type": "display_data",
          "data": {
            "text/plain": [
              "Dropdown(description='Select Axis:', options=('x', 'y', 'z'), value='x')"
            ],
            "application/vnd.jupyter.widget-view+json": {
              "version_major": 2,
              "version_minor": 0,
              "model_id": "dea89654792c46b6a2fcf4fd3b43ebd0"
            }
          },
          "metadata": {}
        }
      ]
    },
    {
      "cell_type": "markdown",
      "source": [
        "# Remesh and output OBJ file"
      ],
      "metadata": {
        "id": "QBSS5dji0kSs"
      }
    },
    {
      "cell_type": "code",
      "source": [
        "blender_script = f\"\"\"\n",
        "import bpy\n",
        "\n",
        "bpy.ops.wm.read_factory_settings(use_empty=True)\n",
        "\n",
        "# Import STL mesh and apply remesh modifier\n",
        "bpy.ops.import_mesh.stl(filepath= \"{filename}\", global_scale=0.1,)\n",
        "\n",
        "bpy.ops.object.modifier_add(type='REMESH')\n",
        "bpy.context.object.modifiers[\"Remesh\"].mode = 'VOXEL'\n",
        "bpy.context.object.modifiers[\"Remesh\"].voxel_size = {voxel_size}/10\n",
        "bpy.ops.object.modifier_apply(modifier=\"Remesh\")\n",
        "\n",
        "# Unwrap the mesh using Smart UV Project\n",
        "bpy.ops.object.mode_set(mode='EDIT')\n",
        "bpy.ops.mesh.select_all(action='SELECT')\n",
        "bpy.ops.uv.smart_project()\n",
        "bpy.ops.object.mode_set(mode='OBJECT')\n",
        "selected_object = bpy.context.object\n",
        "\n",
        "\n",
        "\n",
        "# Export the object as an OBJ file\n",
        "for obj in bpy.context.selected_objects:\n",
        "    if obj.type == \"MESH\":\n",
        "        bpy.ops.export_scene.obj(filepath=\"/content/remeshed_uv.obj\", use_triangles=False, use_materials=False)\n",
        "\n",
        "file_path = \"/content/meshed_geometry.blend\"\n",
        "# Save the file\n",
        "bpy.ops.wm.save_as_mainfile(filepath=file_path)\"\"\"\n",
        "script_filename = \"/content/blender_script.py\"\n",
        "with open(script_filename, \"w\") as script_file:\n",
        "    script_file.write(blender_script)\n",
        "\n",
        "# Run Blender in headless mode with the script\n",
        "!blender -b -P {script_filename}"
      ],
      "metadata": {
        "id": "QXw1bTQin2gm",
        "colab": {
          "base_uri": "https://localhost:8080/"
        },
        "outputId": "b9c9f375-3a6f-4e73-ca76-61b7c4c79c4a"
      },
      "execution_count": 6,
      "outputs": [
        {
          "output_type": "stream",
          "name": "stdout",
          "text": [
            "Color management: using fallback mode for management\n",
            "Color management: Error could not find role data role.\n",
            "Blender 3.0.1\n",
            "Color management: scene view \"Filmic\" not found, setting default \"Standard\".\n",
            "Color management: scene view \"Filmic\" not found, setting default \"Standard\".\n",
            "Import finished in 2.1877 sec.\n",
            "    (  0.0002 sec |   0.0000 sec) OBJ Export path: '/content/remeshed_uv.obj'\n",
            "          (  8.1558 sec |   8.1554 sec) Finished writing geometry of 'Casting_Shot - 8M0111257-1'.\n",
            "      (  8.1560 sec |   8.1557 sec) Finished exporting geometry, now exporting materials\n",
            "      (  8.1561 sec |   8.1558 sec) OBJ Export Finished\n",
            "Progress: 100.00%\n",
            "\n",
            "Info: Total files 0 | Changed 0 | Failed 0\n",
            "Info: Saved \"meshed_geometry.blend\"\n",
            "Info: Saved \"meshed_geometry.blend\"\n",
            "\n",
            "Blender quit\n"
          ]
        }
      ]
    },
    {
      "cell_type": "markdown",
      "source": [
        "# cosine and tangent calculated"
      ],
      "metadata": {
        "id": "OJgdbwez0v4H"
      }
    },
    {
      "cell_type": "code",
      "source": [
        "# Replace 'your_obj_file.obj' with the actual file path.\n",
        "obj_file_path = '/content/remeshed_uv.obj'\n",
        "\n",
        "# Initialize lists to store vertices, faces, cosines, and VT coordinates.\n",
        "vertices = []\n",
        "faces = []\n",
        "cosines = []\n",
        "sines = []\n",
        "vt_coordinates = []\n",
        "vt_faces = []\n",
        "F_list = []\n",
        "tangents = []\n",
        "# Read the OBJ file and extract vertices, faces, cosines, and VT coordinates.\n",
        "with open(obj_file_path, 'r') as obj_file:\n",
        "    for line in obj_file:\n",
        "        if line.startswith('v '):\n",
        "            vertex = list(map(float, line.split()[1:]))\n",
        "            if len(vertex) == 2:  # Check for 2D vertices and add a 'z' component\n",
        "                vertex.append(0.0)\n",
        "            vertices.append(vertex)\n",
        "        elif line.startswith('f '):\n",
        "            elements = line.split()[1:]\n",
        "            face = []\n",
        "            vt_face = []\n",
        "            for element in elements:\n",
        "                vertex_indices = element.split('/')\n",
        "                v_index = int(vertex_indices[0]) - 1  # Vertex index\n",
        "                vt_index = int(vertex_indices[1]) - 1  # Vertex index\n",
        "                face.append(v_index)\n",
        "                vt_face.append(vt_index)\n",
        "            faces.append(face)\n",
        "            vt_faces.append(vt_face)\n",
        "            #print(vt_face)\n",
        "        elif line.startswith('vt '):\n",
        "            vt = list(map(float, line.split()[1:]))\n",
        "            vt_coordinates.append(vt)\n",
        "# Calculate normal vectors for each face.\n",
        "normal_vectors = []\n",
        "for face in faces:\n",
        "    if all(0 <= i < len(vertices) for i in face):  # Check that all vertex indices are valid.\n",
        "        v0 = np.array(vertices[face[0]])\n",
        "        v1 = np.array(vertices[face[1]])\n",
        "        v2 = np.array(vertices[face[2]])\n",
        "\n",
        "        edge1 = v1 - v0\n",
        "        edge2 = v2 - v0\n",
        "\n",
        "        normal = np.cross(edge1, edge2)\n",
        "        normal /= np.linalg.norm(normal)\n",
        "        normal_vectors.append(normal)\n",
        "\n",
        "        direction = np.array(selected_axis_data)\n",
        "        dot_product = np.dot(normal, direction)\n",
        "\n",
        "        # Calculate the Euclidean norms of A and B\n",
        "        norm_A = np.linalg.norm(normal)\n",
        "        norm_B = np.linalg.norm(direction)\n",
        "\n",
        "        # Calculate the cosine similarity\n",
        "        cosine = dot_product / (norm_A * norm_B)\n",
        "        sine = np.sqrt(1 - cosine**2)\n",
        "        F = 0.6*abs(sine) - abs(cosine)\n",
        "        tangent =  abs(cosine) / abs(sine)\n",
        "        F_list.append(F)\n",
        "        cosines.append(abs(cosine))\n",
        "        sines.append(abs(sine))\n",
        "        tangents.append(tangent)"
      ],
      "metadata": {
        "id": "h5CDcpVJZ-q2",
        "colab": {
          "base_uri": "https://localhost:8080/"
        },
        "outputId": "7ea6d386-c96e-4ab8-c4e1-a8dc3ee97ee4"
      },
      "execution_count": 27,
      "outputs": [
        {
          "output_type": "stream",
          "name": "stderr",
          "text": [
            "<ipython-input-27-de420b3d0571>:63: RuntimeWarning: divide by zero encountered in double_scalars\n",
            "  tangent =  abs(cosine) / abs(sine)\n"
          ]
        }
      ]
    },
    {
      "cell_type": "code",
      "source": [
        "Mu = 0.6\n",
        "Min_scale_value = 0.5"
      ],
      "metadata": {
        "id": "Jnit-S1hnneA"
      },
      "execution_count": 21,
      "outputs": []
    },
    {
      "cell_type": "code",
      "source": [
        "cosines_array = np.array(cosines)\n",
        "F_array = np.array(F_list)\n",
        "max_F = F_array.max()\n",
        "min_F = F_array.min()\n",
        "tangents_array = np.array(tangents)\n",
        "tangent_filtered_array = tangents_array[~np.isnan(tangents_array) & np.isfinite(tangents_array)]\n",
        "print(tangent_filtered_array.max())"
      ],
      "metadata": {
        "id": "_D2fMuFvbCLv",
        "colab": {
          "base_uri": "https://localhost:8080/"
        },
        "outputId": "18d908e2-5f23-42d8-8cd9-c7228ff5b491"
      },
      "execution_count": 28,
      "outputs": [
        {
          "output_type": "stream",
          "name": "stdout",
          "text": [
            "100045.10140650513\n"
          ]
        }
      ]
    },
    {
      "cell_type": "markdown",
      "source": [
        "# Texture marked"
      ],
      "metadata": {
        "id": "MB94HFjy1ywr"
      }
    },
    {
      "cell_type": "code",
      "source": [
        "# Determine the image size.\n",
        "image_size = 1080\n",
        "\n",
        "color_bins = [(i, 0, 256-i) for i in range(0, 256, 26)]\n",
        "\n",
        "# Create a black image.\n",
        "image = Image.new(\"RGB\", (image_size, image_size), \"black\")\n",
        "draw = ImageDraw.Draw(image)\n",
        "\n",
        "# Scale the VT coordinates to fit the 1080x1080 image size.\n",
        "scaled_vt_coordinates = [\n",
        "    (vt[0] * image_size, (1 - vt[1]) * image_size) for vt in vt_coordinates\n",
        "]\n",
        "\n",
        "# Loop through the faces and apply red or blue coloring based on cosines.\n",
        "for i, (vt_face, F) in enumerate(zip(vt_faces, F_list)):\n",
        "    if all(0 <= j < len(scaled_vt_coordinates) for j in vt_face):\n",
        "        vt_indices = [scaled_vt_coordinates[j] for j in vt_face]\n",
        "        #print(vt_indices)\n",
        "        fraction = (F - min_F) / (max_F - min_F)\n",
        "        index = int(fraction * 10)\n",
        "        index = max(0, min(index, 9))  # Ensure the index is within the valid range\n",
        "\n",
        "    # Use the selected color from the color_bins list\n",
        "        color = color_bins[index]\n",
        "        draw.polygon(\n",
        "            vt_indices,\n",
        "            outline=color,\n",
        "            fill=color,\n",
        "        )\n",
        "\n",
        "# Save the marked image.\n",
        "image.save('marked_image_F.png')\n"
      ],
      "metadata": {
        "id": "nSFrWNLcoRPM"
      },
      "execution_count": 29,
      "outputs": []
    },
    {
      "cell_type": "code",
      "source": [
        "# Determine the image size.\n",
        "image_size = 1080\n",
        "\n",
        "color_bins = [(256-i, 0, i) for i in range(0, 256, 26)]\n",
        "\n",
        "# Create a black image.\n",
        "image = Image.new(\"RGB\", (image_size, image_size), \"black\")\n",
        "draw = ImageDraw.Draw(image)\n",
        "\n",
        "# Scale the VT coordinates to fit the 1080x1080 image size.\n",
        "scaled_vt_coordinates = [\n",
        "    (vt[0] * image_size, (1 - vt[1]) * image_size) for vt in vt_coordinates\n",
        "]\n",
        "\n",
        "# Loop through the faces and apply red or blue coloring based on cosines.\n",
        "for i, (vt_face, tangent) in enumerate(zip(vt_faces ,tangents)):\n",
        "    if all(0 <= j < len(scaled_vt_coordinates) for j in vt_face):\n",
        "        vt_indices = [scaled_vt_coordinates[j] for j in vt_face]\n",
        "        if tangent != float('inf') and Min_scale_value <= tangent <= Mu:\n",
        "          fraction = (tangent - Min_scale_value) / (Mu - Min_scale_value)\n",
        "\n",
        "    # Map fraction to one of the 10 color bins\n",
        "          index = int(fraction * 10)\n",
        "          index = max(0, min(index, 9))  # Ensure the index is within the valid range\n",
        "\n",
        "    # Use the selected color from the color_bins list\n",
        "          color = color_bins[index]\n",
        "        elif tangent != float('inf') and  tangent > Mu:\n",
        "            color = (125, 125, 125)\n",
        "        elif tangent != float('inf') and  0 <= tangent < Min_scale_value:\n",
        "            color = (0, 0, 0)\n",
        "        elif tangent == float('inf'):\n",
        "            color = (125, 125, 125)\n",
        "        # Draw a red or blue polygon on the image.\n",
        "        draw.polygon(\n",
        "            vt_indices,\n",
        "            outline=color,\n",
        "            fill=color,\n",
        "        )\n",
        "\n",
        "# Save the marked image.\n",
        "image.save('marked_image_line.png')"
      ],
      "metadata": {
        "id": "JBYWtoftkLfc"
      },
      "execution_count": 25,
      "outputs": []
    },
    {
      "cell_type": "markdown",
      "source": [
        "# Visualization"
      ],
      "metadata": {
        "id": "SWcL1Meb2FUW"
      }
    },
    {
      "cell_type": "code",
      "source": [
        "bpy.ops.wm.open_mainfile(filepath=\"/content/meshed_geometry.blend\")\n",
        "material = bpy.data.materials.new(name=\"MyMaterial\")\n",
        "\n",
        "# Create a new shader node tree for the material\n",
        "material.use_nodes = True\n",
        "tree = material.node_tree\n",
        "nodes = tree.nodes\n",
        "\n",
        "# Clear existing nodes\n",
        "for node in nodes:\n",
        "    nodes.remove(node)\n",
        "\n",
        "# Create a new Principled BSDF node\n",
        "bsdf_node = nodes.new(type='ShaderNodeBsdfPrincipled')\n",
        "bsdf_node.location = (0, 0)  # Position the node in the node editor\n",
        "\n",
        "# Create a new Image Texture node\n",
        "texture_node = nodes.new(type='ShaderNodeTexImage')\n",
        "texture_node.location = (-200, 0)  # Position the node in the node editor\n",
        "\n",
        "# Set the path to the image texture\n",
        "texture_node.image = bpy.data.images.load(\"/content/marked_image_F.png\")\n",
        "\n",
        "# Connect the Image Texture node to the Base Color input of the Principled BSDF node\n",
        "base_color_link = tree.links.new(texture_node.outputs['Color'], bsdf_node.inputs['Base Color'])\n",
        "\n",
        "# Create a new Material Output node\n",
        "output_node = nodes.new(type='ShaderNodeOutputMaterial')\n",
        "output_node.location = (200, 0)  # Position the node in the node editor\n",
        "\n",
        "# Connect the Principled BSDF node to the Surface input of the Material Output node\n",
        "surface_link = tree.links.new(bsdf_node.outputs['BSDF'], output_node.inputs['Surface'])\n",
        "\n",
        "# Assign the material to the active object\n",
        "bpy.context.object.data.materials.append(material)\n",
        "bpy.ops.export_scene.gltf(filepath=\"/content/colored_F_geometry.glb\")"
      ],
      "metadata": {
        "colab": {
          "base_uri": "https://localhost:8080/"
        },
        "id": "vNbUlH0Jr9cx",
        "outputId": "5bce8eaf-5905-4779-807c-450e035843da"
      },
      "execution_count": null,
      "outputs": [
        {
          "output_type": "stream",
          "name": "stdout",
          "text": [
            "23:57:10 | ERROR: Draco mesh compression is not available because library could not be found at /content/4.0/python/lib/python3.10/site-packages/libextern_draco.so\n",
            "23:57:10 | INFO: Starting glTF 2.0 export\n",
            "23:57:10 | INFO: Extracting primitive: Casting_Shot - 8M0111257-1\n",
            "23:57:11 | INFO: Primitives created: 1\n",
            "23:57:11 | INFO: Finished glTF 2.0 export in 1.4270613193511963 s\n",
            "\n"
          ]
        },
        {
          "output_type": "execute_result",
          "data": {
            "text/plain": [
              "{'FINISHED'}"
            ]
          },
          "metadata": {},
          "execution_count": 24
        }
      ]
    },
    {
      "cell_type": "code",
      "source": [
        "bpy.ops.wm.open_mainfile(filepath=\"/content/meshed_geometry.blend\")\n",
        "material = bpy.data.materials.new(name=\"MyMaterial\")\n",
        "\n",
        "# Create a new shader node tree for the material\n",
        "material.use_nodes = True\n",
        "tree = material.node_tree\n",
        "nodes = tree.nodes\n",
        "\n",
        "# Clear existing nodes\n",
        "for node in nodes:\n",
        "    nodes.remove(node)\n",
        "\n",
        "# Create a new Principled BSDF node\n",
        "bsdf_node = nodes.new(type='ShaderNodeBsdfPrincipled')\n",
        "bsdf_node.location = (0, 0)  # Position the node in the node editor\n",
        "\n",
        "# Create a new Image Texture node\n",
        "texture_node = nodes.new(type='ShaderNodeTexImage')\n",
        "texture_node.location = (-200, 0)  # Position the node in the node editor\n",
        "\n",
        "# Set the path to the image texture\n",
        "texture_node.image = bpy.data.images.load(\"/content/marked_image_line.png\")\n",
        "\n",
        "# Connect the Image Texture node to the Base Color input of the Principled BSDF node\n",
        "base_color_link = tree.links.new(texture_node.outputs['Color'], bsdf_node.inputs['Base Color'])\n",
        "\n",
        "# Create a new Material Output node\n",
        "output_node = nodes.new(type='ShaderNodeOutputMaterial')\n",
        "output_node.location = (200, 0)  # Position the node in the node editor\n",
        "\n",
        "# Connect the Principled BSDF node to the Surface input of the Material Output node\n",
        "surface_link = tree.links.new(bsdf_node.outputs['BSDF'], output_node.inputs['Surface'])\n",
        "\n",
        "# Assign the material to the active object\n",
        "bpy.context.object.data.materials.append(material)\n",
        "bpy.ops.export_scene.gltf(filepath=\"/content/colored_tangent_geometry.glb\")"
      ],
      "metadata": {
        "colab": {
          "base_uri": "https://localhost:8080/"
        },
        "id": "rv5zbZjhpOnn",
        "outputId": "e2014180-dd03-44c5-a1bf-3de7e0b7ce85"
      },
      "execution_count": 26,
      "outputs": [
        {
          "output_type": "stream",
          "name": "stdout",
          "text": [
            "19:00:25 | ERROR: Draco mesh compression is not available because library could not be found at /content/4.0/python/lib/python3.10/site-packages/libextern_draco.so\n",
            "19:00:25 | INFO: Starting glTF 2.0 export\n",
            "19:00:26 | INFO: Extracting primitive: Casting_Shot - 8M0111257-1\n",
            "19:00:27 | INFO: Primitives created: 1\n",
            "19:00:27 | INFO: Finished glTF 2.0 export in 1.4326972961425781 s\n",
            "\n"
          ]
        },
        {
          "output_type": "execute_result",
          "data": {
            "text/plain": [
              "{'FINISHED'}"
            ]
          },
          "metadata": {},
          "execution_count": 26
        }
      ]
    },
    {
      "cell_type": "code",
      "source": [
        "files_to_delete = [\n",
        "    \"/content/meshed_geometry.blend\",\n",
        "    \"/content/remeshed_uv.obj\",\n",
        "    \"/content/marked_image_F.png\",\n",
        "    \"/content/marked_image_line.png\",\n",
        "    \"/content/blender_script.py\"\n",
        "]\n",
        "\n",
        "for file_path in files_to_delete:\n",
        "    if os.path.exists(file_path):\n",
        "        os.remove(file_path)"
      ],
      "metadata": {
        "id": "rDz2Q8Ce2Wv1"
      },
      "execution_count": null,
      "outputs": []
    }
  ]
}